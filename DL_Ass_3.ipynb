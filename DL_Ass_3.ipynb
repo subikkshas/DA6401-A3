{
  "nbformat": 4,
  "nbformat_minor": 0,
  "metadata": {
    "colab": {
      "provenance": [],
      "gpuType": "T4"
    },
    "kernelspec": {
      "name": "python3",
      "display_name": "Python 3"
    },
    "language_info": {
      "name": "python"
    },
    "accelerator": "GPU"
  },
  "cells": [
    {
      "cell_type": "markdown",
      "source": [
        "\n",
        "\n",
        "---\n",
        "\n"
      ],
      "metadata": {
        "id": "rqJzjNFXEJhg"
      }
    },
    {
      "cell_type": "markdown",
      "source": [
        "**WITHOUT ATTENTION - VANILLA**"
      ],
      "metadata": {
        "id": "GjTLoLCP5dHa"
      }
    },
    {
      "cell_type": "code",
      "source": [
        "# STEP 1: Mount Google Drive\n",
        "from google.colab import drive\n",
        "drive.mount('/content/drive')\n",
        "\n",
        "# STEP 2: Extract `.tar` file - Wrapped in Function\n",
        "import tarfile\n",
        "\n",
        "def extract_tar_file(tar_path, extract_path):\n",
        "    with tarfile.open(tar_path, 'r') as tar:\n",
        "        tar.extractall(path=extract_path)\n",
        "    print(\"Extraction complete.\")\n",
        "\n",
        "# Extract using function\n",
        "tar_path = '/content/drive/MyDrive/DL_Data/dakshina_dataset_v1.0.tar'\n",
        "extract_path = '/content/dakshina_dataset'\n",
        "extract_tar_file(tar_path, extract_path)\n",
        "\n",
        "# STEP 3: Preview Tamil Lexicon Files\n",
        "import pandas as pd\n",
        "\n",
        "# Path to Tamil lexicon file\n",
        "lexicon_path = extract_path + '/dakshina_dataset_v1.0/ta/lexicons/ta.translit.sampled.train.tsv'\n",
        "\n",
        "# Read file (tab separated: [native script]\\t[romanized])\n",
        "def read_data(data_path, characters=False):\n",
        "    with open(data_path, \"r\", encoding=\"utf-8\") as f:\n",
        "        lines = [line.split(\"\\t\") for line in f.read().split(\"\\n\") if line != '']\n",
        "    input, target = [val[1] for val in lines], [val[0] for val in lines]\n",
        "    if characters:\n",
        "        input, target = [list(inp_str) for inp_str in input], [list(tar_str) for tar_str in target]\n",
        "    return input, target\n",
        "\n",
        "START_CHAR = '\\t'\n",
        "END_CHAR = '\\n'\n",
        "BLANK_CHAR = ' '\n",
        "import numpy as np\n",
        "\n",
        "def process_data(input, enc_timesteps, input_char_enc, target=None, dec_timesteps=None, target_char_enc=None):\n",
        "    encoder_input = np.array([[input_char_enc[ch] for ch in string] + [input_char_enc[BLANK_CHAR]] * (enc_timesteps - len(string)) for string in input])\n",
        "    decoder_input, decoder_target = None, None\n",
        "    if target is not None and dec_timesteps is not None and target_char_enc is not None:\n",
        "        decoder_input = np.array([[target_char_enc[START_CHAR]] + [target_char_enc[ch] for ch in string] + [target_char_enc[END_CHAR]]\n",
        "                                    + [target_char_enc[BLANK_CHAR]] * (dec_timesteps - len(string) - 2) for string in target])\n",
        "        decoder_target = np.zeros((decoder_input.shape[0], dec_timesteps, len(target_char_enc)), dtype='float32')\n",
        "        for i in range(decoder_input.shape[0]):\n",
        "            for t, char_ind in enumerate(decoder_input[i]):\n",
        "                if t > 0:\n",
        "                    decoder_target[i,t-1,char_ind] = 1.0\n",
        "            decoder_target[i,t:,target_char_enc[BLANK_CHAR]] = 1.0\n",
        "    return encoder_input, decoder_input, decoder_target\n",
        "\n",
        "def encode_decode_characters(train_input, train_target, val_input, val_target):\n",
        "    input_char_enc = {}\n",
        "    input_char_dec = []\n",
        "    max_encoder_seq_length = 1\n",
        "    for string in train_input + val_input:\n",
        "        max_encoder_seq_length = max(max_encoder_seq_length, len(string))\n",
        "        for char in string:\n",
        "            if char not in input_char_enc:\n",
        "                input_char_enc[char] = len(input_char_dec)\n",
        "                input_char_dec.append(char)\n",
        "    if BLANK_CHAR not in input_char_enc:\n",
        "        input_char_enc[BLANK_CHAR] = len(input_char_dec)\n",
        "        input_char_dec.append(BLANK_CHAR)\n",
        "\n",
        "    target_char_enc = {}\n",
        "    target_char_dec = []\n",
        "    target_char_enc[START_CHAR] = len(target_char_dec)\n",
        "    target_char_dec.append(START_CHAR)\n",
        "    max_decoder_seq_length = 1\n",
        "    for string in train_target + val_target:\n",
        "        max_decoder_seq_length = max(max_decoder_seq_length, len(string)+2)\n",
        "        for char in string:\n",
        "            if char not in target_char_enc:\n",
        "                target_char_enc[char] = len(target_char_dec)\n",
        "                target_char_dec.append(char)\n",
        "    target_char_enc[END_CHAR] = len(target_char_dec)\n",
        "    target_char_dec.append(END_CHAR)\n",
        "    if BLANK_CHAR not in target_char_enc:\n",
        "        target_char_enc[BLANK_CHAR] = len(target_char_dec)\n",
        "        target_char_dec.append(BLANK_CHAR)\n",
        "\n",
        "    print(\"Number of training samples:\", len(train_input))\n",
        "    print(\"Number of validation samples:\", len(val_input))\n",
        "    print(\"Number of unique input tokens:\", len(input_char_dec))\n",
        "    print(\"Number of unique output tokens:\", len(target_char_dec))\n",
        "    print(\"Max sequence length for inputs:\", max_encoder_seq_length)\n",
        "    print(\"Max sequence length for outputs:\", max_decoder_seq_length)\n",
        "\n",
        "    return input_char_enc, input_char_dec, target_char_enc, target_char_dec, max_encoder_seq_length, max_decoder_seq_length\n",
        "\n"
      ],
      "metadata": {
        "colab": {
          "base_uri": "https://localhost:8080/"
        },
        "id": "Fz1Bv3uREKJQ",
        "outputId": "454fce5c-b0d4-403e-a301-f9f1ce57da6d"
      },
      "execution_count": 1,
      "outputs": [
        {
          "output_type": "stream",
          "name": "stdout",
          "text": [
            "Drive already mounted at /content/drive; to attempt to forcibly remount, call drive.mount(\"/content/drive\", force_remount=True).\n",
            "Extraction complete.\n"
          ]
        }
      ]
    },
    {
      "cell_type": "code",
      "source": [
        "input_char_enc = {}\n",
        "input_char_dec = []\n",
        "target_char_enc = {}\n",
        "target_char_dec = []\n",
        "max_encoder_seq_length = 0\n",
        "max_decoder_seq_length = 0\n",
        "\n",
        "# Read data files\n",
        "train_inp, train_out = read_data(extract_path + '/dakshina_dataset_v1.0/ta/lexicons/ta.translit.sampled.train.tsv')\n",
        "val_inp, val_out = read_data(extract_path + '/dakshina_dataset_v1.0/ta/lexicons/ta.translit.sampled.dev.tsv')\n",
        "test_inp, test_out = read_data(extract_path + '/dakshina_dataset_v1.0/ta/lexicons/ta.translit.sampled.test.tsv')\n",
        "\n",
        "# Encode characters and get vocabulary mappings and max lengths\n",
        "input_char_enc, input_char_dec, target_char_enc, target_char_dec, max_encoder_seq_length, max_decoder_seq_length = encode_decode_characters(\n",
        "    train_inp, train_out, val_inp, val_out)\n",
        "\n",
        "# Define PAD_token *after* input_char_enc has been populated\n",
        "# Also define SOS and EOS tokens for clarity, as they are used later\n",
        "PAD_token = input_char_enc[BLANK_CHAR]\n",
        "SOS_token = target_char_enc[START_CHAR]\n",
        "EOS_token = target_char_enc[END_CHAR]\n",
        "\n",
        "\n",
        "# Process data into model inputs\n",
        "train_enc_input, train_dec_input, train_dec_target = process_data(train_inp, max_encoder_seq_length, input_char_enc, train_out,\n",
        "                                                                  max_decoder_seq_length, target_char_enc)\n",
        "val_enc_input, val_dec_input, val_dec_target = process_data(val_inp, max_encoder_seq_length, input_char_enc, val_out,\n",
        "                                                            max_decoder_seq_length, target_char_enc)\n",
        "test_enc_input, test_dec_input, test_dec_target = process_data(test_inp, max_encoder_seq_length, input_char_enc, test_out,\n",
        "                                                               max_decoder_seq_length, target_char_enc)"
      ],
      "metadata": {
        "colab": {
          "base_uri": "https://localhost:8080/"
        },
        "id": "VSFSBAkZEVaI",
        "outputId": "291338ca-e1ed-45a5-a29f-1947d635c61a"
      },
      "execution_count": 2,
      "outputs": [
        {
          "output_type": "stream",
          "name": "stdout",
          "text": [
            "Number of training samples: 68218\n",
            "Number of validation samples: 6827\n",
            "Number of unique input tokens: 27\n",
            "Number of unique output tokens: 49\n",
            "Max sequence length for inputs: 30\n",
            "Max sequence length for outputs: 28\n"
          ]
        }
      ]
    },
    {
      "cell_type": "code",
      "source": [
        "# Cell 1: Imports and Setup\n",
        "import torch\n",
        "import torch.nn as nn\n",
        "import torch.nn.functional as F\n",
        "\n",
        "device = torch.device(\"cuda\" if torch.cuda.is_available() else \"cpu\")\n",
        "print(\"Using device:\", device)"
      ],
      "metadata": {
        "colab": {
          "base_uri": "https://localhost:8080/"
        },
        "id": "4ToMfJBWWkMs",
        "outputId": "c71f10f3-424d-4e0c-84e0-b7fe56bf6448"
      },
      "execution_count": 3,
      "outputs": [
        {
          "output_type": "stream",
          "name": "stdout",
          "text": [
            "Using device: cpu\n"
          ]
        }
      ]
    },
    {
      "cell_type": "code",
      "source": [
        "class Encoder(nn.Module):\n",
        "    def __init__(self, input_vocab_size, embedding_dim, hidden_dim, num_layers, cell_type='LSTM', dropout=0.2):\n",
        "        super().__init__()\n",
        "        self.embedding = nn.Embedding(input_vocab_size, embedding_dim)\n",
        "        self.cell_type = cell_type.upper()\n",
        "        if self.cell_type == 'LSTM':\n",
        "            self.rnn = nn.LSTM(embedding_dim, hidden_dim, num_layers=num_layers, dropout=dropout if num_layers > 1 else 0, batch_first=True)\n",
        "        elif self.cell_type == 'GRU':\n",
        "            self.rnn = nn.GRU(embedding_dim, hidden_dim, num_layers=num_layers, dropout=dropout if num_layers > 1 else 0, batch_first=True)\n",
        "        else:\n",
        "            self.rnn = nn.RNN(embedding_dim, hidden_dim, num_layers=num_layers, dropout=dropout if num_layers > 1 else 0, batch_first=True)\n",
        "\n",
        "    def forward(self, x):\n",
        "        embedded = self.embedding(x)\n",
        "        outputs, hidden = self.rnn(embedded)\n",
        "        return outputs, hidden\n",
        "\n",
        "class Decoder(nn.Module):\n",
        "    def __init__(self, output_vocab_size, embedding_dim, hidden_dim, num_layers, cell_type='LSTM', dropout=0.2):\n",
        "        super().__init__()\n",
        "        self.embedding = nn.Embedding(output_vocab_size, embedding_dim)\n",
        "        self.cell_type = cell_type.upper()\n",
        "        if self.cell_type == 'LSTM':\n",
        "            self.rnn = nn.LSTM(embedding_dim, hidden_dim, num_layers=num_layers, dropout=dropout if num_layers > 1 else 0, batch_first=True)\n",
        "        elif self.cell_type == 'GRU':\n",
        "            self.rnn = nn.GRU(embedding_dim, hidden_dim, num_layers=num_layers, dropout=dropout if num_layers > 1 else 0, batch_first=True)\n",
        "        else:\n",
        "            self.rnn = nn.RNN(embedding_dim, hidden_dim, num_layers=num_layers, dropout=dropout if num_layers > 1 else 0, batch_first=True)\n",
        "\n",
        "        self.fc_out = nn.Linear(hidden_dim, output_vocab_size)\n",
        "\n",
        "    def forward(self, x, hidden):\n",
        "        x = x.unsqueeze(1)  # (batch_size) -> (batch_size, 1)\n",
        "        embedded = self.embedding(x)\n",
        "\n",
        "        # Ensure the hidden state format matches the RNN cell type\n",
        "        if self.cell_type == 'LSTM':\n",
        "            # If the hidden input is not already a tuple (e.g., from a GRU/RNN encoder)\n",
        "            # wrap it into a tuple for LSTM\n",
        "            if not isinstance(hidden, tuple):\n",
        "                 # Assuming the hidden from GRU/RNN has shape (num_layers, batch_size, hidden_dim)\n",
        "                hidden = (hidden, hidden) # Use the same tensor for both h_n and c_n\n",
        "        else:\n",
        "            # If the hidden input is a tuple (e.g., from an LSTM encoder)\n",
        "            # take only the hidden state part for GRU/RNN\n",
        "            if isinstance(hidden, tuple):\n",
        "                hidden = hidden[0] # Take h_n\n",
        "\n",
        "        output, hidden = self.rnn(embedded, hidden)\n",
        "        prediction = self.fc_out(output.squeeze(1))  # (batch_size, vocab_size)\n",
        "        return prediction, hidden\n",
        "\n",
        "class Seq2Seq(nn.Module):\n",
        "    def __init__(self, encoder, decoder, device):\n",
        "        super().__init__()\n",
        "        self.encoder = encoder\n",
        "        self.decoder = decoder\n",
        "        self.device = device\n",
        "\n",
        "    def forward(self, src, trg, teacher_forcing_ratio=0.5):\n",
        "        batch_size = src.size(0)\n",
        "        trg_len = trg.size(1)\n",
        "        trg_vocab_size = self.decoder.fc_out.out_features\n",
        "\n",
        "        outputs = torch.zeros(batch_size, trg_len, trg_vocab_size).to(self.device)\n",
        "\n",
        "        # Encode input\n",
        "        encoder_outputs, hidden = self.encoder(src)\n",
        "\n",
        "        # Prepare initial hidden state for the decoder based on its cell type\n",
        "        if self.decoder.cell_type == 'LSTM':\n",
        "            if isinstance(hidden, tuple):\n",
        "                # If encoder is LSTM, use the last hidden and cell states\n",
        "                decoder_hidden = (hidden[0][-self.decoder.rnn.num_layers:], hidden[1][-self.decoder.rnn.num_layers:])\n",
        "            else:\n",
        "                 # If encoder is GRU/RNN, replicate the final hidden state for LSTM's cell state\n",
        "                decoder_hidden = (hidden[-self.decoder.rnn.num_layers:], hidden[-self.decoder.rnn.num_layers:])\n",
        "        else:\n",
        "            # For RNN and GRU, use the last hidden state\n",
        "             if isinstance(hidden, tuple):\n",
        "                # If encoder is LSTM, use the hidden state part of the tuple\n",
        "                decoder_hidden = hidden[0][-self.decoder.rnn.num_layers:]\n",
        "             else:\n",
        "                # If encoder is GRU/RNN, use the final hidden state\n",
        "                decoder_hidden = hidden[-self.decoder.rnn.num_layers:]\n",
        "\n",
        "\n",
        "        # First input to decoder is the start tokens\n",
        "        input = trg[:, 0]  # first token for each sequence\n",
        "\n",
        "        for t in range(1, trg_len):\n",
        "            # Pass the correctly formatted hidden state to the decoder\n",
        "            output, decoder_hidden = self.decoder(input, decoder_hidden)\n",
        "            outputs[:, t] = output\n",
        "            teacher_force = torch.rand(1).item() < teacher_forcing_ratio\n",
        "            top1 = output.argmax(1)\n",
        "            input = trg[:, t] if teacher_force else top1\n",
        "\n",
        "        return outputs\n",
        "\n",
        "    def predict(self, src, max_len=20):\n",
        "        \"\"\"Autoregressive inference function\"\"\"\n",
        "        self.eval()\n",
        "        with torch.no_grad():\n",
        "            # Encode the input\n",
        "            _, hidden = self.encoder(src)\n",
        "\n",
        "            # Initialize decoder hidden state\n",
        "            if self.decoder.cell_type == 'LSTM':\n",
        "                if isinstance(hidden, tuple):\n",
        "                    decoder_hidden = (hidden[0][-self.decoder.rnn.num_layers:],\n",
        "                                     hidden[1][-self.decoder.rnn.num_layers:])\n",
        "                else:\n",
        "                    decoder_hidden = (hidden[-self.decoder.rnn.num_layers:],\n",
        "                                     hidden[-self.decoder.rnn.num_layers:])\n",
        "            else:\n",
        "                if isinstance(hidden, tuple):\n",
        "                    decoder_hidden = hidden[0][-self.decoder.rnn.num_layers:]\n",
        "                else:\n",
        "                    decoder_hidden = hidden[-self.decoder.rnn.num_layers:]\n",
        "\n",
        "            # Start with SOS token (assuming index 0 is SOS)\n",
        "            batch_size = src.size(0)\n",
        "            input = torch.zeros(batch_size, dtype=torch.long).to(self.device)  # SOS token\n",
        "\n",
        "            outputs = []\n",
        "            for t in range(max_len):\n",
        "                output, decoder_hidden = self.decoder(input, decoder_hidden)\n",
        "                top1 = output.argmax(1)\n",
        "                outputs.append(top1)\n",
        "                input = top1  # Autoregressive - use prediction as next input\n",
        "\n",
        "            return torch.stack(outputs, dim=1)  # (batch_size, max_len)\n",
        ""
      ],
      "metadata": {
        "id": "14jFNMtWd1kS"
      },
      "execution_count": 4,
      "outputs": []
    },
    {
      "cell_type": "code",
      "source": [
        "!pip install wandb\n",
        "import wandb\n",
        "wandb.login(key=\"7ea09f7c4132c66373b03708516876ea8ecc67cc\")"
      ],
      "metadata": {
        "colab": {
          "base_uri": "https://localhost:8080/"
        },
        "id": "ZwcunWJCZZ_w",
        "outputId": "9e060386-aeb3-4527-f05f-7d8675466f71"
      },
      "execution_count": 5,
      "outputs": [
        {
          "output_type": "stream",
          "name": "stdout",
          "text": [
            "Requirement already satisfied: wandb in /usr/local/lib/python3.11/dist-packages (0.19.11)\n",
            "Requirement already satisfied: click!=8.0.0,>=7.1 in /usr/local/lib/python3.11/dist-packages (from wandb) (8.2.0)\n",
            "Requirement already satisfied: docker-pycreds>=0.4.0 in /usr/local/lib/python3.11/dist-packages (from wandb) (0.4.0)\n",
            "Requirement already satisfied: gitpython!=3.1.29,>=1.0.0 in /usr/local/lib/python3.11/dist-packages (from wandb) (3.1.44)\n",
            "Requirement already satisfied: platformdirs in /usr/local/lib/python3.11/dist-packages (from wandb) (4.3.8)\n",
            "Requirement already satisfied: protobuf!=4.21.0,!=5.28.0,<7,>=3.19.0 in /usr/local/lib/python3.11/dist-packages (from wandb) (5.29.4)\n",
            "Requirement already satisfied: psutil>=5.0.0 in /usr/local/lib/python3.11/dist-packages (from wandb) (5.9.5)\n",
            "Requirement already satisfied: pydantic<3 in /usr/local/lib/python3.11/dist-packages (from wandb) (2.11.4)\n",
            "Requirement already satisfied: pyyaml in /usr/local/lib/python3.11/dist-packages (from wandb) (6.0.2)\n",
            "Requirement already satisfied: requests<3,>=2.0.0 in /usr/local/lib/python3.11/dist-packages (from wandb) (2.32.3)\n",
            "Requirement already satisfied: sentry-sdk>=2.0.0 in /usr/local/lib/python3.11/dist-packages (from wandb) (2.28.0)\n",
            "Requirement already satisfied: setproctitle in /usr/local/lib/python3.11/dist-packages (from wandb) (1.3.6)\n",
            "Requirement already satisfied: setuptools in /usr/local/lib/python3.11/dist-packages (from wandb) (75.2.0)\n",
            "Requirement already satisfied: typing-extensions<5,>=4.4 in /usr/local/lib/python3.11/dist-packages (from wandb) (4.13.2)\n",
            "Requirement already satisfied: six>=1.4.0 in /usr/local/lib/python3.11/dist-packages (from docker-pycreds>=0.4.0->wandb) (1.17.0)\n",
            "Requirement already satisfied: gitdb<5,>=4.0.1 in /usr/local/lib/python3.11/dist-packages (from gitpython!=3.1.29,>=1.0.0->wandb) (4.0.12)\n",
            "Requirement already satisfied: annotated-types>=0.6.0 in /usr/local/lib/python3.11/dist-packages (from pydantic<3->wandb) (0.7.0)\n",
            "Requirement already satisfied: pydantic-core==2.33.2 in /usr/local/lib/python3.11/dist-packages (from pydantic<3->wandb) (2.33.2)\n",
            "Requirement already satisfied: typing-inspection>=0.4.0 in /usr/local/lib/python3.11/dist-packages (from pydantic<3->wandb) (0.4.0)\n",
            "Requirement already satisfied: charset-normalizer<4,>=2 in /usr/local/lib/python3.11/dist-packages (from requests<3,>=2.0.0->wandb) (3.4.2)\n",
            "Requirement already satisfied: idna<4,>=2.5 in /usr/local/lib/python3.11/dist-packages (from requests<3,>=2.0.0->wandb) (3.10)\n",
            "Requirement already satisfied: urllib3<3,>=1.21.1 in /usr/local/lib/python3.11/dist-packages (from requests<3,>=2.0.0->wandb) (2.4.0)\n",
            "Requirement already satisfied: certifi>=2017.4.17 in /usr/local/lib/python3.11/dist-packages (from requests<3,>=2.0.0->wandb) (2025.4.26)\n",
            "Requirement already satisfied: smmap<6,>=3.0.1 in /usr/local/lib/python3.11/dist-packages (from gitdb<5,>=4.0.1->gitpython!=3.1.29,>=1.0.0->wandb) (5.0.2)\n"
          ]
        },
        {
          "output_type": "stream",
          "name": "stderr",
          "text": [
            "\u001b[34m\u001b[1mwandb\u001b[0m: \u001b[33mWARNING\u001b[0m If you're specifying your api key in code, ensure this code is not shared publicly.\n",
            "\u001b[34m\u001b[1mwandb\u001b[0m: \u001b[33mWARNING\u001b[0m Consider setting the WANDB_API_KEY environment variable, or running `wandb login` from the command line.\n",
            "\u001b[34m\u001b[1mwandb\u001b[0m: Appending key for api.wandb.ai to your netrc file: /root/.netrc\n",
            "\u001b[34m\u001b[1mwandb\u001b[0m: Currently logged in as: \u001b[33msubikksha\u001b[0m (\u001b[33msubikksha-indian-institute-of-technology-madras\u001b[0m) to \u001b[32mhttps://api.wandb.ai\u001b[0m. Use \u001b[1m`wandb login --relogin`\u001b[0m to force relogin\n"
          ]
        },
        {
          "output_type": "execute_result",
          "data": {
            "text/plain": [
              "True"
            ]
          },
          "metadata": {},
          "execution_count": 5
        }
      ]
    },
    {
      "cell_type": "code",
      "source": [
        "PROJECT_NAME = \"DA6401_DL_ASSIGNMENT_03\"\n",
        "ENTITY = \"subikksha-indian-institute-of-technology-madras\""
      ],
      "metadata": {
        "id": "2xtKEMF32gRl"
      },
      "execution_count": 6,
      "outputs": []
    },
    {
      "cell_type": "code",
      "source": [
        "from torch.utils.data import DataLoader, TensorDataset\n",
        "\n",
        "def get_dataloaders(batch_size=64):\n",
        "    train_dataset = TensorDataset(torch.tensor(train_enc_input, dtype=torch.long),\n",
        "                                  torch.tensor(train_dec_input, dtype=torch.long),\n",
        "                                  torch.tensor(train_dec_target, dtype=torch.float))\n",
        "    val_dataset = TensorDataset(torch.tensor(val_enc_input, dtype=torch.long),\n",
        "                                torch.tensor(val_dec_input, dtype=torch.long),\n",
        "                                torch.tensor(val_dec_target, dtype=torch.float))\n",
        "\n",
        "    train_loader = DataLoader(train_dataset, batch_size=batch_size, shuffle=True)\n",
        "    val_loader = DataLoader(val_dataset, batch_size=batch_size)\n",
        "    return train_loader, val_loader\n"
      ],
      "metadata": {
        "id": "iRyLEBwEkQ1I"
      },
      "execution_count": 7,
      "outputs": []
    },
    {
      "cell_type": "code",
      "source": [
        "import wandb\n",
        "import torch.optim as optim\n",
        "import torch.nn.functional as F\n",
        "from torch.utils.data import DataLoader, TensorDataset\n",
        "from tqdm import tqdm\n",
        "\n",
        "def compute_accuracy(output, target):\n",
        "    # output: [batch_size * seq_len, vocab_size]\n",
        "    # target: [batch_size * seq_len]\n",
        "    preds = output.argmax(dim=1)\n",
        "    correct = (preds == target).float()\n",
        "    return correct.sum() / len(target)\n",
        "\n",
        "\n",
        "def train(model, iterator, optimizer, criterion, clip=1):\n",
        "    model.train()\n",
        "    epoch_loss = 0\n",
        "    epoch_acc = 0\n",
        "\n",
        "    for src, trg_inp, trg_target in tqdm(iterator, desc=\"Training\", leave=False):\n",
        "        src = src.to(device)\n",
        "        trg_inp = trg_inp.to(device)\n",
        "        trg_target = trg_target.to(device)\n",
        "\n",
        "        optimizer.zero_grad()\n",
        "        output = model(src, trg_inp, teacher_forcing_ratio=0.5)\n",
        "\n",
        "        output_dim = output.shape[-1]\n",
        "        output = output[:, 1:].reshape(-1, output_dim)\n",
        "        trg_target_flat = trg_target[:, 1:].reshape(-1, output_dim).argmax(1)\n",
        "\n",
        "        loss = criterion(output, trg_target_flat)\n",
        "        acc = compute_accuracy(output, trg_target_flat)\n",
        "\n",
        "        loss.backward()\n",
        "        torch.nn.utils.clip_grad_norm_(model.parameters(), clip)\n",
        "        optimizer.step()\n",
        "\n",
        "        epoch_loss += loss.item()\n",
        "        epoch_acc += acc.item()\n",
        "\n",
        "    return epoch_loss / len(iterator), epoch_acc / len(iterator)\n",
        "\n",
        "\n",
        "def evaluate(model, iterator, criterion):\n",
        "    model.eval()\n",
        "    epoch_loss = 0\n",
        "    epoch_acc = 0\n",
        "\n",
        "    with torch.no_grad():\n",
        "        for src, trg_inp, trg_target in tqdm(iterator, desc=\"Evaluating\", leave=False):\n",
        "            src = src.to(device)\n",
        "            trg_inp = trg_inp.to(device)\n",
        "            trg_target = trg_target.to(device)\n",
        "\n",
        "            output = model(src, trg_inp, teacher_forcing_ratio=0)\n",
        "            output_dim = output.shape[-1]\n",
        "            output = output[:, 1:].reshape(-1, output_dim)\n",
        "            trg_target_flat = trg_target[:, 1:].reshape(-1, output_dim).argmax(1)\n",
        "\n",
        "            loss = criterion(output, trg_target_flat)\n",
        "            acc = compute_accuracy(output, trg_target_flat)\n",
        "\n",
        "            epoch_loss += loss.item()\n",
        "            epoch_acc += acc.item()\n",
        "\n",
        "    return epoch_loss / len(iterator), epoch_acc / len(iterator)\n",
        "\n"
      ],
      "metadata": {
        "id": "CLIKaeFGkOo9"
      },
      "execution_count": 8,
      "outputs": []
    },
    {
      "cell_type": "code",
      "source": [
        "from tqdm import tqdm\n",
        "\n",
        "def run():\n",
        "    # Initialize W&B first\n",
        "    wandb.init()\n",
        "\n",
        "    config = wandb.config\n",
        "\n",
        "    # Create custom run name using key hyperparameters\n",
        "    run_name = f\"{config.cell_type}_emb{config.embedding_size}_hid{config.hidden_size}_enc{config.encoder_layers}_dec{config.decoder_layers}_drop{int(config.dropout * 100)}_lr{config.learning_rate:.0e}\"\n",
        "\n",
        "    # Update run name after initialization\n",
        "    wandb.run.name = run_name\n",
        "\n",
        "\n",
        "    print(f\"\\n▶️ Starting Trial: {wandb.run.name} (ID: {wandb.run.id})\")\n",
        "    print(f\"🔧 Config: {dict(config)}\")\n",
        "\n",
        "    train_loader, val_loader = get_dataloaders(batch_size=64)\n",
        "\n",
        "    input_vocab_size = len(input_char_enc)\n",
        "    output_vocab_size = len(target_char_enc)\n",
        "\n",
        "    encoder = Encoder(\n",
        "        input_vocab_size=input_vocab_size,\n",
        "        embedding_dim=config.embedding_size,\n",
        "        hidden_dim=config.hidden_size,\n",
        "        num_layers=config.encoder_layers,\n",
        "        cell_type=config.cell_type,\n",
        "        dropout=config.dropout\n",
        "    )\n",
        "\n",
        "    decoder = Decoder(\n",
        "        output_vocab_size=output_vocab_size,\n",
        "        embedding_dim=config.embedding_size,\n",
        "        hidden_dim=config.hidden_size,\n",
        "        num_layers=config.decoder_layers,\n",
        "        cell_type=config.cell_type,\n",
        "        dropout=config.dropout\n",
        "    )\n",
        "\n",
        "    model = Seq2Seq(encoder, decoder, device).to(device)\n",
        "    optimizer = optim.Adam(model.parameters(), lr=config.learning_rate)\n",
        "    criterion = nn.CrossEntropyLoss()\n",
        "\n",
        "    n_epochs = 5\n",
        "    best_val_loss = float('inf')\n",
        "\n",
        "    for epoch in range(n_epochs):\n",
        "        print(f\"  📦 Epoch {epoch+1}/{n_epochs}\")\n",
        "        train_loss, train_acc = train(model, train_loader, optimizer, criterion)\n",
        "        val_loss, val_acc = evaluate(model, val_loader, criterion)\n",
        "\n",
        "        print(f\"    🔹 Train Acc: {train_acc*100:.2f}% | Val Acc: {val_acc*100:.2f}%\")\n",
        "\n",
        "        wandb.log({\n",
        "            'train_loss': train_loss,\n",
        "            'val_loss': val_loss,\n",
        "            'train_accuracy': train_acc,\n",
        "            'val_accuracy': val_acc,\n",
        "            'epoch': epoch+1\n",
        "        })\n",
        "\n",
        "\n"
      ],
      "metadata": {
        "id": "LEwlEi5VkUl0"
      },
      "execution_count": 9,
      "outputs": []
    },
    {
      "cell_type": "code",
      "source": [
        "sweep_config = {\n",
        "    'method': 'bayes',\n",
        "    'metric': {'name': 'val_accuracy', 'goal': 'minimize'},\n",
        "    'parameters': {\n",
        "        'embedding_size': {'values': [16, 32, 64, 256]},\n",
        "        'encoder_layers': {'values': [1, 2, 3]},\n",
        "        'decoder_layers': {'values': [1, 2, 3]},\n",
        "        'hidden_size': {'values': [16, 32, 64, 256]},\n",
        "        'cell_type': {'values': ['RNN', 'GRU', 'LSTM']},\n",
        "        'dropout': {'values': [0.2, 0.3]},\n",
        "        'learning_rate': {\n",
        "            'min': 1e-4,\n",
        "            'max': 5e-3,\n",
        "            'distribution': 'log_uniform_values'\n",
        "        }\n",
        "    }\n",
        "}\n",
        "\n",
        "\n",
        "#sweep_id = wandb.sweep(sweep_config, project=PROJECT_NAME, entity=ENTITY)\n",
        "sweep_id = 'ojhravqr'\n",
        "wandb.agent(sweep_id, run, count=10, project=PROJECT_NAME, entity=ENTITY)"
      ],
      "metadata": {
        "colab": {
          "base_uri": "https://localhost:8080/"
        },
        "id": "70JSWkBUkVH-",
        "outputId": "7bf2997e-93d4-4460-ff72-2d60c97f52a3"
      },
      "execution_count": 11,
      "outputs": [
        {
          "output_type": "stream",
          "name": "stderr",
          "text": [
            "\u001b[34m\u001b[1mwandb\u001b[0m: Agent Starting Run: 3q4raqvd with config:\n",
            "\u001b[34m\u001b[1mwandb\u001b[0m: \tcell_type: LSTM\n",
            "\u001b[34m\u001b[1mwandb\u001b[0m: \tdecoder_layers: 2\n",
            "\u001b[34m\u001b[1mwandb\u001b[0m: \tdropout: 0.3\n",
            "\u001b[34m\u001b[1mwandb\u001b[0m: \tembedding_size: 64\n",
            "\u001b[34m\u001b[1mwandb\u001b[0m: \tencoder_layers: 1\n",
            "\u001b[34m\u001b[1mwandb\u001b[0m: \thidden_size: 16\n",
            "\u001b[34m\u001b[1mwandb\u001b[0m: \tlearning_rate: 0.00012019242628414603\n",
            "\u001b[34m\u001b[1mwandb\u001b[0m: Ctrl + C detected. Stopping sweep.\n"
          ]
        }
      ]
    },
    {
      "cell_type": "code",
      "source": [
        "sweep_id = 'ojhravqr'\n",
        "\n",
        "api = wandb.Api()\n",
        "\n",
        "# Fetch the sweep\n",
        "sweep = api.sweep(f\"{ENTITY}/{PROJECT_NAME}/{sweep_id}\")\n",
        "\n",
        "# Get all runs in the sweep\n",
        "runs = sweep.runs\n",
        "\n",
        "# Sort runs by validation accuracy (or other metric)\n",
        "best_run = sorted(runs, key=lambda r: r.summary.get(\"val_accuracy\", 0), reverse=True)[0]\n",
        "\n",
        "# Print best metrics and hyperparameters\n",
        "print(\"\\n✅ Best Run Summary:\")\n",
        "print(f\"Run Name: {best_run.name}\")\n",
        "print(f\"Run ID: {best_run.id}\")\n",
        "print(f\"Validation Accuracy: {best_run.summary.get('val_accuracy'):.4f}\")\n",
        "\n",
        "print(\"\\n📌 Best Hyperparameters:\")\n",
        "for key, value in best_run.config.items():\n",
        "    if not key.startswith(\"_\"):  # Skip internal W&B keys\n",
        "        print(f\"{key}: {value}\")"
      ],
      "metadata": {
        "colab": {
          "base_uri": "https://localhost:8080/"
        },
        "id": "6e8WcaCpTyqn",
        "outputId": "20563116-d773-4563-ac27-e18049f0af9d"
      },
      "execution_count": 10,
      "outputs": [
        {
          "output_type": "stream",
          "name": "stdout",
          "text": [
            "\n",
            "✅ Best Run Summary:\n",
            "Run Name: GRU_emb16_hid256_enc2_dec1_drop20_lr5e-04\n",
            "Run ID: zxzspzyp\n",
            "Validation Accuracy: 0.9138\n",
            "\n",
            "📌 Best Hyperparameters:\n",
            "dropout: 0.2\n",
            "cell_type: GRU\n",
            "hidden_size: 256\n",
            "learning_rate: 0.0005343119656460954\n",
            "decoder_layers: 1\n",
            "embedding_size: 16\n",
            "encoder_layers: 2\n"
          ]
        }
      ]
    },
    {
      "cell_type": "markdown",
      "source": [
        "\n",
        "\n",
        "---\n",
        "\n",
        "**ALL HYPERPARAM SWEPT OVER**"
      ],
      "metadata": {
        "id": "JNrekK4GUCYN"
      }
    },
    {
      "cell_type": "code",
      "source": [
        "print(f\"\\n📊 Total runs in sweep `{sweep_id}`: {len(runs)}\\n\")\n",
        "\n",
        "# Loop through each run and print its config\n",
        "for i, run in enumerate(runs):\n",
        "    print(f\"🔹 Run {i+1} (ID: {run.id})\")\n",
        "    for key, val in run.config.items():\n",
        "        if not key.startswith('_'):  # Skip internal W&B keys\n",
        "            print(f\"  {key}: {val}\")\n",
        "    print(\"-\" * 40)"
      ],
      "metadata": {
        "colab": {
          "base_uri": "https://localhost:8080/"
        },
        "id": "-l7hF4WqU5_O",
        "outputId": "1100e04c-7bfd-4b60-e249-0a3756690eb8"
      },
      "execution_count": 11,
      "outputs": [
        {
          "output_type": "stream",
          "name": "stdout",
          "text": [
            "\n",
            "📊 Total runs in sweep `ojhravqr`: 21\n",
            "\n",
            "🔹 Run 1 (ID: 3q4raqvd)\n",
            "  dropout: 0.3\n",
            "  cell_type: LSTM\n",
            "  hidden_size: 16\n",
            "  learning_rate: 0.00012019242628414603\n",
            "  decoder_layers: 2\n",
            "  embedding_size: 64\n",
            "  encoder_layers: 1\n",
            "----------------------------------------\n",
            "🔹 Run 2 (ID: sjd28wvw)\n",
            "  dropout: 0.3\n",
            "  cell_type: LSTM\n",
            "  hidden_size: 16\n",
            "  learning_rate: 0.0001470470826781876\n",
            "  decoder_layers: 1\n",
            "  embedding_size: 256\n",
            "  encoder_layers: 2\n",
            "----------------------------------------\n",
            "🔹 Run 3 (ID: n3u9ueya)\n",
            "  dropout: 0.3\n",
            "  cell_type: LSTM\n",
            "  hidden_size: 16\n",
            "  learning_rate: 0.00018526982233281936\n",
            "  decoder_layers: 1\n",
            "  embedding_size: 256\n",
            "  encoder_layers: 3\n",
            "----------------------------------------\n",
            "🔹 Run 4 (ID: lclekymc)\n",
            "  dropout: 0.2\n",
            "  cell_type: LSTM\n",
            "  hidden_size: 16\n",
            "  learning_rate: 0.000105578730147909\n",
            "  decoder_layers: 1\n",
            "  embedding_size: 256\n",
            "  encoder_layers: 2\n",
            "----------------------------------------\n",
            "🔹 Run 5 (ID: nij8p2iv)\n",
            "  dropout: 0.3\n",
            "  cell_type: LSTM\n",
            "  hidden_size: 16\n",
            "  learning_rate: 0.00019723176220993693\n",
            "  decoder_layers: 2\n",
            "  embedding_size: 16\n",
            "  encoder_layers: 3\n",
            "----------------------------------------\n",
            "🔹 Run 6 (ID: x5rj3oma)\n",
            "  dropout: 0.3\n",
            "  cell_type: LSTM\n",
            "  hidden_size: 16\n",
            "  learning_rate: 0.00016704787615826847\n",
            "  decoder_layers: 1\n",
            "  embedding_size: 64\n",
            "  encoder_layers: 3\n",
            "----------------------------------------\n",
            "🔹 Run 7 (ID: mvgiqq45)\n",
            "  dropout: 0.3\n",
            "  cell_type: LSTM\n",
            "  hidden_size: 16\n",
            "  learning_rate: 0.0001178727285259982\n",
            "  decoder_layers: 2\n",
            "  embedding_size: 16\n",
            "  encoder_layers: 3\n",
            "----------------------------------------\n",
            "🔹 Run 8 (ID: 6xlfnfxh)\n",
            "  dropout: 0.3\n",
            "  cell_type: LSTM\n",
            "  hidden_size: 16\n",
            "  learning_rate: 0.00013391179866841372\n",
            "  decoder_layers: 2\n",
            "  embedding_size: 64\n",
            "  encoder_layers: 3\n",
            "----------------------------------------\n",
            "🔹 Run 9 (ID: rviebex0)\n",
            "  dropout: 0.3\n",
            "  cell_type: LSTM\n",
            "  hidden_size: 16\n",
            "  learning_rate: 0.00022239253402139332\n",
            "  decoder_layers: 1\n",
            "  embedding_size: 256\n",
            "  encoder_layers: 2\n",
            "----------------------------------------\n",
            "🔹 Run 10 (ID: tarwz2hr)\n",
            "  dropout: 0.3\n",
            "  cell_type: LSTM\n",
            "  hidden_size: 16\n",
            "  learning_rate: 0.0001519423368012199\n",
            "  decoder_layers: 1\n",
            "  embedding_size: 256\n",
            "  encoder_layers: 1\n",
            "----------------------------------------\n",
            "🔹 Run 11 (ID: wqyo865c)\n",
            "  dropout: 0.3\n",
            "  cell_type: LSTM\n",
            "  hidden_size: 16\n",
            "  learning_rate: 0.00011347122803202848\n",
            "  decoder_layers: 1\n",
            "  embedding_size: 32\n",
            "  encoder_layers: 1\n",
            "----------------------------------------\n",
            "🔹 Run 12 (ID: 73yb52gs)\n",
            "  dropout: 0.3\n",
            "  cell_type: LSTM\n",
            "  hidden_size: 16\n",
            "  learning_rate: 0.000247043686706202\n",
            "  decoder_layers: 1\n",
            "  embedding_size: 256\n",
            "  encoder_layers: 3\n",
            "----------------------------------------\n",
            "🔹 Run 13 (ID: 6kbg2u2a)\n",
            "  dropout: 0.3\n",
            "  cell_type: LSTM\n",
            "  hidden_size: 16\n",
            "  learning_rate: 0.00013781560946365753\n",
            "  decoder_layers: 3\n",
            "  embedding_size: 32\n",
            "  encoder_layers: 3\n",
            "----------------------------------------\n",
            "🔹 Run 14 (ID: mzq81ukj)\n",
            "  dropout: 0.3\n",
            "  cell_type: LSTM\n",
            "  hidden_size: 16\n",
            "  learning_rate: 0.00012738010639065986\n",
            "  decoder_layers: 3\n",
            "  embedding_size: 64\n",
            "  encoder_layers: 3\n",
            "----------------------------------------\n",
            "🔹 Run 15 (ID: agx2ds8l)\n",
            "  dropout: 0.3\n",
            "  cell_type: LSTM\n",
            "  hidden_size: 32\n",
            "  learning_rate: 0.000506279571716214\n",
            "  decoder_layers: 3\n",
            "  embedding_size: 32\n",
            "  encoder_layers: 3\n",
            "----------------------------------------\n",
            "🔹 Run 16 (ID: lndlcyjv)\n",
            "  dropout: 0.3\n",
            "  cell_type: LSTM\n",
            "  hidden_size: 32\n",
            "  learning_rate: 0.0005261532777152821\n",
            "  decoder_layers: 3\n",
            "  embedding_size: 16\n",
            "  encoder_layers: 3\n",
            "----------------------------------------\n",
            "🔹 Run 17 (ID: 28iubb9r)\n",
            "  dropout: 0.3\n",
            "  cell_type: GRU\n",
            "  hidden_size: 32\n",
            "  learning_rate: 0.0002093786072837401\n",
            "  decoder_layers: 3\n",
            "  embedding_size: 32\n",
            "  encoder_layers: 3\n",
            "----------------------------------------\n",
            "🔹 Run 18 (ID: 6xen8jxa)\n",
            "  dropout: 0.3\n",
            "  cell_type: LSTM\n",
            "  hidden_size: 32\n",
            "  learning_rate: 0.0006832740507475649\n",
            "  decoder_layers: 1\n",
            "  embedding_size: 64\n",
            "  encoder_layers: 1\n",
            "----------------------------------------\n",
            "🔹 Run 19 (ID: fj2x2kwn)\n",
            "  dropout: 0.3\n",
            "  cell_type: RNN\n",
            "  hidden_size: 32\n",
            "  learning_rate: 0.0021837555899159194\n",
            "  decoder_layers: 3\n",
            "  embedding_size: 64\n",
            "  encoder_layers: 1\n",
            "----------------------------------------\n",
            "🔹 Run 20 (ID: 3ppaeh7l)\n",
            "  dropout: 0.3\n",
            "  cell_type: GRU\n",
            "  hidden_size: 16\n",
            "  learning_rate: 0.00046917152440081774\n",
            "  decoder_layers: 3\n",
            "  embedding_size: 16\n",
            "  encoder_layers: 3\n",
            "----------------------------------------\n",
            "🔹 Run 21 (ID: zxzspzyp)\n",
            "  dropout: 0.2\n",
            "  cell_type: GRU\n",
            "  hidden_size: 256\n",
            "  learning_rate: 0.0005343119656460954\n",
            "  decoder_layers: 1\n",
            "  embedding_size: 16\n",
            "  encoder_layers: 2\n",
            "----------------------------------------\n"
          ]
        }
      ]
    },
    {
      "cell_type": "code",
      "source": [
        "# file ipython-input-17-ec59f218c058\n",
        "best_config = {\n",
        "    \"dropout\": 0.2,\n",
        "    \"cell_type\": \"GRU\",\n",
        "    \"hidden_size\": 256,\n",
        "    \"learning_rate\": 0.0005343119656460954,\n",
        "    \"decoder_layers\": 1,\n",
        "    \"embedding_size\": 16,\n",
        "    \"encoder_layers\": 2,\n",
        "}\n",
        "\n",
        "# Assuming input_char_enc and target_char_enc are still available from previous cells\n",
        "input_vocab_size = len(input_char_enc)\n",
        "output_vocab_size = len(target_char_enc)\n",
        "\n",
        "# Instantiate the Encoder and Decoder using the best_config\n",
        "encoder = Encoder(\n",
        "    input_vocab_size=input_vocab_size,\n",
        "    embedding_dim=best_config['embedding_size'],\n",
        "    hidden_dim=best_config['hidden_size'],\n",
        "    num_layers=best_config['encoder_layers'],\n",
        "    cell_type=best_config['cell_type'],\n",
        "    dropout=best_config['dropout']\n",
        ")\n",
        "\n",
        "decoder = Decoder(\n",
        "    output_vocab_size=output_vocab_size,\n",
        "    embedding_dim=best_config['embedding_size'],\n",
        "    hidden_dim=best_config['hidden_size'],\n",
        "    num_layers=best_config['decoder_layers'],\n",
        "    cell_type=best_config['cell_type'],\n",
        "    dropout=best_config['dropout']\n",
        ")\n",
        "\n",
        "\n",
        "# Train best model on full train+val\n",
        "# Instantiate Seq2Seq with the created encoder, decoder, and device\n",
        "model = Seq2Seq(encoder, decoder, device).to(device)\n",
        "optimizer = torch.optim.Adam(model.parameters(), lr=best_config[\"learning_rate\"])\n",
        "criterion = nn.CrossEntropyLoss()\n",
        "\n",
        "# Get the data loaders again to access the datasets\n",
        "train_loader, val_loader = get_dataloaders(batch_size=64)\n",
        "\n",
        "# Combine train + val\n",
        "# Access the dataset attribute from the loaders\n",
        "combined_dataset = torch.utils.data.ConcatDataset([train_loader.dataset, val_loader.dataset])\n",
        "combined_loader = DataLoader(combined_dataset, batch_size=64, shuffle=True)\n",
        "\n",
        "EPOCHS = 5  # increase as desired\n",
        "\n",
        "for epoch in range(EPOCHS):\n",
        "    train_loss, train_acc = train(model, combined_loader, optimizer, criterion)\n",
        "    print(f\"Epoch {epoch+1}/{EPOCHS} - Loss: {train_loss:.4f} - Accuracy: {train_acc:.4f}\")\n",
        "\n",
        "# Save the Best model\n",
        "torch.save(model.state_dict(), \"/content/drive/MyDrive/best_vanilla_model_longtrain.pt\")\n",
        "\n",
        "\n"
      ],
      "metadata": {
        "colab": {
          "base_uri": "https://localhost:8080/"
        },
        "id": "N3EFq6hBWby5",
        "outputId": "3f831aa5-d1e1-4688-da35-a3324fed7100"
      },
      "execution_count": 20,
      "outputs": [
        {
          "output_type": "stream",
          "name": "stderr",
          "text": []
        },
        {
          "output_type": "stream",
          "name": "stdout",
          "text": [
            "Epoch 1/5 - Loss: 0.9498 - Accuracy: 0.7346\n"
          ]
        },
        {
          "output_type": "stream",
          "name": "stderr",
          "text": []
        },
        {
          "output_type": "stream",
          "name": "stdout",
          "text": [
            "Epoch 2/5 - Loss: 0.6258 - Accuracy: 0.8113\n"
          ]
        },
        {
          "output_type": "stream",
          "name": "stderr",
          "text": []
        },
        {
          "output_type": "stream",
          "name": "stdout",
          "text": [
            "Epoch 3/5 - Loss: 0.4010 - Accuracy: 0.8837\n"
          ]
        },
        {
          "output_type": "stream",
          "name": "stderr",
          "text": []
        },
        {
          "output_type": "stream",
          "name": "stdout",
          "text": [
            "Epoch 4/5 - Loss: 0.3012 - Accuracy: 0.9158\n"
          ]
        },
        {
          "output_type": "stream",
          "name": "stderr",
          "text": []
        },
        {
          "output_type": "stream",
          "name": "stdout",
          "text": [
            "Epoch 5/5 - Loss: 0.2484 - Accuracy: 0.9317\n"
          ]
        }
      ]
    },
    {
      "cell_type": "code",
      "source": [
        "# Now test\n",
        "# Need to create the test_loader similar to train and val loaders\n",
        "test_dataset = TensorDataset(torch.tensor(test_enc_input, dtype=torch.long),\n",
        "                              torch.tensor(test_dec_input, dtype=torch.long),\n",
        "                              torch.tensor(test_dec_target, dtype=torch.float))\n",
        "test_loader = DataLoader(test_dataset, batch_size=64) # Use the same batch size as others\n",
        "\n",
        "test_loss, test_acc = evaluate(model, test_loader, criterion) # Removed test_predictions as evaluate doesn't return it\n",
        "print(f\"Test Loss: {test_loss:.4f}\")\n",
        "print(f\"✅ Test Accuracy: {test_acc * 100:.2f}%\")"
      ],
      "metadata": {
        "colab": {
          "base_uri": "https://localhost:8080/"
        },
        "id": "6IAu7jWjW0sj",
        "outputId": "6f5aae26-0557-496a-f715-6aa7a5a6921e"
      },
      "execution_count": 21,
      "outputs": [
        {
          "output_type": "stream",
          "name": "stderr",
          "text": [
            "                                                             "
          ]
        },
        {
          "output_type": "stream",
          "name": "stdout",
          "text": [
            "Test Loss: 0.3029\n",
            "✅ Test Accuracy: 91.87%\n"
          ]
        },
        {
          "output_type": "stream",
          "name": "stderr",
          "text": [
            "\r"
          ]
        }
      ]
    },
    {
      "cell_type": "code",
      "source": [
        "# Test Function with Inference\n",
        "def test(model, test_loader, criterion, max_len=20):\n",
        "    model.eval()\n",
        "    test_loss = 0\n",
        "    test_acc = 0\n",
        "    all_predictions = []\n",
        "    all_targets = []\n",
        "    all_inputs = []\n",
        "\n",
        "    with torch.no_grad():\n",
        "        for src, trg_inp, trg_target in tqdm(test_loader, desc=\"Testing\"):\n",
        "            src = src.to(device)\n",
        "            trg_target = trg_target.to(device)\n",
        "\n",
        "            # 1. Calculate loss and accuracy (teacher forcing)\n",
        "            output = model(src, trg_inp.to(device), teacher_forcing_ratio=0)\n",
        "            output_dim = output.shape[-1]\n",
        "            output_flat = output[:, 1:].reshape(-1, output_dim)\n",
        "            trg_target_flat = trg_target[:, 1:].reshape(-1, output_dim).argmax(1)\n",
        "\n",
        "            loss = criterion(output_flat, trg_target_flat)\n",
        "            acc = compute_accuracy(output_flat, trg_target_flat)\n",
        "\n",
        "            test_loss += loss.item()\n",
        "            test_acc += acc.item()\n",
        "\n",
        "            # 2. Run autoregressive inference for examples\n",
        "            predictions = model.predict(src, max_len=max_len)\n",
        "\n",
        "            # Store results for analysis\n",
        "            for i in range(src.size(0)):\n",
        "                # Process input\n",
        "                input_indices = src[i].cpu().numpy()\n",
        "                # Use input_char_enc (which is a dict) to get the character\n",
        "                input_text = ''.join([input_char_dec[idx] if 0 <= idx < len(input_char_dec) else '?'\n",
        "                                      for idx in input_indices if idx != PAD_token])\n",
        "\n",
        "                # Process prediction\n",
        "                pred_indices = predictions[i].cpu().numpy()\n",
        "                # Use target_char_dec (which is a list) to get the character by index\n",
        "                pred_text = ''.join([target_char_dec[idx] if 0 <= idx < len(target_char_dec) else '?'\n",
        "                                 for idx in pred_indices\n",
        "                                 if idx not in {SOS_token, PAD_token}])\n",
        "\n",
        "                # Process true target\n",
        "                true_indices = trg_target[i].argmax(-1).cpu().numpy()\n",
        "                # Use target_char_dec (which is a list) to get the character by index\n",
        "                true_text = ''.join([target_char_dec[idx] if 0 <= idx < len(target_char_dec) else '?'\n",
        "                                   for idx in true_indices\n",
        "                                   if idx not in {SOS_token, EOS_token, PAD_token}])\n",
        "\n",
        "                all_inputs.append(input_text)\n",
        "                all_predictions.append(pred_text)\n",
        "                all_targets.append(true_text)\n",
        "\n",
        "    # Calculate averages\n",
        "    avg_loss = test_loss / len(test_loader)\n",
        "    avg_acc = test_acc / len(test_loader)\n",
        "\n",
        "    # Print some examples\n",
        "    print(\"\\n📋 Sample Predictions:\")\n",
        "    for i in range(min(5, len(all_inputs))):\n",
        "        print(f\"\\nExample {i+1}:\")\n",
        "        print(f\"Input:    {all_inputs[i]}\")\n",
        "        print(f\"Predicted: {all_predictions[i]}\")\n",
        "        print(f\"True:      {all_targets[i]}\")\n",
        "        print(\"-\" * 50)\n",
        "\n",
        "    # Calculate character-level accuracy\n",
        "    char_correct = 0\n",
        "    char_total = 0\n",
        "    for pred, true in zip(all_predictions, all_targets):\n",
        "        # Ensure both strings are the same length for comparison by padding the shorter one\n",
        "        max_len_pair = max(len(pred), len(true))\n",
        "        padded_pred = pred.ljust(max_len_pair)\n",
        "        padded_true = true.ljust(max_len_pair)\n",
        "\n",
        "        for p, t in zip(padded_pred, padded_true):\n",
        "             if p == t:\n",
        "                char_correct += 1\n",
        "             char_total += 1\n",
        "\n",
        "    char_acc = char_correct / char_total if char_total > 0 else 0\n",
        "\n",
        "    return avg_loss, avg_acc, all_inputs, all_predictions, all_targets, char_acc\n",
        "\n",
        "# Now run the test\n",
        "print(\"\\n🧪 Running comprehensive test...\")\n",
        "test_loss, test_acc, test_inputs, test_preds, test_targets, char_acc = test(model, test_loader, criterion)\n",
        "\n",
        "print(f\"\\n📊 Final Test Results:\")\n",
        "print(f\"Test Loss: {test_loss:.4f}\")\n",
        "print(f\"✅ Sequence Accuracy: {test_acc * 100:.2f}%\")\n",
        "print(f\"✅ Character Accuracy: {char_acc * 100:.2f}%\")\n",
        "\n",
        "'''# Log to W&B\n",
        "wandb.log({\n",
        "    'test_loss': test_loss,\n",
        "    'test_accuracy': test_acc,\n",
        "    'test_char_accuracy': char_acc,\n",
        "    'examples': wandb.Table(\n",
        "        columns=[\"Input\", \"Predicted\", \"True\"],\n",
        "        data=list(zip(test_inputs[:10], test_preds[:10], test_targets[:10]))  # Log first 10 examples\n",
        "    )\n",
        "})\n",
        "'''\n",
        "# Save predictions for further analysis\n",
        "results_df = pd.DataFrame({\n",
        "    'input': test_inputs,\n",
        "    'predicted': test_preds,\n",
        "    'true': test_targets,\n",
        "    'correct': [p == t for p, t in zip(test_preds, test_targets)]\n",
        "})\n",
        "results_df.to_csv('test_predictions.csv', index=False)\n",
        "print(\"💾 Saved test predictions to 'test_predictions.csv'\")"
      ],
      "metadata": {
        "colab": {
          "base_uri": "https://localhost:8080/"
        },
        "id": "F8GjPL0xK2Xj",
        "outputId": "cbd35873-46d2-4d77-c1a6-7095a5bf250c"
      },
      "execution_count": 25,
      "outputs": [
        {
          "output_type": "stream",
          "name": "stdout",
          "text": [
            "\n",
            "🧪 Running comprehensive test...\n"
          ]
        },
        {
          "output_type": "stream",
          "name": "stderr",
          "text": [
            "Testing: 100%|██████████| 108/108 [00:19<00:00,  5.41it/s]"
          ]
        },
        {
          "output_type": "stream",
          "name": "stdout",
          "text": [
            "\n",
            "📋 Sample Predictions:\n",
            "\n",
            "Example 1:\n",
            "Input:    faarm\n",
            "Predicted: ார்ம\n",
            "               \n",
            "True:      ஃபார்ம்                    \n",
            "--------------------------------------------------\n",
            "\n",
            "Example 2:\n",
            "Input:    farm\n",
            "Predicted: ார்்                \n",
            "True:      ஃபார்ம்                    \n",
            "--------------------------------------------------\n",
            "\n",
            "Example 3:\n",
            "Input:    form\n",
            "Predicted: ோர்்                \n",
            "True:      ஃபார்ம்                    \n",
            "--------------------------------------------------\n",
            "\n",
            "Example 4:\n",
            "Input:    hpaarm\n",
            "Predicted: ா்ரம்               \n",
            "True:      ஃபார்ம்                    \n",
            "--------------------------------------------------\n",
            "\n",
            "Example 5:\n",
            "Input:    face\n",
            "Predicted: ாச்\n",
            "                \n",
            "True:      ஃபேஸ்                      \n",
            "--------------------------------------------------\n",
            "\n",
            "📊 Final Test Results:\n",
            "Test Loss: 0.3029\n",
            "✅ Sequence Accuracy: 91.87%\n",
            "✅ Character Accuracy: 71.22%\n",
            "💾 Saved test predictions to 'test_predictions.csv'\n"
          ]
        },
        {
          "output_type": "stream",
          "name": "stderr",
          "text": [
            "\n"
          ]
        }
      ]
    },
    {
      "cell_type": "code",
      "source": [
        "!pip install matplotlib seaborn python-Levenshtein\n",
        "!apt-get install fonts-noto"
      ],
      "metadata": {
        "colab": {
          "base_uri": "https://localhost:8080/"
        },
        "id": "ZVdxPLsmFIPn",
        "outputId": "88c25e63-1419-47d8-e190-72b66938c95c"
      },
      "execution_count": 26,
      "outputs": [
        {
          "output_type": "stream",
          "name": "stdout",
          "text": [
            "Requirement already satisfied: matplotlib in /usr/local/lib/python3.11/dist-packages (3.10.0)\n",
            "Requirement already satisfied: seaborn in /usr/local/lib/python3.11/dist-packages (0.13.2)\n",
            "Collecting python-Levenshtein\n",
            "  Downloading python_levenshtein-0.27.1-py3-none-any.whl.metadata (3.7 kB)\n",
            "Requirement already satisfied: contourpy>=1.0.1 in /usr/local/lib/python3.11/dist-packages (from matplotlib) (1.3.2)\n",
            "Requirement already satisfied: cycler>=0.10 in /usr/local/lib/python3.11/dist-packages (from matplotlib) (0.12.1)\n",
            "Requirement already satisfied: fonttools>=4.22.0 in /usr/local/lib/python3.11/dist-packages (from matplotlib) (4.58.0)\n",
            "Requirement already satisfied: kiwisolver>=1.3.1 in /usr/local/lib/python3.11/dist-packages (from matplotlib) (1.4.8)\n",
            "Requirement already satisfied: numpy>=1.23 in /usr/local/lib/python3.11/dist-packages (from matplotlib) (2.0.2)\n",
            "Requirement already satisfied: packaging>=20.0 in /usr/local/lib/python3.11/dist-packages (from matplotlib) (24.2)\n",
            "Requirement already satisfied: pillow>=8 in /usr/local/lib/python3.11/dist-packages (from matplotlib) (11.2.1)\n",
            "Requirement already satisfied: pyparsing>=2.3.1 in /usr/local/lib/python3.11/dist-packages (from matplotlib) (3.2.3)\n",
            "Requirement already satisfied: python-dateutil>=2.7 in /usr/local/lib/python3.11/dist-packages (from matplotlib) (2.9.0.post0)\n",
            "Requirement already satisfied: pandas>=1.2 in /usr/local/lib/python3.11/dist-packages (from seaborn) (2.2.2)\n",
            "Collecting Levenshtein==0.27.1 (from python-Levenshtein)\n",
            "  Downloading levenshtein-0.27.1-cp311-cp311-manylinux_2_17_x86_64.manylinux2014_x86_64.whl.metadata (3.6 kB)\n",
            "Collecting rapidfuzz<4.0.0,>=3.9.0 (from Levenshtein==0.27.1->python-Levenshtein)\n",
            "  Downloading rapidfuzz-3.13.0-cp311-cp311-manylinux_2_17_x86_64.manylinux2014_x86_64.whl.metadata (12 kB)\n",
            "Requirement already satisfied: pytz>=2020.1 in /usr/local/lib/python3.11/dist-packages (from pandas>=1.2->seaborn) (2025.2)\n",
            "Requirement already satisfied: tzdata>=2022.7 in /usr/local/lib/python3.11/dist-packages (from pandas>=1.2->seaborn) (2025.2)\n",
            "Requirement already satisfied: six>=1.5 in /usr/local/lib/python3.11/dist-packages (from python-dateutil>=2.7->matplotlib) (1.17.0)\n",
            "Downloading python_levenshtein-0.27.1-py3-none-any.whl (9.4 kB)\n",
            "Downloading levenshtein-0.27.1-cp311-cp311-manylinux_2_17_x86_64.manylinux2014_x86_64.whl (161 kB)\n",
            "\u001b[2K   \u001b[90m━━━━━━━━━━━━━━━━━━━━━━━━━━━━━━━━━━━━━━━━\u001b[0m \u001b[32m161.7/161.7 kB\u001b[0m \u001b[31m9.2 MB/s\u001b[0m eta \u001b[36m0:00:00\u001b[0m\n",
            "\u001b[?25hDownloading rapidfuzz-3.13.0-cp311-cp311-manylinux_2_17_x86_64.manylinux2014_x86_64.whl (3.1 MB)\n",
            "\u001b[2K   \u001b[90m━━━━━━━━━━━━━━━━━━━━━━━━━━━━━━━━━━━━━━━━\u001b[0m \u001b[32m3.1/3.1 MB\u001b[0m \u001b[31m44.4 MB/s\u001b[0m eta \u001b[36m0:00:00\u001b[0m\n",
            "\u001b[?25hInstalling collected packages: rapidfuzz, Levenshtein, python-Levenshtein\n",
            "Successfully installed Levenshtein-0.27.1 python-Levenshtein-0.27.1 rapidfuzz-3.13.0\n",
            "Reading package lists... Done\n",
            "Building dependency tree... Done\n",
            "Reading state information... Done\n",
            "The following additional packages will be installed:\n",
            "  fonts-noto-cjk fonts-noto-cjk-extra fonts-noto-color-emoji fonts-noto-core\n",
            "  fonts-noto-extra fonts-noto-mono fonts-noto-ui-core fonts-noto-ui-extra\n",
            "  fonts-noto-unhinted\n",
            "The following NEW packages will be installed:\n",
            "  fonts-noto fonts-noto-cjk fonts-noto-cjk-extra fonts-noto-color-emoji\n",
            "  fonts-noto-core fonts-noto-extra fonts-noto-mono fonts-noto-ui-core\n",
            "  fonts-noto-ui-extra fonts-noto-unhinted\n",
            "0 upgraded, 10 newly installed, 0 to remove and 34 not upgraded.\n",
            "Need to get 317 MB of archives.\n",
            "After this operation, 790 MB of additional disk space will be used.\n",
            "Get:1 http://archive.ubuntu.com/ubuntu jammy/main amd64 fonts-noto-core all 20201225-1build1 [12.2 MB]\n",
            "Get:2 http://archive.ubuntu.com/ubuntu jammy/universe amd64 fonts-noto all 20201225-1build1 [16.8 kB]\n",
            "Get:3 http://archive.ubuntu.com/ubuntu jammy/main amd64 fonts-noto-cjk all 1:20220127+repack1-1 [61.2 MB]\n",
            "Get:4 http://archive.ubuntu.com/ubuntu jammy/main amd64 fonts-noto-cjk-extra all 1:20220127+repack1-1 [145 MB]\n",
            "Get:5 http://archive.ubuntu.com/ubuntu jammy-updates/main amd64 fonts-noto-color-emoji all 2.047-0ubuntu0.22.04.1 [10.0 MB]\n",
            "Get:6 http://archive.ubuntu.com/ubuntu jammy/universe amd64 fonts-noto-extra all 20201225-1build1 [72.4 MB]\n",
            "Get:7 http://archive.ubuntu.com/ubuntu jammy/main amd64 fonts-noto-mono all 20201225-1build1 [397 kB]\n",
            "Get:8 http://archive.ubuntu.com/ubuntu jammy/main amd64 fonts-noto-ui-core all 20201225-1build1 [1,420 kB]\n",
            "Get:9 http://archive.ubuntu.com/ubuntu jammy/universe amd64 fonts-noto-ui-extra all 20201225-1build1 [14.3 MB]\n",
            "Get:10 http://archive.ubuntu.com/ubuntu jammy/universe amd64 fonts-noto-unhinted all 20201225-1build1 [16.8 kB]\n",
            "Fetched 317 MB in 5s (60.9 MB/s)\n",
            "Selecting previously unselected package fonts-noto-core.\n",
            "(Reading database ... 126102 files and directories currently installed.)\n",
            "Preparing to unpack .../0-fonts-noto-core_20201225-1build1_all.deb ...\n",
            "Unpacking fonts-noto-core (20201225-1build1) ...\n",
            "Selecting previously unselected package fonts-noto.\n",
            "Preparing to unpack .../1-fonts-noto_20201225-1build1_all.deb ...\n",
            "Unpacking fonts-noto (20201225-1build1) ...\n",
            "Selecting previously unselected package fonts-noto-cjk.\n",
            "Preparing to unpack .../2-fonts-noto-cjk_1%3a20220127+repack1-1_all.deb ...\n",
            "Unpacking fonts-noto-cjk (1:20220127+repack1-1) ...\n",
            "Selecting previously unselected package fonts-noto-cjk-extra.\n",
            "Preparing to unpack .../3-fonts-noto-cjk-extra_1%3a20220127+repack1-1_all.deb ...\n",
            "Unpacking fonts-noto-cjk-extra (1:20220127+repack1-1) ...\n",
            "Selecting previously unselected package fonts-noto-color-emoji.\n",
            "Preparing to unpack .../4-fonts-noto-color-emoji_2.047-0ubuntu0.22.04.1_all.deb ...\n",
            "Unpacking fonts-noto-color-emoji (2.047-0ubuntu0.22.04.1) ...\n",
            "Selecting previously unselected package fonts-noto-extra.\n",
            "Preparing to unpack .../5-fonts-noto-extra_20201225-1build1_all.deb ...\n",
            "Unpacking fonts-noto-extra (20201225-1build1) ...\n",
            "Selecting previously unselected package fonts-noto-mono.\n",
            "Preparing to unpack .../6-fonts-noto-mono_20201225-1build1_all.deb ...\n",
            "Unpacking fonts-noto-mono (20201225-1build1) ...\n",
            "Selecting previously unselected package fonts-noto-ui-core.\n",
            "Preparing to unpack .../7-fonts-noto-ui-core_20201225-1build1_all.deb ...\n",
            "Unpacking fonts-noto-ui-core (20201225-1build1) ...\n",
            "Selecting previously unselected package fonts-noto-ui-extra.\n",
            "Preparing to unpack .../8-fonts-noto-ui-extra_20201225-1build1_all.deb ...\n",
            "Unpacking fonts-noto-ui-extra (20201225-1build1) ...\n",
            "Selecting previously unselected package fonts-noto-unhinted.\n",
            "Preparing to unpack .../9-fonts-noto-unhinted_20201225-1build1_all.deb ...\n",
            "Unpacking fonts-noto-unhinted (20201225-1build1) ...\n",
            "Setting up fonts-noto-mono (20201225-1build1) ...\n",
            "Setting up fonts-noto-color-emoji (2.047-0ubuntu0.22.04.1) ...\n",
            "Setting up fonts-noto-ui-extra (20201225-1build1) ...\n",
            "Setting up fonts-noto-extra (20201225-1build1) ...\n",
            "Setting up fonts-noto-cjk (1:20220127+repack1-1) ...\n",
            "Setting up fonts-noto-unhinted (20201225-1build1) ...\n",
            "Setting up fonts-noto-ui-core (20201225-1build1) ...\n",
            "Setting up fonts-noto-core (20201225-1build1) ...\n",
            "Setting up fonts-noto-cjk-extra (1:20220127+repack1-1) ...\n",
            "Setting up fonts-noto (20201225-1build1) ...\n",
            "Processing triggers for fontconfig (2.13.1-4.2ubuntu5) ...\n"
          ]
        }
      ]
    },
    {
      "cell_type": "code",
      "source": [
        "import matplotlib.pyplot as plt\n",
        "import matplotlib.patches as patches\n",
        "from matplotlib import rcParams\n",
        "from matplotlib.font_manager import FontProperties\n",
        "from Levenshtein import distance as levenshtein_distance\n",
        "import random\n",
        "\n",
        "# Font setup\n",
        "tamil_font = FontProperties(fname='/usr/share/fonts/truetype/noto/NotoSansTamil-Regular.ttf', size=12)\n",
        "\n",
        "# Helper functions\n",
        "def get_color(lev_dist):\n",
        "    \"\"\"Return color based on Levenshtein distance\"\"\"\n",
        "    if lev_dist == 0:\n",
        "        return 'green'\n",
        "    elif lev_dist <= 2:\n",
        "        return 'orange'\n",
        "    else:\n",
        "        return 'red'\n",
        "\n",
        "def decode_sequence(sequence, vocab_dict, ignore_special_chars=True):\n",
        "    \"\"\"Convert sequence of indices to text\"\"\"\n",
        "    special_tokens = {SOS_token, EOS_token, PAD_token}\n",
        "    text = []\n",
        "    for idx in sequence:\n",
        "        if ignore_special_chars and idx in special_tokens:\n",
        "            continue\n",
        "        text.append(vocab_dict.get(idx, '?'))\n",
        "    return ''.join(text)\n",
        "\n",
        "def predict_sample(model, src_tensor, input_vocab, target_vocab, max_len=20):\n",
        "    \"\"\"Run inference on a single sample\"\"\"\n",
        "    src_tensor = src_tensor.unsqueeze(0).to(device)  # Add batch dimension\n",
        "    pred_indices = model.predict(src_tensor, max_len=max_len)[0].cpu().numpy()\n",
        "    return decode_sequence(pred_indices, target_vocab)\n",
        "\n",
        "# Get samples - ensure we're using the test_loader you created earlier\n",
        "samples = random.sample(list(test_loader.dataset), 12)  # Get 12 random samples\n",
        "\n",
        "# Process samples\n",
        "rows = []\n",
        "for src, _, trg_target in samples:\n",
        "    input_text = decode_sequence(src.tolist(), input_char_dec)\n",
        "    target_text = decode_sequence(trg_target.argmax(-1).tolist(), target_char_dec)\n",
        "    predicted_text = predict_sample(model, src, input_char_dec, target_char_dec)\n",
        "    lev_dist = levenshtein_distance(predicted_text, target_text)\n",
        "\n",
        "    rows.append({\n",
        "        \"input\": input_text,\n",
        "        \"target\": target_text,\n",
        "        \"predicted\": predicted_text,\n",
        "        \"levenshtein\": lev_dist\n",
        "    })\n",
        "\n",
        "# Visualization\n",
        "n_cols = 3\n",
        "n_rows = -(-len(rows) // n_cols)  # Ceiling division\n",
        "fig, axarr = plt.subplots(n_rows, n_cols, figsize=(18, n_rows * 2.5))\n",
        "fig.patch.set_facecolor('#f8f9fa')\n",
        "plt.subplots_adjust(hspace=0.6)\n",
        "\n",
        "for idx, row in enumerate(rows):\n",
        "    ax = axarr[idx // n_cols, idx % n_cols] if n_rows > 1 else axarr[idx % n_cols]\n",
        "    ax.axis('off')\n",
        "    ax.set_xlim(0, 1)\n",
        "    ax.set_ylim(0, 1)\n",
        "\n",
        "    # Background color based on accuracy\n",
        "    ax.add_patch(patches.Rectangle((0, 0), 1, 1, color=get_color(row['levenshtein']), alpha=0.3))\n",
        "\n",
        "    # Text elements\n",
        "    ax.text(0.02, 0.85, \"Input:\", fontsize=10, fontweight='bold', va='top')\n",
        "    ax.text(0.18, 0.85, row['input'], fontsize=12, family='monospace')\n",
        "\n",
        "    ax.text(0.02, 0.65, \"Target:\", fontsize=10, fontweight='bold', va='top')\n",
        "    ax.text(0.18, 0.60, row['target'], fontproperties=tamil_font)\n",
        "\n",
        "    ax.text(0.02, 0.45, \"Predicted:\", fontsize=10, fontweight='bold', va='top')\n",
        "    ax.text(0.25, 0.40, row['predicted'], fontproperties=tamil_font)\n",
        "\n",
        "    ax.text(0.02, 0.2, f\"Lev. Distance: {row['levenshtein']}\", fontsize=9,\n",
        "            bbox=dict(facecolor='white', alpha=0.7, edgecolor='gray', boxstyle='round,pad=0.3'))\n",
        "\n",
        "# Hide unused subplots\n",
        "for j in range(len(rows), n_rows * n_cols):\n",
        "    ax = axarr[j // n_cols, j % n_cols] if n_rows > 1 else axarr[j % n_cols]\n",
        "    ax.axis('off')\n",
        "\n",
        "plt.suptitle(\"📊 Model Predictions (Latin → Tamil)\", fontsize=16, fontweight='bold', y=1.02)\n",
        "plt.tight_layout()\n",
        "\n",
        "# Save and show\n",
        "plt.savefig('tamil_predictions.png', bbox_inches='tight', dpi=300)\n",
        "plt.show()\n",
        "\n",
        "# Print summary statistics\n",
        "total_lev = sum(row['levenshtein'] for row in rows)\n",
        "print(f\"\\n📈 Summary for {len(rows)} samples:\")\n",
        "print(f\"Average Levenshtein distance: {total_lev/len(rows):.2f}\")\n",
        "print(f\"Perfect predictions: {sum(1 for row in rows if row['levenshtein'] == 0)}/{len(rows)}\")\n",
        "print(f\"Good predictions (distance ≤ 2): {sum(1 for row in rows if row['levenshtein'] <= 2)}/{len(rows)}\")"
      ],
      "metadata": {
        "colab": {
          "base_uri": "https://localhost:8080/",
          "height": 332
        },
        "id": "4kIvJUjtLrgT",
        "outputId": "b3974b4d-25f7-4bc1-e542-b1ad0d73176a"
      },
      "execution_count": 27,
      "outputs": [
        {
          "output_type": "error",
          "ename": "AttributeError",
          "evalue": "'list' object has no attribute 'get'",
          "traceback": [
            "\u001b[0;31m---------------------------------------------------------------------------\u001b[0m",
            "\u001b[0;31mAttributeError\u001b[0m                            Traceback (most recent call last)",
            "\u001b[0;32m<ipython-input-27-d763c7c89088>\u001b[0m in \u001b[0;36m<cell line: 0>\u001b[0;34m()\u001b[0m\n\u001b[1;32m     41\u001b[0m \u001b[0mrows\u001b[0m \u001b[0;34m=\u001b[0m \u001b[0;34m[\u001b[0m\u001b[0;34m]\u001b[0m\u001b[0;34m\u001b[0m\u001b[0;34m\u001b[0m\u001b[0m\n\u001b[1;32m     42\u001b[0m \u001b[0;32mfor\u001b[0m \u001b[0msrc\u001b[0m\u001b[0;34m,\u001b[0m \u001b[0m_\u001b[0m\u001b[0;34m,\u001b[0m \u001b[0mtrg_target\u001b[0m \u001b[0;32min\u001b[0m \u001b[0msamples\u001b[0m\u001b[0;34m:\u001b[0m\u001b[0;34m\u001b[0m\u001b[0;34m\u001b[0m\u001b[0m\n\u001b[0;32m---> 43\u001b[0;31m     \u001b[0minput_text\u001b[0m \u001b[0;34m=\u001b[0m \u001b[0mdecode_sequence\u001b[0m\u001b[0;34m(\u001b[0m\u001b[0msrc\u001b[0m\u001b[0;34m.\u001b[0m\u001b[0mtolist\u001b[0m\u001b[0;34m(\u001b[0m\u001b[0;34m)\u001b[0m\u001b[0;34m,\u001b[0m \u001b[0minput_char_dec\u001b[0m\u001b[0;34m)\u001b[0m\u001b[0;34m\u001b[0m\u001b[0;34m\u001b[0m\u001b[0m\n\u001b[0m\u001b[1;32m     44\u001b[0m     \u001b[0mtarget_text\u001b[0m \u001b[0;34m=\u001b[0m \u001b[0mdecode_sequence\u001b[0m\u001b[0;34m(\u001b[0m\u001b[0mtrg_target\u001b[0m\u001b[0;34m.\u001b[0m\u001b[0margmax\u001b[0m\u001b[0;34m(\u001b[0m\u001b[0;34m-\u001b[0m\u001b[0;36m1\u001b[0m\u001b[0;34m)\u001b[0m\u001b[0;34m.\u001b[0m\u001b[0mtolist\u001b[0m\u001b[0;34m(\u001b[0m\u001b[0;34m)\u001b[0m\u001b[0;34m,\u001b[0m \u001b[0mtarget_char_dec\u001b[0m\u001b[0;34m)\u001b[0m\u001b[0;34m\u001b[0m\u001b[0;34m\u001b[0m\u001b[0m\n\u001b[1;32m     45\u001b[0m     \u001b[0mpredicted_text\u001b[0m \u001b[0;34m=\u001b[0m \u001b[0mpredict_sample\u001b[0m\u001b[0;34m(\u001b[0m\u001b[0mmodel\u001b[0m\u001b[0;34m,\u001b[0m \u001b[0msrc\u001b[0m\u001b[0;34m,\u001b[0m \u001b[0minput_char_dec\u001b[0m\u001b[0;34m,\u001b[0m \u001b[0mtarget_char_dec\u001b[0m\u001b[0;34m)\u001b[0m\u001b[0;34m\u001b[0m\u001b[0;34m\u001b[0m\u001b[0m\n",
            "\u001b[0;32m<ipython-input-27-d763c7c89088>\u001b[0m in \u001b[0;36mdecode_sequence\u001b[0;34m(sequence, vocab_dict, ignore_special_chars)\u001b[0m\n\u001b[1;32m     26\u001b[0m         \u001b[0;32mif\u001b[0m \u001b[0mignore_special_chars\u001b[0m \u001b[0;32mand\u001b[0m \u001b[0midx\u001b[0m \u001b[0;32min\u001b[0m \u001b[0mspecial_tokens\u001b[0m\u001b[0;34m:\u001b[0m\u001b[0;34m\u001b[0m\u001b[0;34m\u001b[0m\u001b[0m\n\u001b[1;32m     27\u001b[0m             \u001b[0;32mcontinue\u001b[0m\u001b[0;34m\u001b[0m\u001b[0;34m\u001b[0m\u001b[0m\n\u001b[0;32m---> 28\u001b[0;31m         \u001b[0mtext\u001b[0m\u001b[0;34m.\u001b[0m\u001b[0mappend\u001b[0m\u001b[0;34m(\u001b[0m\u001b[0mvocab_dict\u001b[0m\u001b[0;34m.\u001b[0m\u001b[0mget\u001b[0m\u001b[0;34m(\u001b[0m\u001b[0midx\u001b[0m\u001b[0;34m,\u001b[0m \u001b[0;34m'?'\u001b[0m\u001b[0;34m)\u001b[0m\u001b[0;34m)\u001b[0m\u001b[0;34m\u001b[0m\u001b[0;34m\u001b[0m\u001b[0m\n\u001b[0m\u001b[1;32m     29\u001b[0m     \u001b[0;32mreturn\u001b[0m \u001b[0;34m''\u001b[0m\u001b[0;34m.\u001b[0m\u001b[0mjoin\u001b[0m\u001b[0;34m(\u001b[0m\u001b[0mtext\u001b[0m\u001b[0;34m)\u001b[0m\u001b[0;34m\u001b[0m\u001b[0;34m\u001b[0m\u001b[0m\n\u001b[1;32m     30\u001b[0m \u001b[0;34m\u001b[0m\u001b[0m\n",
            "\u001b[0;31mAttributeError\u001b[0m: 'list' object has no attribute 'get'"
          ]
        }
      ]
    },
    {
      "cell_type": "code",
      "source": [
        "import matplotlib.pyplot as plt\n",
        "import matplotlib.patches as patches\n",
        "from matplotlib import rcParams\n",
        "from matplotlib.font_manager import FontProperties\n",
        "from Levenshtein import distance as levenshtein_distance\n",
        "import random\n",
        "\n",
        "# Use Noto Sans Tamil for Tamil text\n",
        "# Ensure the font is installed. The previous cell should handle this.\n",
        "try:\n",
        "    tamil_font = FontProperties(fname='/usr/share/fonts/truetype/noto/NotoSansTamil-Regular.ttf', size=12)\n",
        "except FileNotFoundError:\n",
        "    print(\"Warning: Noto Sans Tamil font not found. Install with `!apt-get install fonts-noto`.\")\n",
        "    # Use a generic font if not found\n",
        "    tamil_font = FontProperties(size=12)\n",
        "\n",
        "\n",
        "# Helper functions\n",
        "def get_color(lev_dist):\n",
        "    \"\"\"Return color based on Levenshtein distance\"\"\"\n",
        "    if lev_dist == 0:\n",
        "        return 'green'\n",
        "    elif lev_dist <= 2:\n",
        "        return 'orange'\n",
        "    else:\n",
        "        return 'red'\n",
        "\n",
        "def decode_sequence(sequence, vocab_list, ignore_special_chars=True):\n",
        "    \"\"\"Convert sequence of indices to text using a vocabulary list.\"\"\"\n",
        "    # Ensure PAD_token, SOS_token, EOS_token are defined globally or passed in if needed\n",
        "    # Assuming they are accessible from previous cells\n",
        "    special_tokens = set()\n",
        "    if 'PAD_token' in globals():\n",
        "        special_tokens.add(PAD_token)\n",
        "    if 'SOS_token' in globals():\n",
        "         special_tokens.add(SOS_token)\n",
        "    if 'EOS_token' in globals():\n",
        "         special_tokens.add(EOS_token)\n",
        "\n",
        "    text = []\n",
        "    for idx in sequence:\n",
        "        # Check if the index is valid for the vocabulary list\n",
        "        if 0 <= idx < len(vocab_list):\n",
        "             char = vocab_list[idx]\n",
        "        else:\n",
        "             char = '?' # Unknown character\n",
        "\n",
        "        if ignore_special_chars and idx in special_tokens:\n",
        "            continue\n",
        "\n",
        "        text.append(char)\n",
        "\n",
        "    # Optional: Remove trailing padding/end characters after ignoring them\n",
        "    # Find the first non-special character from the end\n",
        "    # This part might need adjustment based on desired output format\n",
        "    # For now, just return the joined text\n",
        "    return ''.join(text)\n",
        "\n",
        "\n",
        "def predict_sample(model, src_tensor, input_vocab_list, target_vocab_list, max_len=20):\n",
        "    \"\"\"Run inference on a single sample and decode using vocabulary lists.\"\"\"\n",
        "    model.eval() # Ensure model is in evaluation mode\n",
        "    with torch.no_grad(): # Disable gradient calculations\n",
        "        src_tensor = src_tensor.unsqueeze(0).to(device)  # Add batch dimension\n",
        "        pred_indices = model.predict(src_tensor, max_len=max_len)[0].cpu().numpy()\n",
        "        # Pass the target vocabulary list to decode_sequence\n",
        "        return decode_sequence(pred_indices, target_vocab_list)\n",
        "\n",
        "# Get samples - ensure we're using the test_loader you created earlier\n",
        "samples = random.sample(list(test_loader.dataset), 12)  # Visualize 12 instead of 20 for better layout\n",
        "\n",
        "rows = []\n",
        "for src, trg_inp, trg_target in samples:\n",
        "    # Pass input_char_dec (the list) to decode_sequence for the input\n",
        "    input_text = decode_sequence(src.tolist(), input_char_dec, ignore_special_chars=True)\n",
        "    # Pass target_char_dec (the list) to decode_sequence for the target\n",
        "    # trg_target is one-hot encoded, so we need argmax to get indices\n",
        "    target_text = decode_sequence(trg_target.argmax(-1).tolist(), target_char_dec, ignore_special_chars=True)\n",
        "    # predict_sample already uses the target_char_dec for decoding predictions\n",
        "\n",
        "    # Get the predicted text using the modified predict_sample\n",
        "    # predict_sample needs the *list* vocabularies\n",
        "    predicted_text = predict_sample(model, src, input_char_dec, target_char_dec, max_len=max_decoder_seq_length)\n",
        "\n",
        "\n",
        "    lev_dist = levenshtein_distance(predicted_text, target_text)\n",
        "\n",
        "    rows.append({\n",
        "        \"input\": input_text,\n",
        "        \"target\": target_text,\n",
        "        \"predicted\": predicted_text,\n",
        "        \"levenshtein\": lev_dist\n",
        "    })\n",
        "\n",
        "# Create the figure\n",
        "n_cols = 3\n",
        "n_rows = -(-len(rows) // n_cols)  # Ceiling division\n",
        "\n",
        "# Visualization code\n",
        "fig, axarr = plt.subplots(n_rows, n_cols, figsize=(18, n_rows * 2.5))\n",
        "fig.patch.set_facecolor('#f8f9fa')\n",
        "plt.subplots_adjust(hspace=0.6)\n",
        "\n",
        "# Flatten axarr if it's a 2D array for easy iteration\n",
        "if n_rows > 1:\n",
        "    axarr_flat = axarr.flatten()\n",
        "else:\n",
        "    axarr_flat = axarr # It's already 1D if n_rows is 1\n",
        "\n",
        "for idx, row in enumerate(rows):\n",
        "    ax = axarr_flat[idx] # Use the flattened array\n",
        "    ax.axis('off')\n",
        "\n",
        "    ax.set_xlim(0, 1)\n",
        "    ax.set_ylim(0, 1)\n",
        "    ax.add_patch(patches.Rectangle((0, 0), 1, 1, color=get_color(row['levenshtein']), alpha=0.3))\n",
        "\n",
        "    # Use Tamil font for Target and Predicted text\n",
        "    ax.text(0.02, 0.85, f\"Input: \", fontsize=10, fontweight='bold', va='top')\n",
        "    ax.text(0.18, 0.85, row['input'], fontsize=12, family='monospace')  # Latin input\n",
        "\n",
        "    ax.text(0.02, 0.65, f\"Target: \", fontsize=10, fontweight='bold', va='top')\n",
        "    ax.text(0.18, 0.60, row['target'], fontproperties=tamil_font)\n",
        "\n",
        "    ax.text(0.02, 0.45, f\"Predicted: \", fontsize=10, fontweight='bold', va='top')\n",
        "    # Adjusted vertical position slightly\n",
        "    ax.text(0.25, 0.40, row['predicted'], fontproperties=tamil_font)\n",
        "\n",
        "    ax.text(0.02, 0.2, f\"Lev. Distance: {row['levenshtein']}\", fontsize=9,\n",
        "            bbox=dict(facecolor='white', alpha=0.7, edgecolor='gray', boxstyle='round,pad=0.3'))\n",
        "\n",
        "\n",
        "# Hide any unused subplots\n",
        "for j in range(len(rows), n_rows * n_cols):\n",
        "    ax = axarr_flat[j] # Use the flattened array\n",
        "    ax.axis('off')\n",
        "\n",
        "plt.suptitle(\"📊 Tamil Predictions with vanilla model\", fontsize=16, fontweight='bold')\n",
        "plt.show()\n",
        "\n",
        "# Print summary statistics\n",
        "total_lev = sum(row['levenshtein'] for row in rows)\n",
        "print(f\"\\n📈 Summary for {len(rows)} samples:\")\n",
        "print(f\"Average Levenshtein distance: {total_lev/len(rows):.2f}\")\n",
        "print(f\"Perfect predictions: {sum(1 for row in rows if row['levenshtein'] == 0)}/{len(rows)}\")\n",
        "print(f\"Good predictions (distance ≤ 2): {sum(1 for row in rows if row['levenshtein'] <= 2)}/{len(rows)}\")"
      ],
      "metadata": {
        "colab": {
          "base_uri": "https://localhost:8080/",
          "height": 875
        },
        "id": "ClDnau7yFLZ6",
        "outputId": "d996fd71-3994-479f-eaa0-66d8a3b35a48"
      },
      "execution_count": 29,
      "outputs": [
        {
          "output_type": "stream",
          "name": "stderr",
          "text": [
            "/usr/local/lib/python3.11/dist-packages/IPython/core/pylabtools.py:151: UserWarning: Glyph 108 (l) missing from font(s) Noto Sans Tamil.\n",
            "  fig.canvas.print_figure(bytes_io, **kw)\n",
            "/usr/local/lib/python3.11/dist-packages/IPython/core/pylabtools.py:151: UserWarning: Glyph 112 (p) missing from font(s) Noto Sans Tamil.\n",
            "  fig.canvas.print_figure(bytes_io, **kw)\n",
            "/usr/local/lib/python3.11/dist-packages/IPython/core/pylabtools.py:151: UserWarning: Glyph 128202 (\\N{BAR CHART}) missing from font(s) DejaVu Sans.\n",
            "  fig.canvas.print_figure(bytes_io, **kw)\n"
          ]
        },
        {
          "output_type": "display_data",
          "data": {
            "text/plain": [
              "<Figure size 1800x1000 with 12 Axes>"
            ],
            "image/png": "[encoded data removed]"
          },
          "metadata": {}
        },
        {
          "output_type": "stream",
          "name": "stdout",
          "text": [
            "\n",
            "📈 Summary for 12 samples:\n",
            "Average Levenshtein distance: 4.33\n",
            "Perfect predictions: 0/12\n",
            "Good predictions (distance ≤ 2): 3/12\n"
          ]
        }
      ]
    },
    {
      "cell_type": "code",
      "source": [
        "import os\n",
        "from tqdm import tqdm\n",
        "\n",
        "# Create folder if not exists\n",
        "os.makedirs(\"predictions_vanilla\", exist_ok=True)\n",
        "\n",
        "all_rows = []\n",
        "\n",
        "# Loop over entire test set\n",
        "for src, trg_inp, trg_target in tqdm(test_loader.dataset, desc=\"Generating full predictions\"):\n",
        "    input_text = decode_sequence(src.tolist(), input_char_dec, ignore_special_chars=True)\n",
        "    target_text = decode_sequence(trg_inp.tolist(), target_char_dec, ignore_special_chars=True)\n",
        "    predicted_text = predict_sample(model, src, input_char_dec, target_char_dec, max_len=max_decoder_seq_length)\n",
        "\n",
        "    all_rows.append({\n",
        "        \"Input\": input_text,\n",
        "        \"Target Output\": target_text,\n",
        "        \"Model Prediction\": predicted_text\n",
        "    })\n",
        "\n",
        "# Save all predictions to CSV with UTF-8 encoding to preserve Tamil characters\n",
        "all_preds_df = pd.DataFrame(all_rows)\n",
        "output_path = os.path.join(\"predictions_vanilla\", \"full_predictions.csv\")\n",
        "all_preds_df.to_csv(output_path, index=False, encoding='utf-8')\n",
        "\n",
        "print(f\"\\n✅ All predictions saved to: {output_path}\")\n",
        "\n"
      ],
      "metadata": {
        "colab": {
          "base_uri": "https://localhost:8080/",
          "height": 211
        },
        "id": "TkhzHqsi6O4-",
        "outputId": "058dc964-881c-464e-854d-9b840e7fc60c"
      },
      "execution_count": 11,
      "outputs": [
        {
          "output_type": "error",
          "ename": "NameError",
          "evalue": "name 'test_loader' is not defined",
          "traceback": [
            "\u001b[0;31m---------------------------------------------------------------------------\u001b[0m",
            "\u001b[0;31mNameError\u001b[0m                                 Traceback (most recent call last)",
            "\u001b[0;32m<ipython-input-11-f5bc471db597>\u001b[0m in \u001b[0;36m<cell line: 0>\u001b[0;34m()\u001b[0m\n\u001b[1;32m      8\u001b[0m \u001b[0;34m\u001b[0m\u001b[0m\n\u001b[1;32m      9\u001b[0m \u001b[0;31m# Loop over entire test set\u001b[0m\u001b[0;34m\u001b[0m\u001b[0;34m\u001b[0m\u001b[0m\n\u001b[0;32m---> 10\u001b[0;31m \u001b[0;32mfor\u001b[0m \u001b[0msrc\u001b[0m\u001b[0;34m,\u001b[0m \u001b[0mtrg_inp\u001b[0m\u001b[0;34m,\u001b[0m \u001b[0mtrg_target\u001b[0m \u001b[0;32min\u001b[0m \u001b[0mtqdm\u001b[0m\u001b[0;34m(\u001b[0m\u001b[0mtest_loader\u001b[0m\u001b[0;34m.\u001b[0m\u001b[0mdataset\u001b[0m\u001b[0;34m,\u001b[0m \u001b[0mdesc\u001b[0m\u001b[0;34m=\u001b[0m\u001b[0;34m\"Generating full predictions\"\u001b[0m\u001b[0;34m)\u001b[0m\u001b[0;34m:\u001b[0m\u001b[0;34m\u001b[0m\u001b[0;34m\u001b[0m\u001b[0m\n\u001b[0m\u001b[1;32m     11\u001b[0m     \u001b[0minput_text\u001b[0m \u001b[0;34m=\u001b[0m \u001b[0mdecode_sequence\u001b[0m\u001b[0;34m(\u001b[0m\u001b[0msrc\u001b[0m\u001b[0;34m.\u001b[0m\u001b[0mtolist\u001b[0m\u001b[0;34m(\u001b[0m\u001b[0;34m)\u001b[0m\u001b[0;34m,\u001b[0m \u001b[0minput_char_dec\u001b[0m\u001b[0;34m,\u001b[0m \u001b[0mignore_special_chars\u001b[0m\u001b[0;34m=\u001b[0m\u001b[0;32mTrue\u001b[0m\u001b[0;34m)\u001b[0m\u001b[0;34m\u001b[0m\u001b[0;34m\u001b[0m\u001b[0m\n\u001b[1;32m     12\u001b[0m     \u001b[0mtarget_text\u001b[0m \u001b[0;34m=\u001b[0m \u001b[0mdecode_sequence\u001b[0m\u001b[0;34m(\u001b[0m\u001b[0mtrg_inp\u001b[0m\u001b[0;34m.\u001b[0m\u001b[0mtolist\u001b[0m\u001b[0;34m(\u001b[0m\u001b[0;34m)\u001b[0m\u001b[0;34m,\u001b[0m \u001b[0mtarget_char_dec\u001b[0m\u001b[0;34m,\u001b[0m \u001b[0mignore_special_chars\u001b[0m\u001b[0;34m=\u001b[0m\u001b[0;32mTrue\u001b[0m\u001b[0;34m)\u001b[0m\u001b[0;34m\u001b[0m\u001b[0;34m\u001b[0m\u001b[0m\n",
            "\u001b[0;31mNameError\u001b[0m: name 'test_loader' is not defined"
          ]
        }
      ]
    },
    {
      "cell_type": "markdown",
      "source": [
        "\n",
        "\n",
        "---\n",
        "\n",
        "**WITH ATTENTION**"
      ],
      "metadata": {
        "id": "cdToFm7nQfbW"
      }
    },
    {
      "cell_type": "code",
      "source": [
        "import torch.nn.utils.rnn as rnn_utils"
      ],
      "metadata": {
        "id": "ILhzoFMVV-2m"
      },
      "execution_count": 10,
      "outputs": []
    },
    {
      "cell_type": "code",
      "source": [
        "class Attention(nn.Module):\n",
        "    def __init__(self, hidden_dim):\n",
        "        super().__init__()\n",
        "        self.attn = nn.Linear(hidden_dim * 2, hidden_dim)\n",
        "        self.v = nn.Linear(hidden_dim, 1, bias=False)\n",
        "\n",
        "    def forward(self, hidden, encoder_outputs):\n",
        "        # hidden: (batch, hidden_dim) - last decoder hidden state\n",
        "        # encoder_outputs: (batch, src_len, hidden_dim)\n",
        "\n",
        "        src_len = encoder_outputs.shape[1]\n",
        "\n",
        "        # Repeat decoder hidden state for each source token\n",
        "        hidden = hidden.unsqueeze(1).repeat(1, src_len, 1)  # (batch, src_len, hidden_dim)\n",
        "\n",
        "        # Calculate attention energy\n",
        "        energy = torch.tanh(self.attn(torch.cat((hidden, encoder_outputs), dim=2)))  # (batch, src_len, hidden_dim)\n",
        "        attention = self.v(energy).squeeze(2)  # (batch, src_len)\n",
        "\n",
        "        return F.softmax(attention, dim=1)  # (batch, src_len)\n",
        "\n",
        "class Encoder(nn.Module):\n",
        "    def __init__(self, input_vocab_size, embedding_dim, hidden_dim, num_layers, cell_type='LSTM', dropout=0.2):\n",
        "        super().__init__()\n",
        "        self.embedding = nn.Embedding(input_vocab_size, embedding_dim)\n",
        "        self.cell_type = cell_type.upper()\n",
        "        if self.cell_type == 'LSTM':\n",
        "            self.rnn = nn.LSTM(embedding_dim, hidden_dim, num_layers=num_layers, dropout=dropout if num_layers > 1 else 0, batch_first=True)\n",
        "        elif self.cell_type == 'GRU':\n",
        "            self.rnn = nn.GRU(embedding_dim, hidden_dim, num_layers=num_layers, dropout=dropout if num_layers > 1 else 0, batch_first=True)\n",
        "        else:\n",
        "            self.rnn = nn.RNN(embedding_dim, hidden_dim, num_layers=num_layers, dropout=dropout if num_layers > 1 else 0, batch_first=True)\n",
        "\n",
        "    def forward(self, x, src_lens):\n",
        "        embedded = self.embedding(x)\n",
        "\n",
        "        # Pack the padded sequence\n",
        "        packed_embedded = rnn_utils.pack_padded_sequence(embedded, src_lens.cpu(), batch_first=True, enforce_sorted=False)\n",
        "\n",
        "        # Pass through the RNN\n",
        "        packed_outputs, hidden = self.rnn(packed_embedded)\n",
        "\n",
        "        # Unpack the sequence\n",
        "        outputs, _ = rnn_utils.pad_packed_sequence(packed_outputs, batch_first=True)\n",
        "\n",
        "        return outputs, hidden\n",
        "\n",
        "class AttnDecoder(nn.Module):\n",
        "    def __init__(self, output_vocab_size, embedding_dim, hidden_dim, attention, cell_type='LSTM'):\n",
        "        super().__init__()\n",
        "        self.cell_type = cell_type.upper()\n",
        "        self.embedding = nn.Embedding(output_vocab_size, embedding_dim)\n",
        "        self.attention = attention\n",
        "        # Ensure num_layers is consistent for the decoder\n",
        "        # The attention mechanism as implemented works best with a single layer decoder\n",
        "        # If you intend multiple layers, the attention logic needs adjustment\n",
        "        self.rnn = nn.LSTM(embedding_dim + hidden_dim, hidden_dim, num_layers=1, batch_first=True) if self.cell_type == 'LSTM' \\\n",
        "                   else nn.GRU(embedding_dim + hidden_dim, hidden_dim, num_layers=1, batch_first=True) if self.cell_type == 'GRU' \\\n",
        "                   else nn.RNN(embedding_dim + hidden_dim, hidden_dim, num_layers=1, batch_first=True)\n",
        "        self.fc_out = nn.Linear(hidden_dim * 2, output_vocab_size)\n",
        "\n",
        "\n",
        "    def forward(self, input, hidden, encoder_outputs):\n",
        "        # input: (batch)\n",
        "        # hidden: format depends on encoder and decoder cell types, can be (h, c) for LSTM or just h for GRU/RNN\n",
        "        # encoder_outputs: (batch, src_len, hidden_dim)\n",
        "\n",
        "        input = input.unsqueeze(1)  # (batch, 1)\n",
        "        embedded = self.embedding(input)  # (batch, 1, embed_dim)\n",
        "\n",
        "        # Extract appropriate hidden state for attention calculation\n",
        "        if isinstance(hidden, tuple): # If hidden is (h, c)\n",
        "             # Assuming attention uses the hidden state (h) of the last layer\n",
        "            h_attn = hidden[0][-1] # (batch, hidden_dim)\n",
        "        else: # If hidden is just h\n",
        "             # Assuming attention uses the hidden state (h) of the last layer\n",
        "            h_attn = hidden[-1] # (batch, hidden_dim)\n",
        "\n",
        "        attn_weights = self.attention(h_attn, encoder_outputs)  # (batch, src_len)\n",
        "        context = torch.bmm(attn_weights.unsqueeze(1), encoder_outputs)  # (batch, 1, hidden_dim)\n",
        "\n",
        "        rnn_input = torch.cat((embedded, context), dim=2)  # (batch, 1, embed + hidden)\n",
        "\n",
        "        # Prepare hidden state for the decoder RNN based on its cell type\n",
        "        if self.cell_type == 'LSTM':\n",
        "             # If the received hidden is not already a tuple (e.g., from GRU/RNN encoder),\n",
        "             # create a tuple by replicating the hidden state for cell state.\n",
        "             if not isinstance(hidden, tuple):\n",
        "                 # Assuming the hidden from GRU/RNN has shape (num_layers, batch_size, hidden_dim)\n",
        "                 # We need num_layers = 1 for this decoder, so take the last layer\n",
        "                 hidden_rnn = (hidden[-1].unsqueeze(0), hidden[-1].unsqueeze(0)) # (1, batch, hidden_dim) for both h and c\n",
        "             else:\n",
        "                 # If hidden is already (h, c), ensure it has the correct number of layers for this decoder\n",
        "                 # The decoder has num_layers=1, so take the last layer from the input hidden\n",
        "                 hidden_rnn = (hidden[0][-1].unsqueeze(0), hidden[1][-1].unsqueeze(0)) # (1, batch, hidden_dim) for both h and c\n",
        "        else: # GRU or RNN decoder\n",
        "             # If the received hidden is a tuple (e.g., from LSTM encoder), take only the h state.\n",
        "             if isinstance(hidden, tuple):\n",
        "                 # Assuming hidden from LSTM is (h, c), take h and ensure it has the correct number of layers\n",
        "                 hidden_rnn = hidden[0][-1].unsqueeze(0) # (1, batch, hidden_dim)\n",
        "             else:\n",
        "                 # If hidden is already h, ensure it has the correct number of layers\n",
        "                 hidden_rnn = hidden[-1].unsqueeze(0) # (1, batch, hidden_dim)\n",
        "\n",
        "\n",
        "        output, hidden = self.rnn(rnn_input, hidden_rnn)\n",
        "\n",
        "        output = output.squeeze(1)\n",
        "        context = context.squeeze(1)\n",
        "\n",
        "        prediction = self.fc_out(torch.cat((output, context), dim=1))  # (batch, vocab_size)\n",
        "        return prediction, hidden\n",
        "\n",
        "class AttnSeq2Seq(nn.Module):\n",
        "    def __init__(self, encoder, decoder, device):\n",
        "        super().__init__()\n",
        "        self.encoder = encoder\n",
        "        self.decoder = decoder\n",
        "        self.device = device\n",
        "\n",
        "    def forward(self, src, src_lens, trg, teacher_forcing_ratio=0.5):\n",
        "        # src: (batch_size, src_len)\n",
        "        # trg: (batch_size, trg_len)\n",
        "        batch_size = src.size(0)\n",
        "        trg_len = trg.size(1)\n",
        "        trg_vocab_size = self.decoder.fc_out.out_features\n",
        "\n",
        "        # tensor to store decoder outputs\n",
        "        outputs = torch.zeros(batch_size, trg_len, trg_vocab_size).to(self.device)\n",
        "\n",
        "        # Encoder output\n",
        "        encoder_outputs, hidden = self.encoder(src, src_lens)\n",
        "\n",
        "        # Decoder hidden state initialization\n",
        "        # Ensure hidden is in the correct format for the DECODER's first step\n",
        "        if self.decoder.cell_type == 'LSTM':\n",
        "            if isinstance(hidden, tuple):\n",
        "                # Encoder is LSTM: take hidden and cell state of the last layer(s)\n",
        "                # Assumes decoder has the same num_layers or you take a slice\n",
        "                decoder_hidden = (hidden[0][-self.decoder.rnn.num_layers:],\n",
        "                                  hidden[1][-self.decoder.rnn.num_layers:])\n",
        "            else:\n",
        "                # Encoder is GRU/RNN: replicate the last hidden state for LSTM's cell state\n",
        "                decoder_hidden = (hidden[-self.decoder.rnn.num_layers:],\n",
        "                                  hidden[-self.decoder.rnn.num_layers:])\n",
        "        else: # GRU or RNN decoder\n",
        "            if isinstance(hidden, tuple):\n",
        "                # Encoder is LSTM: take only the hidden state (h) of the last layer(s)\n",
        "                decoder_hidden = hidden[0][-self.decoder.rnn.num_layers:]\n",
        "            else:\n",
        "                # Encoder is GRU/RNN: take the last hidden state\n",
        "                decoder_hidden = hidden[-self.decoder.rnn.num_layers:]\n",
        "\n",
        "\n",
        "        # First input to decoder is <sos> token\n",
        "        input = trg[:, 0]  # (batch_size)\n",
        "\n",
        "        for t in range(1, trg_len):\n",
        "            # Pass the correctly formatted hidden state to the decoder\n",
        "            output, decoder_hidden = self.decoder(input, decoder_hidden, encoder_outputs)\n",
        "            outputs[:, t] = output\n",
        "\n",
        "            # Decide whether to do teacher forcing\n",
        "            teacher_force = random.random() < teacher_forcing_ratio\n",
        "            top1 = output.argmax(1)  # (batch_size)\n",
        "\n",
        "            input = trg[:, t] if teacher_force else top1\n",
        "\n",
        "        return outputs\n",
        "\n",
        "    def predict(self, src, src_lens, max_len=20):\n",
        "        \"\"\"Autoregressive inference function\"\"\"\n",
        "        self.eval()\n",
        "        with torch.no_grad():\n",
        "            # Encode the input\n",
        "            encoder_outputs, hidden = self.encoder(src, src_lens)\n",
        "\n",
        "            # Initialize decoder hidden state - same logic as in forward pass\n",
        "            if self.decoder.cell_type == 'LSTM':\n",
        "                if isinstance(hidden, tuple):\n",
        "                    decoder_hidden = (hidden[0][-self.decoder.rnn.num_layers:],\n",
        "                                     hidden[1][-self.decoder.rnn.num_layers:])\n",
        "                else:\n",
        "                    decoder_hidden = (hidden[-self.decoder.rnn.num_layers:],\n",
        "                                     hidden[-self.decoder.rnn.num_layers:])\n",
        "            else:\n",
        "                if isinstance(hidden, tuple):\n",
        "                    decoder_hidden = hidden[0][-self.decoder.rnn.num_layers:]\n",
        "                else:\n",
        "                    decoder_hidden = hidden[-self.decoder.rnn.num_layers:]\n",
        "\n",
        "            # Start with SOS token\n",
        "            batch_size = src.size(0)\n",
        "            # Assuming SOS token is index 0\n",
        "            input = torch.full((batch_size,), SOS_token, dtype=torch.long).to(self.device)\n",
        "\n",
        "            outputs = []\n",
        "            for t in range(max_len):\n",
        "                # Pass the correctly formatted hidden state to the decoder\n",
        "                output, decoder_hidden = self.decoder(input, decoder_hidden, encoder_outputs)\n",
        "                top1 = output.argmax(1)\n",
        "                outputs.append(top1)\n",
        "                input = top1  # Autoregressive - use prediction as next input\n",
        "\n",
        "            return torch.stack(outputs, dim=1) # (batch_size, max_len)\n",
        "\n"
      ],
      "metadata": {
        "id": "6-SgIvxFQhfE"
      },
      "execution_count": 11,
      "outputs": []
    },
    {
      "cell_type": "code",
      "source": [
        "from tqdm import tqdm\n",
        "import random\n",
        "\n",
        "def decode_sequence(sequence, vocab_dict, ignore_special_chars=True):\n",
        "    \"\"\"Convert sequence of indices to text\"\"\"\n",
        "    special_tokens = {SOS_token, EOS_token, PAD_token}\n",
        "    text = []\n",
        "    for idx in sequence:\n",
        "        if ignore_special_chars and idx in special_tokens:\n",
        "            continue\n",
        "        text.append(vocab_dict.get(idx, '?'))\n",
        "    return ''.join(text)\n",
        "\n",
        "def compute_accuracy(preds, target):\n",
        "    pred_classes = preds.argmax(1)\n",
        "    correct = (pred_classes == target).float()\n",
        "    return correct.sum() / target.numel()\n",
        "\n",
        "def attn_train(model, iterator, optimizer, criterion, clip=1, device='cuda'):\n",
        "    model.train()\n",
        "    epoch_loss = 0\n",
        "    epoch_acc = 0\n",
        "\n",
        "    for src, trg_inp, trg_target in tqdm(iterator, desc=\"Training\", leave=False):\n",
        "        src = src.to(device)\n",
        "        trg_inp = trg_inp.to(device)\n",
        "        trg_target = trg_target.to(device)\n",
        "\n",
        "        # Get source sequence lengths\n",
        "        src_lens = (src != PAD_token).sum(dim=1)\n",
        "\n",
        "        optimizer.zero_grad()\n",
        "\n",
        "        # The model returns only the outputs\n",
        "        output = model(src, src_lens, trg_inp)\n",
        "\n",
        "        output_dim = output.shape[-1]\n",
        "        # Reshape and flatten output and target for loss calculation\n",
        "        output = output[:, 1:].reshape(-1, output_dim) # Exclude SOS token position\n",
        "        trg_target_flat = trg_target[:, 1:].reshape(-1, output_dim).argmax(1) # Exclude SOS token position and flatten one-hot to indices\n",
        "\n",
        "        loss = criterion(output, trg_target_flat)\n",
        "        acc = compute_accuracy(output, trg_target_flat)\n",
        "\n",
        "        loss.backward()\n",
        "        torch.nn.utils.clip_grad_norm_(model.parameters(), clip)\n",
        "        optimizer.step()\n",
        "\n",
        "        epoch_loss += loss.item()\n",
        "        epoch_acc += acc.item()\n",
        "\n",
        "    return epoch_loss / len(iterator), epoch_acc / len(iterator)\n",
        "\n",
        "# Updated evaluation function with attention visualization\n",
        "def attn_evaluate(model, iterator, criterion, device='cuda'):\n",
        "    model.eval()\n",
        "    epoch_loss = 0\n",
        "    epoch_acc = 0\n",
        "\n",
        "    with torch.no_grad():\n",
        "        for src, trg_inp, trg_target in tqdm(iterator, desc=\"Evaluating\", leave=False):\n",
        "            src = src.to(device)\n",
        "            trg_inp = trg_inp.to(device)\n",
        "            trg_target = trg_target.to(device)\n",
        "\n",
        "            # Get source sequence lengths\n",
        "            src_lens = (src != PAD_token).sum(dim=1)\n",
        "\n",
        "            # The model returns only the outputs\n",
        "            output = model(src, src_lens, trg_inp, teacher_forcing_ratio=0) # Use teacher_forcing_ratio=0 for evaluation\n",
        "\n",
        "            output_dim = output.shape[-1]\n",
        "            # Reshape and flatten output and target for loss calculation\n",
        "            output = output[:, 1:].reshape(-1, output_dim) # Exclude SOS token position\n",
        "            trg_target_flat = trg_target[:, 1:].reshape(-1, output_dim).argmax(1) # Exclude SOS token position and flatten one-hot to indices\n",
        "\n",
        "            loss = criterion(output, trg_target_flat)\n",
        "            acc = compute_accuracy(output, trg_target_flat)\n",
        "\n",
        "            epoch_loss += loss.item()\n",
        "            epoch_acc += acc.item()\n",
        "\n",
        "    return epoch_loss / len(iterator), epoch_acc / len(iterator)\n",
        "\n"
      ],
      "metadata": {
        "id": "BkrU8vREOfpw"
      },
      "execution_count": 12,
      "outputs": []
    },
    {
      "cell_type": "code",
      "source": [
        "import wandb\n",
        "import torch.optim as optim\n",
        "import torch.nn.functional as F\n",
        "from torch.utils.data import DataLoader, TensorDataset\n",
        "\n",
        "def run():\n",
        "    # Initialize W&B\n",
        "    wandb.init()\n",
        "    config = wandb.config\n",
        "\n",
        "    # Name the run with key hyperparameters\n",
        "    run_name = f\"Attn_{config.cell_type}_emb{config.embedding_size}_hid{config.hidden_size}_drop{int(config.dropout * 100)}_lr{config.learning_rate:.0e}\"\n",
        "    wandb.run.name = run_name\n",
        "\n",
        "    print(f\"\\n▶️ Starting Trial: {wandb.run.name} (ID: {wandb.run.id})\")\n",
        "    print(f\"🔧 Config: {dict(config)}\")\n",
        "\n",
        "    # Load data\n",
        "    train_loader, val_loader = get_dataloaders(batch_size=64)\n",
        "\n",
        "    input_vocab_size = len(input_char_enc)\n",
        "    output_vocab_size = len(target_char_enc)\n",
        "\n",
        "    # Build model components\n",
        "    attention = Attention(config.hidden_size)\n",
        "\n",
        "    encoder = Encoder(\n",
        "        input_vocab_size=input_vocab_size,\n",
        "        embedding_dim=config.embedding_size,\n",
        "        hidden_dim=config.hidden_size,\n",
        "        num_layers=1,  # Fixed\n",
        "        cell_type=config.cell_type,\n",
        "        dropout=config.dropout\n",
        "    )\n",
        "\n",
        "    decoder = AttnDecoder(\n",
        "        output_vocab_size=output_vocab_size,\n",
        "        embedding_dim=config.embedding_size,\n",
        "        hidden_dim=config.hidden_size,\n",
        "        attention=attention,\n",
        "        cell_type=config.cell_type\n",
        "        # No dropout or num_layers in AttnDecoder\n",
        "    )\n",
        "\n",
        "    model = AttnSeq2Seq(encoder, decoder, device).to(device)\n",
        "    optimizer = optim.Adam(model.parameters(), lr=config.learning_rate)\n",
        "    criterion = nn.CrossEntropyLoss()\n",
        "    clip = 1.0\n",
        "    n_epochs = 5\n",
        "    best_val_loss = float('inf')\n",
        "\n",
        "    for epoch in range(n_epochs):\n",
        "        print(f\"📦 Epoch {epoch+1}/{n_epochs}\")\n",
        "        train_loss, train_acc = attn_train(model, train_loader, optimizer, criterion, clip, device)\n",
        "        val_loss, val_acc = attn_evaluate(model, val_loader, criterion, device)\n",
        "\n",
        "        print(f\"    🔹 Train Loss: {train_loss:.4f} | Train Acc: {train_acc*100:.2f}%\")\n",
        "        print(f\"    🔸 Val Loss:   {val_loss:.4f} | Val Acc:   {val_acc*100:.2f}%\")\n",
        "\n",
        "        wandb.log({\n",
        "            'train_loss': train_loss,\n",
        "            'val_loss': val_loss,\n",
        "            'train_accuracy': train_acc,\n",
        "            'val_accuracy': val_acc,\n",
        "            'epoch': epoch+1\n",
        "        })\n",
        "\n",
        "\n"
      ],
      "metadata": {
        "id": "LxBmX6w_Euqd"
      },
      "execution_count": 13,
      "outputs": []
    },
    {
      "cell_type": "code",
      "source": [
        "sweep_config = {\n",
        "    'method': 'bayes',\n",
        "    'metric': {\n",
        "        'name': 'val_accuracy',\n",
        "        'goal': 'maximize'\n",
        "    },\n",
        "    'parameters': {\n",
        "        'embedding_size': {\n",
        "            'values': [16, 32, 64, 256]\n",
        "        },\n",
        "        'hidden_size': {\n",
        "            'values': [16, 32, 64, 256]\n",
        "        },\n",
        "        'cell_type': {\n",
        "            'values': ['RNN', 'GRU', 'LSTM']\n",
        "        },\n",
        "        'dropout': {\n",
        "            'values': [0.2, 0.3]\n",
        "        },\n",
        "        'learning_rate': {\n",
        "            'min': 1e-4,\n",
        "            'max': 5e-3,\n",
        "            'distribution': 'log_uniform_values'\n",
        "        }\n",
        "    }\n",
        "}\n",
        "\n",
        "\n",
        "#sweep_id = wandb.sweep(sweep_config, project=PROJECT_NAME, entity=ENTITY)\n",
        "sweep_id = 'aprfza52'\n",
        "wandb.agent(sweep_id, function=run, count=3   , project=PROJECT_NAME, entity=ENTITY)\n"
      ],
      "metadata": {
        "colab": {
          "base_uri": "https://localhost:8080/",
          "height": 1000
        },
        "id": "4A5FB9BtEwDp",
        "outputId": "42ee3c14-0c40-4511-8e2f-cb94d3d5fab1"
      },
      "execution_count": 15,
      "outputs": [
        {
          "output_type": "stream",
          "name": "stderr",
          "text": [
            "\u001b[34m\u001b[1mwandb\u001b[0m: Agent Starting Run: 36ncivz1 with config:\n",
            "\u001b[34m\u001b[1mwandb\u001b[0m: \tcell_type: GRU\n",
            "\u001b[34m\u001b[1mwandb\u001b[0m: \tdropout: 0.3\n",
            "\u001b[34m\u001b[1mwandb\u001b[0m: \tembedding_size: 64\n",
            "\u001b[34m\u001b[1mwandb\u001b[0m: \thidden_size: 32\n",
            "\u001b[34m\u001b[1mwandb\u001b[0m: \tlearning_rate: 0.0012088719349961257\n"
          ]
        },
        {
          "output_type": "display_data",
          "data": {
            "text/plain": [
              "<IPython.core.display.HTML object>"
            ],
            "text/html": [
              "Tracking run with wandb version 0.19.11"
            ]
          },
          "metadata": {}
        },
        {
          "output_type": "display_data",
          "data": {
            "text/plain": [
              "<IPython.core.display.HTML object>"
            ],
            "text/html": [
              "Run data is saved locally in <code>/content/wandb/run-20250520_135757-36ncivz1</code>"
            ]
          },
          "metadata": {}
        },
        {
          "output_type": "display_data",
          "data": {
            "text/plain": [
              "<IPython.core.display.HTML object>"
            ],
            "text/html": [
              "Syncing run <strong><a href='https://wandb.ai/subikksha-indian-institute-of-technology-madras/DA6401_DL_ASSIGNMENT_03/runs/36ncivz1' target=\"_blank\">vibrant-sweep-14</a></strong> to <a href='https://wandb.ai/subikksha-indian-institute-of-technology-madras/DA6401_DL_ASSIGNMENT_03' target=\"_blank\">Weights & Biases</a> (<a href='https://wandb.me/developer-guide' target=\"_blank\">docs</a>)<br>Sweep page: <a href='https://wandb.ai/subikksha-indian-institute-of-technology-madras/DA6401_DL_ASSIGNMENT_03/sweeps/aprfza52' target=\"_blank\">https://wandb.ai/subikksha-indian-institute-of-technology-madras/DA6401_DL_ASSIGNMENT_03/sweeps/aprfza52</a>"
            ]
          },
          "metadata": {}
        },
        {
          "output_type": "display_data",
          "data": {
            "text/plain": [
              "<IPython.core.display.HTML object>"
            ],
            "text/html": [
              " View project at <a href='https://wandb.ai/subikksha-indian-institute-of-technology-madras/DA6401_DL_ASSIGNMENT_03' target=\"_blank\">https://wandb.ai/subikksha-indian-institute-of-technology-madras/DA6401_DL_ASSIGNMENT_03</a>"
            ]
          },
          "metadata": {}
        },
        {
          "output_type": "display_data",
          "data": {
            "text/plain": [
              "<IPython.core.display.HTML object>"
            ],
            "text/html": [
              " View sweep at <a href='https://wandb.ai/subikksha-indian-institute-of-technology-madras/DA6401_DL_ASSIGNMENT_03/sweeps/aprfza52' target=\"_blank\">https://wandb.ai/subikksha-indian-institute-of-technology-madras/DA6401_DL_ASSIGNMENT_03/sweeps/aprfza52</a>"
            ]
          },
          "metadata": {}
        },
        {
          "output_type": "display_data",
          "data": {
            "text/plain": [
              "<IPython.core.display.HTML object>"
            ],
            "text/html": [
              " View run at <a href='https://wandb.ai/subikksha-indian-institute-of-technology-madras/DA6401_DL_ASSIGNMENT_03/runs/36ncivz1' target=\"_blank\">https://wandb.ai/subikksha-indian-institute-of-technology-madras/DA6401_DL_ASSIGNMENT_03/runs/36ncivz1</a>"
            ]
          },
          "metadata": {}
        },
        {
          "output_type": "stream",
          "name": "stdout",
          "text": [
            "\n",
            "▶️ Starting Trial: Attn_GRU_emb64_hid32_drop30_lr1e-03 (ID: 36ncivz1)\n",
            "🔧 Config: {'cell_type': 'GRU', 'dropout': 0.3, 'embedding_size': 64, 'hidden_size': 32, 'learning_rate': 0.0012088719349961257}\n",
            "📦 Epoch 1/5\n"
          ]
        },
        {
          "output_type": "stream",
          "name": "stderr",
          "text": []
        },
        {
          "output_type": "stream",
          "name": "stdout",
          "text": [
            "    🔹 Train Loss: 0.8831 | Train Acc: 75.28%\n",
            "    🔸 Val Loss:   0.6565 | Val Acc:   77.89%\n",
            "📦 Epoch 2/5\n"
          ]
        },
        {
          "output_type": "stream",
          "name": "stderr",
          "text": []
        },
        {
          "output_type": "stream",
          "name": "stdout",
          "text": [
            "    🔹 Train Loss: 0.5806 | Train Acc: 81.18%\n",
            "    🔸 Val Loss:   0.5782 | Val Acc:   80.09%\n",
            "📦 Epoch 3/5\n"
          ]
        },
        {
          "output_type": "stream",
          "name": "stderr",
          "text": []
        },
        {
          "output_type": "stream",
          "name": "stdout",
          "text": [
            "    🔹 Train Loss: 0.4411 | Train Acc: 86.45%\n",
            "    🔸 Val Loss:   0.3822 | Val Acc:   89.20%\n",
            "📦 Epoch 4/5\n"
          ]
        },
        {
          "output_type": "stream",
          "name": "stderr",
          "text": []
        },
        {
          "output_type": "stream",
          "name": "stdout",
          "text": [
            "    🔹 Train Loss: 0.3142 | Train Acc: 91.55%\n",
            "    🔸 Val Loss:   0.3325 | Val Acc:   91.13%\n",
            "📦 Epoch 5/5\n"
          ]
        },
        {
          "output_type": "stream",
          "name": "stderr",
          "text": [
            "                                                             "
          ]
        },
        {
          "output_type": "stream",
          "name": "stdout",
          "text": [
            "    🔹 Train Loss: 0.2791 | Train Acc: 92.66%\n",
            "    🔸 Val Loss:   0.3287 | Val Acc:   91.04%\n"
          ]
        },
        {
          "output_type": "stream",
          "name": "stderr",
          "text": [
            "\r"
          ]
        },
        {
          "output_type": "display_data",
          "data": {
            "text/plain": [
              "<IPython.core.display.HTML object>"
            ],
            "text/html": []
          },
          "metadata": {}
        },
        {
          "output_type": "display_data",
          "data": {
            "text/plain": [
              "<IPython.core.display.HTML object>"
            ],
            "text/html": [
              "<br>    <style><br>        .wandb-row {<br>            display: flex;<br>            flex-direction: row;<br>            flex-wrap: wrap;<br>            justify-content: flex-start;<br>            width: 100%;<br>        }<br>        .wandb-col {<br>            display: flex;<br>            flex-direction: column;<br>            flex-basis: 100%;<br>            flex: 1;<br>            padding: 10px;<br>        }<br>    </style><br><div class=\"wandb-row\"><div class=\"wandb-col\"><h3>Run history:</h3><br/><table class=\"wandb\"><tr><td>epoch</td><td>▁▃▅▆█</td></tr><tr><td>train_accuracy</td><td>▁▃▅██</td></tr><tr><td>train_loss</td><td>█▄▃▁▁</td></tr><tr><td>val_accuracy</td><td>▁▂▇██</td></tr><tr><td>val_loss</td><td>█▆▂▁▁</td></tr></table><br/></div><div class=\"wandb-col\"><h3>Run summary:</h3><br/><table class=\"wandb\"><tr><td>epoch</td><td>5</td></tr><tr><td>train_accuracy</td><td>0.92657</td></tr><tr><td>train_loss</td><td>0.27911</td></tr><tr><td>val_accuracy</td><td>0.91042</td></tr><tr><td>val_loss</td><td>0.32867</td></tr></table><br/></div></div>"
            ]
          },
          "metadata": {}
        },
        {
          "output_type": "display_data",
          "data": {
            "text/plain": [
              "<IPython.core.display.HTML object>"
            ],
            "text/html": [
              " View run <strong style=\"color:#cdcd00\">Attn_GRU_emb64_hid32_drop30_lr1e-03</strong> at: <a href='https://wandb.ai/subikksha-indian-institute-of-technology-madras/DA6401_DL_ASSIGNMENT_03/runs/36ncivz1' target=\"_blank\">https://wandb.ai/subikksha-indian-institute-of-technology-madras/DA6401_DL_ASSIGNMENT_03/runs/36ncivz1</a><br> View project at: <a href='https://wandb.ai/subikksha-indian-institute-of-technology-madras/DA6401_DL_ASSIGNMENT_03' target=\"_blank\">https://wandb.ai/subikksha-indian-institute-of-technology-madras/DA6401_DL_ASSIGNMENT_03</a><br>Synced 5 W&B file(s), 0 media file(s), 0 artifact file(s) and 0 other file(s)"
            ]
          },
          "metadata": {}
        },
        {
          "output_type": "display_data",
          "data": {
            "text/plain": [
              "<IPython.core.display.HTML object>"
            ],
            "text/html": [
              "Find logs at: <code>./wandb/run-20250520_135757-36ncivz1/logs</code>"
            ]
          },
          "metadata": {}
        },
        {
          "output_type": "stream",
          "name": "stderr",
          "text": [
            "\u001b[34m\u001b[1mwandb\u001b[0m: Agent Starting Run: l87lbumj with config:\n",
            "\u001b[34m\u001b[1mwandb\u001b[0m: \tcell_type: RNN\n",
            "\u001b[34m\u001b[1mwandb\u001b[0m: \tdropout: 0.3\n",
            "\u001b[34m\u001b[1mwandb\u001b[0m: \tembedding_size: 256\n",
            "\u001b[34m\u001b[1mwandb\u001b[0m: \thidden_size: 16\n",
            "\u001b[34m\u001b[1mwandb\u001b[0m: \tlearning_rate: 0.0002895435794422085\n"
          ]
        },
        {
          "output_type": "display_data",
          "data": {
            "text/plain": [
              "<IPython.core.display.HTML object>"
            ],
            "text/html": [
              "Tracking run with wandb version 0.19.11"
            ]
          },
          "metadata": {}
        },
        {
          "output_type": "display_data",
          "data": {
            "text/plain": [
              "<IPython.core.display.HTML object>"
            ],
            "text/html": [
              "Run data is saved locally in <code>/content/wandb/run-20250520_140831-l87lbumj</code>"
            ]
          },
          "metadata": {}
        },
        {
          "output_type": "display_data",
          "data": {
            "text/plain": [
              "<IPython.core.display.HTML object>"
            ],
            "text/html": [
              "Syncing run <strong><a href='https://wandb.ai/subikksha-indian-institute-of-technology-madras/DA6401_DL_ASSIGNMENT_03/runs/l87lbumj' target=\"_blank\">misunderstood-sweep-15</a></strong> to <a href='https://wandb.ai/subikksha-indian-institute-of-technology-madras/DA6401_DL_ASSIGNMENT_03' target=\"_blank\">Weights & Biases</a> (<a href='https://wandb.me/developer-guide' target=\"_blank\">docs</a>)<br>Sweep page: <a href='https://wandb.ai/subikksha-indian-institute-of-technology-madras/DA6401_DL_ASSIGNMENT_03/sweeps/aprfza52' target=\"_blank\">https://wandb.ai/subikksha-indian-institute-of-technology-madras/DA6401_DL_ASSIGNMENT_03/sweeps/aprfza52</a>"
            ]
          },
          "metadata": {}
        },
        {
          "output_type": "display_data",
          "data": {
            "text/plain": [
              "<IPython.core.display.HTML object>"
            ],
            "text/html": [
              " View project at <a href='https://wandb.ai/subikksha-indian-institute-of-technology-madras/DA6401_DL_ASSIGNMENT_03' target=\"_blank\">https://wandb.ai/subikksha-indian-institute-of-technology-madras/DA6401_DL_ASSIGNMENT_03</a>"
            ]
          },
          "metadata": {}
        },
        {
          "output_type": "display_data",
          "data": {
            "text/plain": [
              "<IPython.core.display.HTML object>"
            ],
            "text/html": [
              " View sweep at <a href='https://wandb.ai/subikksha-indian-institute-of-technology-madras/DA6401_DL_ASSIGNMENT_03/sweeps/aprfza52' target=\"_blank\">https://wandb.ai/subikksha-indian-institute-of-technology-madras/DA6401_DL_ASSIGNMENT_03/sweeps/aprfza52</a>"
            ]
          },
          "metadata": {}
        },
        {
          "output_type": "display_data",
          "data": {
            "text/plain": [
              "<IPython.core.display.HTML object>"
            ],
            "text/html": [
              " View run at <a href='https://wandb.ai/subikksha-indian-institute-of-technology-madras/DA6401_DL_ASSIGNMENT_03/runs/l87lbumj' target=\"_blank\">https://wandb.ai/subikksha-indian-institute-of-technology-madras/DA6401_DL_ASSIGNMENT_03/runs/l87lbumj</a>"
            ]
          },
          "metadata": {}
        },
        {
          "output_type": "stream",
          "name": "stdout",
          "text": [
            "\n",
            "▶️ Starting Trial: Attn_RNN_emb256_hid16_drop30_lr3e-04 (ID: l87lbumj)\n",
            "🔧 Config: {'cell_type': 'RNN', 'dropout': 0.3, 'embedding_size': 256, 'hidden_size': 16, 'learning_rate': 0.0002895435794422085}\n",
            "📦 Epoch 1/5\n"
          ]
        },
        {
          "output_type": "stream",
          "name": "stderr",
          "text": []
        },
        {
          "output_type": "stream",
          "name": "stdout",
          "text": [
            "    🔹 Train Loss: 1.4423 | Train Acc: 67.98%\n",
            "    🔸 Val Loss:   1.1359 | Val Acc:   72.35%\n",
            "📦 Epoch 2/5\n"
          ]
        },
        {
          "output_type": "stream",
          "name": "stderr",
          "text": []
        },
        {
          "output_type": "stream",
          "name": "stdout",
          "text": [
            "    🔹 Train Loss: 1.0095 | Train Acc: 72.47%\n",
            "    🔸 Val Loss:   1.1042 | Val Acc:   69.71%\n",
            "📦 Epoch 3/5\n"
          ]
        },
        {
          "output_type": "stream",
          "name": "stderr",
          "text": []
        },
        {
          "output_type": "stream",
          "name": "stdout",
          "text": [
            "    🔹 Train Loss: 0.9547 | Train Acc: 73.26%\n",
            "    🔸 Val Loss:   0.9467 | Val Acc:   72.94%\n",
            "📦 Epoch 4/5\n"
          ]
        },
        {
          "output_type": "stream",
          "name": "stderr",
          "text": []
        },
        {
          "output_type": "stream",
          "name": "stdout",
          "text": [
            "    🔹 Train Loss: 0.9275 | Train Acc: 73.66%\n",
            "    🔸 Val Loss:   1.2430 | Val Acc:   65.04%\n",
            "📦 Epoch 5/5\n"
          ]
        },
        {
          "output_type": "stream",
          "name": "stderr",
          "text": [
            "                                                             "
          ]
        },
        {
          "output_type": "stream",
          "name": "stdout",
          "text": [
            "    🔹 Train Loss: 0.9061 | Train Acc: 74.01%\n",
            "    🔸 Val Loss:   0.9249 | Val Acc:   72.91%\n"
          ]
        },
        {
          "output_type": "stream",
          "name": "stderr",
          "text": [
            "\r"
          ]
        },
        {
          "output_type": "display_data",
          "data": {
            "text/plain": [
              "<IPython.core.display.HTML object>"
            ],
            "text/html": []
          },
          "metadata": {}
        },
        {
          "output_type": "display_data",
          "data": {
            "text/plain": [
              "<IPython.core.display.HTML object>"
            ],
            "text/html": [
              "<br>    <style><br>        .wandb-row {<br>            display: flex;<br>            flex-direction: row;<br>            flex-wrap: wrap;<br>            justify-content: flex-start;<br>            width: 100%;<br>        }<br>        .wandb-col {<br>            display: flex;<br>            flex-direction: column;<br>            flex-basis: 100%;<br>            flex: 1;<br>            padding: 10px;<br>        }<br>    </style><br><div class=\"wandb-row\"><div class=\"wandb-col\"><h3>Run history:</h3><br/><table class=\"wandb\"><tr><td>epoch</td><td>▁▃▅▆█</td></tr><tr><td>train_accuracy</td><td>▁▆▇██</td></tr><tr><td>train_loss</td><td>█▂▂▁▁</td></tr><tr><td>val_accuracy</td><td>▇▅█▁█</td></tr><tr><td>val_loss</td><td>▆▅▁█▁</td></tr></table><br/></div><div class=\"wandb-col\"><h3>Run summary:</h3><br/><table class=\"wandb\"><tr><td>epoch</td><td>5</td></tr><tr><td>train_accuracy</td><td>0.74014</td></tr><tr><td>train_loss</td><td>0.90613</td></tr><tr><td>val_accuracy</td><td>0.72908</td></tr><tr><td>val_loss</td><td>0.9249</td></tr></table><br/></div></div>"
            ]
          },
          "metadata": {}
        },
        {
          "output_type": "display_data",
          "data": {
            "text/plain": [
              "<IPython.core.display.HTML object>"
            ],
            "text/html": [
              " View run <strong style=\"color:#cdcd00\">Attn_RNN_emb256_hid16_drop30_lr3e-04</strong> at: <a href='https://wandb.ai/subikksha-indian-institute-of-technology-madras/DA6401_DL_ASSIGNMENT_03/runs/l87lbumj' target=\"_blank\">https://wandb.ai/subikksha-indian-institute-of-technology-madras/DA6401_DL_ASSIGNMENT_03/runs/l87lbumj</a><br> View project at: <a href='https://wandb.ai/subikksha-indian-institute-of-technology-madras/DA6401_DL_ASSIGNMENT_03' target=\"_blank\">https://wandb.ai/subikksha-indian-institute-of-technology-madras/DA6401_DL_ASSIGNMENT_03</a><br>Synced 5 W&B file(s), 0 media file(s), 0 artifact file(s) and 0 other file(s)"
            ]
          },
          "metadata": {}
        },
        {
          "output_type": "display_data",
          "data": {
            "text/plain": [
              "<IPython.core.display.HTML object>"
            ],
            "text/html": [
              "Find logs at: <code>./wandb/run-20250520_140831-l87lbumj/logs</code>"
            ]
          },
          "metadata": {}
        },
        {
          "output_type": "stream",
          "name": "stderr",
          "text": [
            "\u001b[34m\u001b[1mwandb\u001b[0m: Agent Starting Run: 30739kwe with config:\n",
            "\u001b[34m\u001b[1mwandb\u001b[0m: \tcell_type: LSTM\n",
            "\u001b[34m\u001b[1mwandb\u001b[0m: \tdropout: 0.3\n",
            "\u001b[34m\u001b[1mwandb\u001b[0m: \tembedding_size: 256\n",
            "\u001b[34m\u001b[1mwandb\u001b[0m: \thidden_size: 64\n",
            "\u001b[34m\u001b[1mwandb\u001b[0m: \tlearning_rate: 0.0001307614005013305\n"
          ]
        },
        {
          "output_type": "display_data",
          "data": {
            "text/plain": [
              "<IPython.core.display.HTML object>"
            ],
            "text/html": [
              "Tracking run with wandb version 0.19.11"
            ]
          },
          "metadata": {}
        },
        {
          "output_type": "display_data",
          "data": {
            "text/plain": [
              "<IPython.core.display.HTML object>"
            ],
            "text/html": [
              "Run data is saved locally in <code>/content/wandb/run-20250520_141611-30739kwe</code>"
            ]
          },
          "metadata": {}
        },
        {
          "output_type": "display_data",
          "data": {
            "text/plain": [
              "<IPython.core.display.HTML object>"
            ],
            "text/html": [
              "Syncing run <strong><a href='https://wandb.ai/subikksha-indian-institute-of-technology-madras/DA6401_DL_ASSIGNMENT_03/runs/30739kwe' target=\"_blank\">flowing-sweep-16</a></strong> to <a href='https://wandb.ai/subikksha-indian-institute-of-technology-madras/DA6401_DL_ASSIGNMENT_03' target=\"_blank\">Weights & Biases</a> (<a href='https://wandb.me/developer-guide' target=\"_blank\">docs</a>)<br>Sweep page: <a href='https://wandb.ai/subikksha-indian-institute-of-technology-madras/DA6401_DL_ASSIGNMENT_03/sweeps/aprfza52' target=\"_blank\">https://wandb.ai/subikksha-indian-institute-of-technology-madras/DA6401_DL_ASSIGNMENT_03/sweeps/aprfza52</a>"
            ]
          },
          "metadata": {}
        },
        {
          "output_type": "display_data",
          "data": {
            "text/plain": [
              "<IPython.core.display.HTML object>"
            ],
            "text/html": [
              " View project at <a href='https://wandb.ai/subikksha-indian-institute-of-technology-madras/DA6401_DL_ASSIGNMENT_03' target=\"_blank\">https://wandb.ai/subikksha-indian-institute-of-technology-madras/DA6401_DL_ASSIGNMENT_03</a>"
            ]
          },
          "metadata": {}
        },
        {
          "output_type": "display_data",
          "data": {
            "text/plain": [
              "<IPython.core.display.HTML object>"
            ],
            "text/html": [
              " View sweep at <a href='https://wandb.ai/subikksha-indian-institute-of-technology-madras/DA6401_DL_ASSIGNMENT_03/sweeps/aprfza52' target=\"_blank\">https://wandb.ai/subikksha-indian-institute-of-technology-madras/DA6401_DL_ASSIGNMENT_03/sweeps/aprfza52</a>"
            ]
          },
          "metadata": {}
        },
        {
          "output_type": "display_data",
          "data": {
            "text/plain": [
              "<IPython.core.display.HTML object>"
            ],
            "text/html": [
              " View run at <a href='https://wandb.ai/subikksha-indian-institute-of-technology-madras/DA6401_DL_ASSIGNMENT_03/runs/30739kwe' target=\"_blank\">https://wandb.ai/subikksha-indian-institute-of-technology-madras/DA6401_DL_ASSIGNMENT_03/runs/30739kwe</a>"
            ]
          },
          "metadata": {}
        },
        {
          "output_type": "stream",
          "name": "stdout",
          "text": [
            "\n",
            "▶️ Starting Trial: Attn_LSTM_emb256_hid64_drop30_lr1e-04 (ID: 30739kwe)\n",
            "🔧 Config: {'cell_type': 'LSTM', 'dropout': 0.3, 'embedding_size': 256, 'hidden_size': 64, 'learning_rate': 0.0001307614005013305}\n",
            "📦 Epoch 1/5\n"
          ]
        },
        {
          "output_type": "stream",
          "name": "stderr",
          "text": []
        },
        {
          "output_type": "stream",
          "name": "stdout",
          "text": [
            "    🔹 Train Loss: 1.1171 | Train Acc: 72.20%\n",
            "    🔸 Val Loss:   0.8247 | Val Acc:   75.26%\n",
            "📦 Epoch 2/5\n"
          ]
        },
        {
          "output_type": "stream",
          "name": "stderr",
          "text": []
        },
        {
          "output_type": "stream",
          "name": "stdout",
          "text": [
            "    🔹 Train Loss: 0.7824 | Train Acc: 76.38%\n",
            "    🔸 Val Loss:   0.7148 | Val Acc:   76.76%\n",
            "📦 Epoch 3/5\n"
          ]
        },
        {
          "output_type": "stream",
          "name": "stderr",
          "text": []
        },
        {
          "output_type": "stream",
          "name": "stdout",
          "text": [
            "    🔹 Train Loss: 0.6814 | Train Acc: 78.47%\n",
            "    🔸 Val Loss:   0.6542 | Val Acc:   77.89%\n",
            "📦 Epoch 4/5\n"
          ]
        },
        {
          "output_type": "stream",
          "name": "stderr",
          "text": []
        },
        {
          "output_type": "stream",
          "name": "stdout",
          "text": [
            "    🔹 Train Loss: 0.6168 | Train Acc: 80.20%\n",
            "    🔸 Val Loss:   0.6153 | Val Acc:   79.07%\n",
            "📦 Epoch 5/5\n"
          ]
        },
        {
          "output_type": "stream",
          "name": "stderr",
          "text": [
            "                                                             "
          ]
        },
        {
          "output_type": "stream",
          "name": "stdout",
          "text": [
            "    🔹 Train Loss: 0.5743 | Train Acc: 81.47%\n",
            "    🔸 Val Loss:   0.5864 | Val Acc:   79.89%\n"
          ]
        },
        {
          "output_type": "stream",
          "name": "stderr",
          "text": [
            "\r"
          ]
        },
        {
          "output_type": "display_data",
          "data": {
            "text/plain": [
              "<IPython.core.display.HTML object>"
            ],
            "text/html": []
          },
          "metadata": {}
        },
        {
          "output_type": "display_data",
          "data": {
            "text/plain": [
              "<IPython.core.display.HTML object>"
            ],
            "text/html": [
              "<br>    <style><br>        .wandb-row {<br>            display: flex;<br>            flex-direction: row;<br>            flex-wrap: wrap;<br>            justify-content: flex-start;<br>            width: 100%;<br>        }<br>        .wandb-col {<br>            display: flex;<br>            flex-direction: column;<br>            flex-basis: 100%;<br>            flex: 1;<br>            padding: 10px;<br>        }<br>    </style><br><div class=\"wandb-row\"><div class=\"wandb-col\"><h3>Run history:</h3><br/><table class=\"wandb\"><tr><td>epoch</td><td>▁▃▅▆█</td></tr><tr><td>train_accuracy</td><td>▁▄▆▇█</td></tr><tr><td>train_loss</td><td>█▄▂▂▁</td></tr><tr><td>val_accuracy</td><td>▁▃▅▇█</td></tr><tr><td>val_loss</td><td>█▅▃▂▁</td></tr></table><br/></div><div class=\"wandb-col\"><h3>Run summary:</h3><br/><table class=\"wandb\"><tr><td>epoch</td><td>5</td></tr><tr><td>train_accuracy</td><td>0.81468</td></tr><tr><td>train_loss</td><td>0.57433</td></tr><tr><td>val_accuracy</td><td>0.79889</td></tr><tr><td>val_loss</td><td>0.58644</td></tr></table><br/></div></div>"
            ]
          },
          "metadata": {}
        },
        {
          "output_type": "display_data",
          "data": {
            "text/plain": [
              "<IPython.core.display.HTML object>"
            ],
            "text/html": [
              " View run <strong style=\"color:#cdcd00\">Attn_LSTM_emb256_hid64_drop30_lr1e-04</strong> at: <a href='https://wandb.ai/subikksha-indian-institute-of-technology-madras/DA6401_DL_ASSIGNMENT_03/runs/30739kwe' target=\"_blank\">https://wandb.ai/subikksha-indian-institute-of-technology-madras/DA6401_DL_ASSIGNMENT_03/runs/30739kwe</a><br> View project at: <a href='https://wandb.ai/subikksha-indian-institute-of-technology-madras/DA6401_DL_ASSIGNMENT_03' target=\"_blank\">https://wandb.ai/subikksha-indian-institute-of-technology-madras/DA6401_DL_ASSIGNMENT_03</a><br>Synced 5 W&B file(s), 0 media file(s), 0 artifact file(s) and 0 other file(s)"
            ]
          },
          "metadata": {}
        },
        {
          "output_type": "display_data",
          "data": {
            "text/plain": [
              "<IPython.core.display.HTML object>"
            ],
            "text/html": [
              "Find logs at: <code>./wandb/run-20250520_141611-30739kwe/logs</code>"
            ]
          },
          "metadata": {}
        }
      ]
    },
    {
      "cell_type": "code",
      "source": [
        "sweep_id = 'aprfza52'\n",
        "\n",
        "api = wandb.Api()\n",
        "\n",
        "# Fetch the sweep\n",
        "sweep = api.sweep(f\"{ENTITY}/{PROJECT_NAME}/{sweep_id}\")\n",
        "\n",
        "# Get all runs in the sweep\n",
        "runs = sweep.runs\n",
        "\n",
        "# Sort runs by validation accuracy (or other metric)\n",
        "# Assuming 'val_accuracy' is the metric used for evaluation\n",
        "best_run = sorted(runs, key=lambda r: r.summary.get(\"val_accuracy\", float('-inf')), reverse=True)[0]\n",
        "\n",
        "# Print best metrics and hyperparameters\n",
        "print(\"\\n✅ Best Run Summary:\")\n",
        "print(f\"Run Name: {best_run.name}\")\n",
        "print(f\"Run ID: {best_run.id}\")\n",
        "print(f\"Validation Accuracy: {best_run.summary.get('val_accuracy'):.4f}\")\n",
        "\n",
        "print(\"\\n📌 Best Hyperparameters:\")\n",
        "for key, value in best_run.config.items():\n",
        "    if not key.startswith(\"_\"):  # Skip internal W&B keys\n",
        "        print(f\"{key}: {value}\")\n",
        "\n",
        "print(f\"\\n📊 Total runs in sweep `{sweep_id}`: {len(runs)}\\n\")\n"
      ],
      "metadata": {
        "colab": {
          "base_uri": "https://localhost:8080/"
        },
        "id": "CRkMi7Cw-mDf",
        "outputId": "6c9455f3-46f1-4c61-a7e5-7970a72d862a"
      },
      "execution_count": 30,
      "outputs": [
        {
          "output_type": "stream",
          "name": "stdout",
          "text": [
            "\n",
            "✅ Best Run Summary:\n",
            "Run Name: Attn_LSTM_emb16_hid256_drop30_lr8e-04\n",
            "Run ID: g8y9lojd\n",
            "Validation Accuracy: 0.9384\n",
            "\n",
            "📌 Best Hyperparameters:\n",
            "dropout: 0.3\n",
            "cell_type: LSTM\n",
            "hidden_size: 256\n",
            "learning_rate: 0.000754209497625233\n",
            "embedding_size: 16\n",
            "\n",
            "📊 Total runs in sweep `aprfza52`: 16\n",
            "\n"
          ]
        }
      ]
    },
    {
      "cell_type": "code",
      "source": [
        "# file ipython-input-23-106b12516029\n",
        "# Best hyperparameters found from the sweep (assuming the last sweep run found the best config)\n",
        "# Or manually set the best config based on the sweep results printout\n",
        "best_config_attn = {\n",
        "    'embedding_size': 16,\n",
        "    'hidden_size': 256,\n",
        "    'cell_type': 'LSTM',\n",
        "    'dropout': 0.3,\n",
        "    'learning_rate': 0.000754209497625233\n",
        "}\n",
        "\n",
        "# --- Train the best Attention model ---\n",
        "\n",
        "input_vocab_size = len(input_char_enc)\n",
        "output_vocab_size = len(target_char_enc)\n",
        "\n",
        "# Instantiate the Attention, Encoder, and Decoder using the best_config_attn\n",
        "attention = Attention(best_config_attn['hidden_size'])\n",
        "\n",
        "encoder = Encoder(\n",
        "    input_vocab_size=input_vocab_size,\n",
        "    embedding_dim=best_config_attn['embedding_size'],\n",
        "    hidden_dim=best_config_attn['hidden_size'],\n",
        "    num_layers=1,  # Fixed for this attention model structure\n",
        "    cell_type=best_config_attn['cell_type'],\n",
        "    dropout=best_config_attn['dropout']\n",
        ")\n",
        "\n",
        "decoder = AttnDecoder(\n",
        "    output_vocab_size=output_vocab_size,\n",
        "    embedding_dim=best_config_attn['embedding_size'],\n",
        "    hidden_dim=best_config_attn['hidden_size'],\n",
        "    attention=attention,\n",
        "    cell_type=best_config_attn['cell_type']\n",
        "    # No dropout or num_layers in AttnDecoder definition\n",
        ")\n",
        "\n",
        "# Instantiate Seq2Seq with Attention\n",
        "model_attn = AttnSeq2Seq(encoder, decoder, device).to(device)\n",
        "optimizer_attn = torch.optim.Adam(model_attn.parameters(), lr=best_config_attn[\"learning_rate\"])\n",
        "criterion_attn = nn.CrossEntropyLoss()\n",
        "\n",
        "# Get the data loaders\n",
        "train_loader, val_loader = get_dataloaders(batch_size=64) # Re-using the function defined earlier\n",
        "\n",
        "# Combine train + val datasets\n",
        "combined_dataset_attn = torch.utils.data.ConcatDataset([train_loader.dataset, val_loader.dataset])\n",
        "combined_loader_attn = DataLoader(combined_dataset_attn, batch_size=64, shuffle=True)\n",
        "\n",
        "EPOCHS = 1  # Train for 5 epochs\n",
        "clip = 1.0\n",
        "\n",
        "print(f\"\\n--- Training Best Attention Model for {EPOCHS} epochs ---\")\n",
        "\n",
        "for epoch in range(EPOCHS):\n",
        "    train_loss_attn, train_acc_attn = attn_train(model_attn, combined_loader_attn, optimizer_attn, criterion_attn, clip, device)\n",
        "    print(f\"Epoch {epoch+1}/{EPOCHS} - Loss: {train_loss_attn:.4f} - Accuracy: {train_acc_attn:.4f}\")\n",
        "\n",
        "# Save the Best Attention model\n",
        "torch.save(model_attn.state_dict(), \"/content/drive/MyDrive/best_attention_model_longtrain.pt\")\n",
        "print(\"\\n✅ Best Attention model saved.\")"
      ],
      "metadata": {
        "colab": {
          "base_uri": "https://localhost:8080/"
        },
        "id": "u25_h-YAKVHf",
        "outputId": "be27630a-8d54-46dd-d229-aebe482b8c61"
      },
      "execution_count": 15,
      "outputs": [
        {
          "output_type": "stream",
          "name": "stdout",
          "text": [
            "\n",
            "--- Training Best Attention Model for 1 epochs ---\n"
          ]
        },
        {
          "output_type": "stream",
          "name": "stderr",
          "text": [
            "                                                             "
          ]
        },
        {
          "output_type": "stream",
          "name": "stdout",
          "text": [
            "Epoch 1/1 - Loss: 0.6663 - Accuracy: 0.8106\n",
            "\n",
            "✅ Best Attention model saved.\n"
          ]
        },
        {
          "output_type": "stream",
          "name": "stderr",
          "text": [
            "\r"
          ]
        }
      ]
    },
    {
      "cell_type": "code",
      "source": [
        "\n",
        "# --- Evaluate the best Attention model on the test set ---\n",
        "\n",
        "# Need to create the test_loader\n",
        "test_dataset = TensorDataset(torch.tensor(test_enc_input, dtype=torch.long),\n",
        "                              torch.tensor(test_dec_input, dtype=torch.long),\n",
        "                              torch.tensor(test_dec_target, dtype=torch.float))\n",
        "test_loader = DataLoader(test_dataset, batch_size=64) # Use the same batch size\n",
        "\n",
        "print(\"\\n--- Evaluating Best Attention Model on Test Set ---\")\n",
        "test_loss_attn, test_acc_attn = attn_evaluate(model_attn, test_loader, criterion_attn, device)\n",
        "\n",
        "print(f\"\\nFinal Test Results for Attention Model:\")\n",
        "print(f\"Test Loss: {test_loss_attn:.4f}\")\n",
        "print(f\"✅ Sequence Accuracy: {test_acc_attn * 100:.2f}%\")\n",
        "\n",
        "# --- Evaluate the best Attention model on the test set ---\n",
        "\n",
        "# Need to create the test_loader\n",
        "test_dataset = TensorDataset(torch.tensor(test_enc_input, dtype=torch.long),\n",
        "                              torch.tensor(test_dec_input, dtype=torch.long),\n",
        "                              torch.tensor(test_dec_target, dtype=torch.float))\n",
        "test_loader = DataLoader(test_dataset, batch_size=64) # Use the same batch size\n",
        "\n",
        "print(\"\\n--- Evaluating Best Attention Model on Test Set ---\")\n",
        "test_loss_attn, test_acc_attn = attn_evaluate(model_attn, test_loader, criterion_attn, device)\n",
        "\n",
        "print(f\"\\nFinal Test Results for Attention Model:\")\n",
        "print(f\"Test Loss: {test_loss_attn:.4f}\")\n",
        "print(f\"✅ Sequence Accuracy: {test_acc_attn * 100:.2f}%\")\n",
        "\n",
        "# You might want to add the character-level accuracy and prediction samples visualization\n",
        "# as done for the vanilla model. This requires updating the test function to handle\n",
        "# the attention model's predict method signature (which needs src_lens).\n",
        "\n",
        "# Example of running test function with attention model\n",
        "def test_attn(model, test_loader, criterion, max_len=20):\n",
        "    model.eval()\n",
        "    test_loss = 0\n",
        "    test_acc = 0\n",
        "    all_predictions = []\n",
        "    all_targets = []\n",
        "    all_inputs = []\n",
        "\n",
        "    # Assuming input_char_dec and target_char_dec are available from previous cells\n",
        "    global input_char_dec, target_char_dec, target_char_enc, PAD_token, SOS_token, EOS_token\n",
        "    # Create a decoder dictionary from the target_char_enc dictionary for easier lookup\n",
        "    target_char_decoder_dict = {v: k for k, v in target_char_enc.items()}\n",
        "\n",
        "\n",
        "    with torch.no_grad():\n",
        "        for src, trg_inp, trg_target in tqdm(test_loader, desc=\"Testing Attention Model\"):\n",
        "            src = src.to(device)\n",
        "            trg_inp = trg_inp.to(device) # Keep trg_inp for loss calculation with teacher forcing=0\n",
        "            trg_target = trg_target.to(device)\n",
        "\n",
        "            # Get source sequence lengths\n",
        "            src_lens = (src != PAD_token).sum(dim=1)\n",
        "\n",
        "            # 1. Calculate loss and accuracy (teacher forcing = 0)\n",
        "            # Note: The model forward pass with teacher_forcing_ratio=0 implicitly uses its own predictions\n",
        "            #       However, for loss calculation, we still compare against the target.\n",
        "            #       We'll calculate loss using the model's output when predicting from trg_inp\n",
        "            #       with teacher_forcing_ratio=0, as done in attn_evaluate.\n",
        "            # Ensure decoder input has the same length as trg_target for loss calculation\n",
        "            output = model(src, src_lens, trg_inp, teacher_forcing_ratio=0)\n",
        "            output_dim = output.shape[-1]\n",
        "            # Reshape output and target, excluding the first token (SOS)\n",
        "            output_flat = output[:, 1:].reshape(-1, output_dim)\n",
        "            # Convert one-hot target to indices, excluding the first token (SOS)\n",
        "            trg_target_flat = trg_target[:, 1:].reshape(-1, output_dim).argmax(1)\n",
        "\n",
        "            # Filter out padded tokens from loss and accuracy calculation\n",
        "            # Find the indices of non-padding tokens in the flattened target\n",
        "            non_pad_mask = (trg_target_flat != PAD_token) # Use PAD_token index\n",
        "\n",
        "            # Apply the mask\n",
        "            output_flat_filtered = output_flat[non_pad_mask]\n",
        "            trg_target_flat_filtered = trg_target_flat[non_pad_mask]\n",
        "\n",
        "            # Calculate loss and accuracy on filtered data\n",
        "            loss = criterion(output_flat_filtered, trg_target_flat_filtered)\n",
        "            acc = compute_accuracy(output_flat_filtered, trg_target_flat_filtered)\n",
        "\n",
        "\n",
        "            test_loss += loss.item()\n",
        "            test_acc += acc.item()\n",
        "\n",
        "            # 2. Run autoregressive inference for examples using the predict method\n",
        "            predictions = model.predict(src, src_lens, max_len=max_len)\n",
        "\n",
        "            # Store results for analysis\n",
        "            for i in range(src.size(0)):\n",
        "                # Process input\n",
        "                input_indices = src[i].cpu().numpy()\n",
        "                # Corrected: Use list indexing for input_char_dec\n",
        "                input_text = ''.join([input_char_dec[idx] if 0 <= idx < len(input_char_dec) else '?' for idx in input_indices if idx != PAD_token])\n",
        "\n",
        "                # Process prediction\n",
        "                pred_indices = predictions[i].cpu().numpy()\n",
        "                # Decode prediction using target_char_decoder_dict\n",
        "                pred_text = ''.join([target_char_decoder_dict.get(idx, '?') for idx in pred_indices\n",
        "                                 if idx not in {SOS_token, PAD_token, EOS_token}]) # Also remove EOS token from prediction string\n",
        "\n",
        "                # Process true target (from trg_target one-hot)\n",
        "                true_indices = trg_target[i].argmax(-1).cpu().numpy()\n",
        "                # Decode true target using target_char_decoder_dict\n",
        "                true_text = ''.join([target_char_decoder_dict.get(idx, '?') for idx in true_indices\n",
        "                                   if idx not in {SOS_token, EOS_token, PAD_token}])\n",
        "\n",
        "                all_inputs.append(input_text)\n",
        "                all_predictions.append(pred_text)\n",
        "                all_targets.append(true_text)\n",
        "\n",
        "    # Calculate averages\n",
        "    avg_loss = test_loss / len(test_loader)\n",
        "    avg_acc = test_acc / len(test_loader)\n",
        "\n",
        "    # Calculate character-level accuracy\n",
        "    char_correct = 0\n",
        "    char_total = 0\n",
        "    for pred, true in zip(all_predictions, all_targets):\n",
        "        # Only compare characters present in both strings up to the length of the shorter string\n",
        "        min_len = min(len(pred), len(true))\n",
        "        char_correct += sum(1 for p, t in zip(pred[:min_len], true[:min_len]) if p == t)\n",
        "        # Total characters considered are the characters in the longer string\n",
        "        char_total += max(len(pred), len(true)) # This counts characters including potential mismatching lengths\n",
        "\n",
        "    # A better approach for character accuracy might be to align sequences or use Levenshtein-based similarity\n",
        "    # For now, keep the existing logic but be mindful of its limitations with varying lengths\n",
        "\n",
        "    char_acc = char_correct / char_total if char_total > 0 else 0\n",
        "\n",
        "\n",
        "    return avg_loss, avg_acc, all_inputs, all_predictions, all_targets, char_acc\n",
        "\n",
        "\n",
        "# Now run the test function for the attention model\n",
        "print(\"\\n🧪 Running comprehensive test for Attention Model...\")\n",
        "test_loss_attn_comp, test_acc_attn_comp, test_inputs_attn, test_preds_attn, test_targets_attn, char_acc_attn = test_attn(model_attn, test_loader, criterion_attn, max_len=max_decoder_seq_length)\n",
        "\n",
        "print(f\"\\n📊 Final Comprehensive Test Results for Attention Model:\")\n",
        "print(f\"Test Loss: {test_loss_attn_comp:.4f}\")\n",
        "print(f\"✅ Sequence Accuracy: {test_acc_attn_comp * 100:.2f}%\")\n",
        "print(f\"✅ Character Accuracy: {char_acc_attn * 100:.2f}%\")\n",
        "\n",
        "# Save predictions for analysis\n",
        "results_df_attn = pd.DataFrame({\n",
        "    'input': test_inputs_attn,\n",
        "    'predicted': test_preds_attn,\n",
        "    'true': test_targets_attn,\n",
        "    'correct': [p == t for p, t in zip(test_preds_attn, test_targets_attn)]\n",
        "})\n",
        "\n",
        "os.makedirs(\"predictions_attention\", exist_ok=True)\n",
        "output_path_attn = os.path.join(\"predictions_attention\", \"full_predictions_attn.csv\")\n",
        "results_df_attn.to_csv(output_path_attn, index=False, encoding='utf-8')\n",
        "print(f\"💾 Saved test predictions to '{output_path_attn}'\")\n",
        "\n",
        "# Visualize sample predictions for Attention Model (Optional, using the same visualization code)\n",
        "# Need to get samples from the test_loader again if you want fresh samples\n",
        "samples_attn = random.sample(list(test_loader.dataset), 12) # Get 12 random samples for visualization\n",
        "\n",
        "rows_attn = []\n",
        "target_char_decoder_dict = {v: k for k, v in target_char_enc.items()} # Re-create decoder dict\n",
        "\n",
        "for src, trg_inp, trg_target in samples_attn:\n",
        "    # Decode input from src (tensor) using input_char_dec (list)\n",
        "    input_text = decode_sequence(src.tolist(), input_char_dec, ignore_special_chars=True)\n",
        "    # Decode target from trg_target (one-hot tensor) using target_char_dec (list)\n",
        "    target_text = decode_sequence(trg_target.argmax(-1).tolist(), target_char_dec, ignore_special_chars=True) # Correctly decode target from trg_target\n",
        "    # Predict using the predict method for attention model\n",
        "    src_tensor = src.unsqueeze(0).to(device)\n",
        "    src_lens_tensor = torch.tensor([(src != PAD_token).sum()], dtype=torch.long).to(device)\n",
        "    # predict_sample_attn is not defined, should use model_attn.predict and decode_sequence\n",
        "    predicted_indices = model_attn.predict(src_tensor, src_lens_tensor, max_len=max_decoder_seq_length)[0].cpu().numpy()\n",
        "    predicted_text = decode_sequence(predicted_indices, target_char_dec, ignore_special_chars=True)\n",
        "\n",
        "    lev_dist = levenshtein_distance(predicted_text, target_text)\n",
        "\n",
        "    rows_attn.append({\n",
        "        \"input\": input_text,\n",
        "        \"target\": target_text,\n",
        "        \"predicted\": predicted_text,\n",
        "        \"levenshtein\": lev_dist\n",
        "    })\n",
        "\n",
        "# Visualization code (re-using the same structure)\n",
        "n_cols = 3\n",
        "n_rows = -(-len(rows_attn) // n_cols)  # Ceiling division\n",
        "fig, axarr = plt.subplots(n_rows, n_cols, figsize=(18, n_rows * 2.5))\n",
        "fig.patch.set_facecolor('#f8f9fa')\n",
        "plt.subplots_adjust(hspace=0.6)\n",
        "\n",
        "# Flatten axarr if it's a 2D array\n",
        "if n_rows > 1:\n",
        "    axarr_flat = axarr.flatten()\n",
        "else:\n",
        "    axarr_flat = axarr\n",
        "\n",
        "\n",
        "for idx, row in enumerate(rows_attn):\n",
        "    ax = axarr_flat[idx] # Use flattened array\n",
        "    ax.axis('off')\n",
        "    ax.set_xlim(0, 1)\n",
        "    ax.set_ylim(0, 1)\n",
        "\n",
        "    # Background color based on accuracy\n",
        "    ax.add_patch(patches.Rectangle((0, 0), 1, 1, color=get_color(row['levenshtein']), alpha=0.3))\n",
        "\n",
        "    # Text elements\n",
        "    ax.text(0.02, 0.85, \"Input:\", fontsize=10, fontweight='bold', va='top')\n",
        "    ax.text(0.18, 0.85, row['input'], fontsize=12, family='monospace')\n",
        "\n",
        "    ax.text(0.02, 0.65, \"Target:\", fontsize=10, fontweight='bold', va='top')\n",
        "    ax.text(0.18, 0.60, row['target'], fontproperties=tamil_font)\n",
        "\n",
        "    ax.text(0.02, 0.45, \"Predicted:\", fontsize=10, fontweight='bold', va='top')\n",
        "    ax.text(0.25, 0.40, row['predicted'], fontproperties=tamil_font)\n",
        "\n",
        "    ax.text(0.02, 0.2, f\"Lev. Distance: {row['levenshtein']}\", fontsize=9,\n",
        "            bbox=dict(facecolor='white', alpha=0.7, edgecolor='gray', boxstyle='round,pad=0.3'))\n",
        "\n",
        "# Hide unused subplots\n",
        "for j in range(len(rows_attn), n_rows * n_cols):\n",
        "    ax = axarr_flat[j] # Use flattened array\n",
        "    ax.axis('off')\n",
        "\n",
        "plt.suptitle(\"📊 Attention Model Predictions (Latin → Tamil)\", fontsize=16, fontweight='bold', y=1.02)\n",
        "plt.tight_layout()\n",
        "\n",
        "# Save and show\n",
        "plt.savefig('tamil_predictions_attn.png', bbox_inches='tight', dpi=300)\n",
        "plt.show()\n",
        "\n",
        "print(f\"\\n📈 Summary for {len(rows_attn)} sample predictions (Attention Model):\")\n",
        "total_lev_attn = sum(row['levenshtein'] for row in rows_attn)\n",
        "print(f\"Average Levenshtein distance: {total_lev_attn/len(rows_attn):.2f}\")\n",
        "print(f\"Perfect predictions: {sum(1 for row in rows_attn if row['levenshtein'] == 0)}/{len(rows_attn)}\")\n",
        "print(f\"Good predictions (distance ≤ 2): {sum(1 for row in rows_attn if row['levenshtein'] <= 2)}/{len(rows_attn)}\")\n"
      ],
      "metadata": {
        "colab": {
          "base_uri": "https://localhost:8080/",
          "height": 558
        },
        "id": "0lu9fGx_J5fn",
        "outputId": "f29e1cb0-8b4b-4053-aa91-b660f7e41d8f"
      },
      "execution_count": 17,
      "outputs": [
        {
          "output_type": "stream",
          "name": "stdout",
          "text": [
            "\n",
            "--- Evaluating Best Attention Model on Test Set ---\n"
          ]
        },
        {
          "output_type": "stream",
          "name": "stderr",
          "text": []
        },
        {
          "output_type": "stream",
          "name": "stdout",
          "text": [
            "\n",
            "Final Test Results for Attention Model:\n",
            "Test Loss: 0.3577\n",
            "✅ Sequence Accuracy: 90.50%\n",
            "\n",
            "--- Evaluating Best Attention Model on Test Set ---\n"
          ]
        },
        {
          "output_type": "stream",
          "name": "stderr",
          "text": []
        },
        {
          "output_type": "stream",
          "name": "stdout",
          "text": [
            "\n",
            "Final Test Results for Attention Model:\n",
            "Test Loss: 0.3577\n",
            "✅ Sequence Accuracy: 90.50%\n",
            "\n",
            "🧪 Running comprehensive test for Attention Model...\n"
          ]
        },
        {
          "output_type": "stream",
          "name": "stderr",
          "text": [
            "Testing Attention Model: 100%|██████████| 108/108 [01:13<00:00,  1.48it/s]"
          ]
        },
        {
          "output_type": "stream",
          "name": "stdout",
          "text": [
            "\n",
            "📊 Final Comprehensive Test Results for Attention Model:\n",
            "Test Loss: 0.3549\n",
            "✅ Sequence Accuracy: 90.59%\n",
            "✅ Character Accuracy: 71.07%\n"
          ]
        },
        {
          "output_type": "stream",
          "name": "stderr",
          "text": [
            "\n"
          ]
        },
        {
          "output_type": "error",
          "ename": "NameError",
          "evalue": "name 'os' is not defined",
          "traceback": [
            "\u001b[0;31m---------------------------------------------------------------------------\u001b[0m",
            "\u001b[0;31mNameError\u001b[0m                                 Traceback (most recent call last)",
            "\u001b[0;32m<ipython-input-17-0547d2cf97ce>\u001b[0m in \u001b[0;36m<cell line: 0>\u001b[0;34m()\u001b[0m\n\u001b[1;32m    152\u001b[0m })\n\u001b[1;32m    153\u001b[0m \u001b[0;34m\u001b[0m\u001b[0m\n\u001b[0;32m--> 154\u001b[0;31m \u001b[0mos\u001b[0m\u001b[0;34m.\u001b[0m\u001b[0mmakedirs\u001b[0m\u001b[0;34m(\u001b[0m\u001b[0;34m\"predictions_attention\"\u001b[0m\u001b[0;34m,\u001b[0m \u001b[0mexist_ok\u001b[0m\u001b[0;34m=\u001b[0m\u001b[0;32mTrue\u001b[0m\u001b[0;34m)\u001b[0m\u001b[0;34m\u001b[0m\u001b[0;34m\u001b[0m\u001b[0m\n\u001b[0m\u001b[1;32m    155\u001b[0m \u001b[0moutput_path_attn\u001b[0m \u001b[0;34m=\u001b[0m \u001b[0mos\u001b[0m\u001b[0;34m.\u001b[0m\u001b[0mpath\u001b[0m\u001b[0;34m.\u001b[0m\u001b[0mjoin\u001b[0m\u001b[0;34m(\u001b[0m\u001b[0;34m\"predictions_attention\"\u001b[0m\u001b[0;34m,\u001b[0m \u001b[0;34m\"full_predictions_attn.csv\"\u001b[0m\u001b[0;34m)\u001b[0m\u001b[0;34m\u001b[0m\u001b[0;34m\u001b[0m\u001b[0m\n\u001b[1;32m    156\u001b[0m \u001b[0mresults_df_attn\u001b[0m\u001b[0;34m.\u001b[0m\u001b[0mto_csv\u001b[0m\u001b[0;34m(\u001b[0m\u001b[0moutput_path_attn\u001b[0m\u001b[0;34m,\u001b[0m \u001b[0mindex\u001b[0m\u001b[0;34m=\u001b[0m\u001b[0;32mFalse\u001b[0m\u001b[0;34m,\u001b[0m \u001b[0mencoding\u001b[0m\u001b[0;34m=\u001b[0m\u001b[0;34m'utf-8'\u001b[0m\u001b[0;34m)\u001b[0m\u001b[0;34m\u001b[0m\u001b[0;34m\u001b[0m\u001b[0m\n",
            "\u001b[0;31mNameError\u001b[0m: name 'os' is not defined"
          ]
        }
      ]
    },
    {
      "cell_type": "code",
      "source": [
        "import os\n",
        "import pandas as pd\n",
        "from tqdm import tqdm\n",
        "import torch\n",
        "import torch.nn as nn\n",
        "import torch.nn.functional as F\n",
        "from torch.utils.data import DataLoader, TensorDataset\n",
        "from Levenshtein import distance as levenshtein_distance\n",
        "import random\n",
        "import matplotlib.pyplot as plt\n",
        "import matplotlib.patches as patches\n",
        "from matplotlib.font_manager import FontProperties\n",
        "import numpy as np # Ensure numpy is imported if decode_sequence uses .numpy()\n",
        "\n",
        "\n",
        "# Ensure these variables are accessible from previous cells\n",
        "# You might need to re-run the data processing cells if you are only running this cell\n",
        "# PAD_token, SOS_token, EOS_token, input_char_dec, target_char_dec, target_char_enc, max_decoder_seq_length, device, model_attn, criterion_attn, test_loader\n",
        "\n",
        "# Re-define necessary helper functions if they are not guaranteed to be in scope\n",
        "def compute_accuracy(output, target):\n",
        "    # output: [batch_size * seq_len, vocab_size]\n",
        "    # target: [batch_size * seq_len]\n",
        "    preds = output.argmax(dim=1)\n",
        "    correct = (preds == target).float()\n",
        "    return correct.sum() / len(target)\n",
        "\n",
        "def get_color(lev_dist):\n",
        "    \"\"\"Return color based on Levenshtein distance\"\"\"\n",
        "    if lev_dist == 0:\n",
        "        return 'green'\n",
        "    elif lev_dist <= 2:\n",
        "        return 'orange'\n",
        "    else:\n",
        "        return 'red'\n",
        "\n",
        "def decode_sequence(sequence, vocab_list, ignore_special_chars=True):\n",
        "    \"\"\"Convert sequence of indices to text using a vocabulary list.\"\"\"\n",
        "    special_tokens = set()\n",
        "    # Safely add special tokens if they exist in the global scope\n",
        "    if 'PAD_token' in globals():\n",
        "        special_tokens.add(PAD_token)\n",
        "    if 'SOS_token' in globals():\n",
        "         special_tokens.add(SOS_token)\n",
        "    if 'EOS_token' in globals():\n",
        "         special_tokens.add(EOS_token)\n",
        "\n",
        "\n",
        "    text = []\n",
        "    for idx in sequence:\n",
        "        # Check if the index is valid for the vocabulary list\n",
        "        if 0 <= idx < len(vocab_list):\n",
        "             char = vocab_list[idx]\n",
        "        else:\n",
        "             char = '?' # Unknown character\n",
        "\n",
        "        if ignore_special_chars and idx in special_tokens:\n",
        "            continue\n",
        "\n",
        "        text.append(char)\n",
        "\n",
        "    return ''.join(text)\n",
        "\n",
        "# Test Function with Inference for Attention Model\n",
        "def test_attn(model, test_loader, criterion, max_len=20):\n",
        "    model.eval()\n",
        "    test_loss = 0\n",
        "    test_acc = 0\n",
        "    all_predictions = []\n",
        "    all_targets = []\n",
        "    all_inputs = []\n",
        "\n",
        "    # Assuming input_char_dec and target_char_dec are available from previous cells\n",
        "    # Create a decoder dictionary from the target_char_enc dictionary for easier lookup\n",
        "    target_char_decoder_dict = {v: k for k, v in target_char_enc.items()}\n",
        "\n",
        "    with torch.no_grad():\n",
        "        for src, trg_inp, trg_target in tqdm(test_loader, desc=\"Testing Attention Model\"):\n",
        "            src = src.to(device)\n",
        "            trg_inp = trg_inp.to(device)\n",
        "            trg_target = trg_target.to(device)\n",
        "\n",
        "            # Get source sequence lengths\n",
        "            # Ensure PAD_token is accessible\n",
        "            if 'PAD_token' not in globals():\n",
        "                 print(\"Warning: PAD_token not found. Cannot filter padding.\")\n",
        "                 src_lens = torch.tensor([src.size(1)] * src.size(0), dtype=torch.long).to(device) # Assume no padding if PAD_token is missing\n",
        "            else:\n",
        "                 src_lens = (src != PAD_token).sum(dim=1)\n",
        "\n",
        "\n",
        "            # 1. Calculate loss and accuracy (teacher forcing = 0)\n",
        "            output = model(src, src_lens, trg_inp, teacher_forcing_ratio=0)\n",
        "            output_dim = output.shape[-1]\n",
        "            # Reshape output and target, excluding the first token (SOS)\n",
        "            output_flat = output[:, 1:].reshape(-1, output_dim)\n",
        "            # Convert one-hot target to indices, excluding the first token (SOS)\n",
        "            trg_target_flat = trg_target[:, 1:].reshape(-1, output_dim).argmax(1)\n",
        "\n",
        "            # Filter out padded tokens from loss and accuracy calculation\n",
        "            # Find the indices of non-padding tokens in the flattened target\n",
        "            # Ensure PAD_token is accessible\n",
        "            if 'PAD_token' in globals():\n",
        "                 non_pad_mask = (trg_target_flat != PAD_token) # Use PAD_token index\n",
        "\n",
        "                 # Apply the mask\n",
        "                 output_flat_filtered = output_flat[non_pad_mask]\n",
        "                 trg_target_flat_filtered = trg_target_flat[non_pad_mask]\n",
        "\n",
        "                 # Calculate loss and accuracy on filtered data\n",
        "                 loss = criterion(output_flat_filtered, trg_target_flat_filtered)\n",
        "                 acc = compute_accuracy(output_flat_filtered, trg_target_flat_filtered)\n",
        "            else:\n",
        "                 # If PAD_token is not available, calculate loss/acc on everything (less ideal)\n",
        "                 loss = criterion(output_flat, trg_target_flat)\n",
        "                 acc = compute_accuracy(output_flat, trg_target_flat)\n",
        "\n",
        "\n",
        "            test_loss += loss.item()\n",
        "            test_acc += acc.item()\n",
        "\n",
        "            # 2. Run autoregressive inference for examples using the predict method\n",
        "            predictions = model.predict(src, src_lens, max_len=max_len)\n",
        "\n",
        "            # Store results for analysis\n",
        "            for i in range(src.size(0)):\n",
        "                # Process input\n",
        "                input_indices = src[i].cpu().numpy()\n",
        "                # Corrected: Use list indexing for input_char_dec\n",
        "                input_text = ''.join([input_char_dec[idx] if 0 <= idx < len(input_char_dec) else '?' for idx in input_indices if 'PAD_token' in globals() and idx != PAD_token])\n",
        "\n",
        "                # Process prediction\n",
        "                pred_indices = predictions[i].cpu().numpy()\n",
        "                # Decode prediction using target_char_decoder_dict\n",
        "                # Ensure SOS_token, PAD_token, EOS_token are accessible\n",
        "                ignore_tokens = set()\n",
        "                if 'SOS_token' in globals(): ignore_tokens.add(SOS_token)\n",
        "                if 'PAD_token' in globals(): ignore_tokens.add(PAD_token)\n",
        "                if 'EOS_token' in globals(): ignore_tokens.add(EOS_token)\n",
        "\n",
        "                pred_text = ''.join([target_char_decoder_dict.get(idx, '?') for idx in pred_indices\n",
        "                                 if idx not in ignore_tokens])\n",
        "\n",
        "\n",
        "                # Process true target (from trg_target one-hot)\n",
        "                true_indices = trg_target[i].argmax(-1).cpu().numpy()\n",
        "                # Decode true target using target_char_decoder_dict\n",
        "                true_text = ''.join([target_char_decoder_dict.get(idx, '?') for idx in true_indices\n",
        "                                   if idx not in ignore_tokens])\n",
        "\n",
        "                all_inputs.append(input_text)\n",
        "                all_predictions.append(pred_text)\n",
        "                all_targets.append(true_text)\n",
        "\n",
        "    # Calculate averages\n",
        "    avg_loss = test_loss / len(test_loader)\n",
        "    avg_acc = test_acc / len(test_loader)\n",
        "\n",
        "    # Calculate character-level accuracy\n",
        "    char_correct = 0\n",
        "    char_total = 0\n",
        "    for pred, true in zip(all_predictions, all_targets):\n",
        "        # Only compare characters present in both strings up to the length of the shorter string\n",
        "        min_len = min(len(pred), len(true))\n",
        "        char_correct += sum(1 for p, t in zip(pred[:min_len], true[:min_len]) if p == t)\n",
        "        # Total characters considered are the characters in the longer string\n",
        "        char_total += max(len(pred), len(true)) # This counts characters including potential mismatching lengths\n",
        "\n",
        "    # A better approach for character accuracy might be to align sequences or use Levenshtein-based similarity\n",
        "    # For now, keep the existing logic but be mindful of its limitations with varying lengths\n",
        "\n",
        "    char_acc = char_correct / char_total if char_total > 0 else 0\n",
        "\n",
        "\n",
        "    return avg_loss, avg_acc, all_inputs, all_predictions, all_targets, char_acc\n",
        "\n",
        "# --- Evaluate the best Attention model on the test set ---\n",
        "\n",
        "# Need to create the test_loader\n",
        "# Ensure test_enc_input, test_dec_input, test_dec_target are accessible\n",
        "# test_dataset = TensorDataset(torch.tensor(test_enc_input, dtype=torch.long),\n",
        "#                               torch.tensor(test_dec_input, dtype=torch.long),\n",
        "#                               torch.tensor(test_dec_target, dtype=torch.float))\n",
        "# test_loader = DataLoader(test_dataset, batch_size=64) # Use the same batch size\n",
        "\n",
        "print(\"\\n--- Evaluating Best Attention Model on Test Set ---\")\n",
        "# Ensure model_attn, test_loader, criterion_attn, device are accessible\n",
        "test_loss_attn, test_acc_attn = attn_evaluate(model_attn, test_loader, criterion_attn, device)\n",
        "\n",
        "print(f\"\\nFinal Test Results for Attention Model:\")\n",
        "print(f\"Test Loss: {test_loss_attn:.4f}\")\n",
        "print(f\"✅ Sequence Accuracy: {test_acc_attn * 100:.2f}%\")\n",
        "\n",
        "# --- Evaluate the best Attention model on the test set ---\n",
        "\n",
        "# Need to create the test_loader\n",
        "# test_dataset = TensorDataset(torch.tensor(test_enc_input, dtype=torch.long),\n",
        "#                               torch.tensor(test_dec_input, dtype=torch.long),\n",
        "#                               torch.tensor(test_dec_target, dtype=torch.float))\n",
        "# test_loader = DataLoader(test_dataset, batch_size=64) # Use the same batch size\n",
        "\n",
        "print(\"\\n--- Evaluating Best Attention Model on Test Set ---\")\n",
        "# Ensure model_attn, test_loader, criterion_attn, device are accessible\n",
        "test_loss_attn, test_acc_attn = attn_evaluate(model_attn, test_loader, criterion_attn, device)\n",
        "\n",
        "print(f\"\\nFinal Test Results for Attention Model:\")\n",
        "print(f\"Test Loss: {test_loss_attn:.4f}\")\n",
        "print(f\"✅ Sequence Accuracy: {test_acc_attn * 100:.2f}%\")\n",
        "\n",
        "# Now run the test function for the attention model\n",
        "# Ensure model_attn, test_loader, criterion_attn, max_decoder_seq_length are accessible\n",
        "print(\"\\n🧪 Running comprehensive test for Attention Model...\")\n",
        "test_loss_attn_comp, test_acc_attn_comp, test_inputs_attn, test_preds_attn, test_targets_attn, char_acc_attn = test_attn(model_attn, test_loader, criterion_attn, max_len=max_decoder_seq_length)\n",
        "\n",
        "print(f\"\\n📊 Final Comprehensive Test Results for Attention Model:\")\n",
        "print(f\"Test Loss: {test_loss_attn_comp:.4f}\")\n",
        "print(f\"✅ Sequence Accuracy: {test_acc_attn_comp * 100:.2f}%\")\n",
        "print(f\"✅ Character Accuracy: {char_acc_attn * 100:.2f}%\")\n",
        "\n",
        "# Save predictions for analysis\n",
        "results_df_attn = pd.DataFrame({\n",
        "    'input': test_inputs_attn,\n",
        "    'predicted': test_preds_attn,\n",
        "    'true': test_targets_attn,\n",
        "    'correct': [p == t for p, t in zip(test_preds_attn, test_targets_attn)]\n",
        "})\n",
        "\n",
        "os.makedirs(\"predictions_attention\", exist_ok=True)\n",
        "output_path_attn = os.path.join(\"predictions_attention\", \"full_predictions_attn.csv\")\n",
        "results_df_attn.to_csv(output_path_attn, index=False, encoding='utf-8')\n",
        "print(f\"💾 Saved test predictions to '{output_path_attn}'\")\n",
        "\n",
        "# Visualize sample predictions for Attention Model (Optional, using the same visualization code)\n",
        "# Need to get samples from the test_loader again if you want fresh samples\n",
        "# Ensure test_loader.dataset is accessible\n",
        "samples_attn = random.sample(list(test_loader.dataset), 12) # Get 12 random samples for visualization\n",
        "\n",
        "rows_attn = []\n",
        "# Ensure target_char_enc is accessible\n",
        "target_char_decoder_dict = {v: k for k, v in target_char_enc.items()} # Re-create decoder dict\n",
        "\n",
        "# Ensure tamil_font is accessible (requires previous matplotlib/font setup cell to be run)\n",
        "try:\n",
        "    tamil_font = FontProperties(fname='/usr/share/fonts/truetype/noto/NotoSansTamil-Regular.ttf', size=12)\n",
        "except:\n",
        "    print(\"Warning: Noto Sans Tamil font not found. Using default font for visualization.\")\n",
        "    tamil_font = FontProperties(size=12)\n",
        "\n",
        "\n",
        "for src, trg_inp, trg_target in samples_attn:\n",
        "    # Decode input from src (tensor) using input_char_dec (list)\n",
        "    # Ensure input_char_dec is accessible\n",
        "    input_text = decode_sequence(src.tolist(), input_char_dec, ignore_special_chars=True)\n",
        "    # Decode target from trg_target (one-hot tensor) using target_char_dec (list)\n",
        "    # Ensure target_char_dec is accessible\n",
        "    target_text = decode_sequence(trg_target.argmax(-1).tolist(), target_char_dec, ignore_special_chars=True) # Correctly decode target from trg_target\n",
        "    # Predict using the predict method for attention model\n",
        "    src_tensor = src.unsqueeze(0).to(device)\n",
        "    # Ensure PAD_token is accessible for src_lens_tensor calculation\n",
        "    if 'PAD_token' in globals():\n",
        "         src_lens_tensor = torch.tensor([(src != PAD_token).sum()], dtype=torch.long).to(device)\n",
        "    else:\n",
        "         # Handle case where PAD_token is not available, assuming max length\n",
        "         src_lens_tensor = torch.tensor([src.size(0)], dtype=torch.long).to(device)\n",
        "\n",
        "\n",
        "    # Ensure model_attn and max_decoder_seq_length are accessible\n",
        "    predicted_indices = model_attn.predict(src_tensor, src_lens_tensor, max_len=max_decoder_seq_length)[0].cpu().numpy()\n",
        "    predicted_text = decode_sequence(predicted_indices, target_char_dec, ignore_special_chars=True)\n",
        "\n",
        "    lev_dist = levenshtein_distance(predicted_text, target_text)\n",
        "\n",
        "    rows_attn.append({\n",
        "        \"input\": input_text,\n",
        "        \"target\": target_text,\n",
        "        \"predicted\": predicted_text,\n",
        "        \"levenshtein\": lev_dist\n",
        "    })\n",
        "\n",
        "# Visualization code (re-using the same structure)\n",
        "n_cols = 3\n",
        "n_rows = -(-len(rows_attn) // n_cols)  # Ceiling division\n",
        "fig, axarr = plt.subplots(n_rows, n_cols, figsize=(18, n_rows * 2.5))\n",
        "fig.patch.set_facecolor('#f8f9fa')\n",
        "plt.subplots_adjust(hspace=0.6)\n",
        "\n",
        "# Flatten axarr if it's a 2D array\n",
        "if n_rows > 1:\n",
        "    axarr_flat = axarr.flatten()\n",
        "else:\n",
        "    axarr_flat = axarr\n",
        "\n",
        "\n",
        "for idx, row in enumerate(rows_attn):\n",
        "    ax = axarr_flat[idx] # Use flattened array\n",
        "    ax.axis('off')\n",
        "    ax.set_xlim(0, 1)\n",
        "    ax.set_ylim(0, 1)\n",
        "\n",
        "    # Background color based on accuracy\n",
        "    ax.add_patch(patches.Rectangle((0, 0), 1, 1, color=get_color(row['levenshtein']), alpha=0.3))\n",
        "\n",
        "    # Text elements\n",
        "    ax.text(0.02, 0.85, \"Input:\", fontsize=10, fontweight='bold', va='top')\n",
        "    ax.text(0.18, 0.85, row['input'], fontsize=12, family='monospace')\n",
        "\n",
        "    ax.text(0.02, 0.65, \"Target:\", fontsize=10, fontweight='bold', va='top')\n",
        "    ax.text(0.18, 0.60, row['target'], fontproperties=tamil_font)\n",
        "\n",
        "    ax.text(0.02, 0.45, \"Predicted:\", fontsize=10, fontweight='bold', va='top')\n",
        "    ax.text(0.25, 0.40, row['predicted'], fontproperties=tamil_font)\n",
        "\n",
        "    ax.text(0.02, 0.2, f\"Lev. Distance: {row['levenshtein']}\", fontsize=9,\n",
        "            bbox=dict(facecolor='white', alpha=0.7, edgecolor='gray', boxstyle='round,pad=0.3'))\n",
        "\n",
        "# Hide unused subplots\n",
        "for j in range(len(rows_attn), n_rows * n_cols):\n",
        "    ax = axarr_flat[j] # Use flattened array\n",
        "    ax.axis('off')\n",
        "\n",
        "plt.suptitle(\"📊 Attention Model Predictions (Latin → Tamil)\", fontsize=16, fontweight='bold', y=1.02)\n",
        "plt.tight_layout()\n",
        "\n",
        "# Save and show\n",
        "plt.savefig('tamil_predictions_attn.png', bbox_inches='tight', dpi=300)\n",
        "plt.show()\n",
        "\n",
        "print(f\"\\n📈 Summary for {len(rows_attn)} sample predictions (Attention Model):\")\n",
        "total_lev_attn = sum(row['levenshtein'] for row in rows_attn)\n",
        "print(f\"Average Levenshtein distance: {total_lev_attn/len(rows_attn):.2f}\")\n",
        "print(f\"Perfect predictions: {sum(1 for row in rows_attn if row['levenshtein'] == 0)}/{len(rows_attn)}\")\n",
        "print(f\"Good predictions (distance ≤ 2): {sum(1 for row in rows_attn if row['levenshtein'] <= 2)}/{len(rows_attn)}\")"
      ],
      "metadata": {
        "colab": {
          "base_uri": "https://localhost:8080/",
          "height": 1000
        },
        "id": "_SU8TSGQfTsD",
        "outputId": "584fb044-17c6-4d89-dfb2-f5821df0a166"
      },
      "execution_count": 18,
      "outputs": [
        {
          "output_type": "stream",
          "name": "stdout",
          "text": [
            "\n",
            "--- Evaluating Best Attention Model on Test Set ---\n"
          ]
        },
        {
          "output_type": "stream",
          "name": "stderr",
          "text": []
        },
        {
          "output_type": "stream",
          "name": "stdout",
          "text": [
            "\n",
            "Final Test Results for Attention Model:\n",
            "Test Loss: 0.3577\n",
            "✅ Sequence Accuracy: 90.50%\n",
            "\n",
            "--- Evaluating Best Attention Model on Test Set ---\n"
          ]
        },
        {
          "output_type": "stream",
          "name": "stderr",
          "text": []
        },
        {
          "output_type": "stream",
          "name": "stdout",
          "text": [
            "\n",
            "Final Test Results for Attention Model:\n",
            "Test Loss: 0.3577\n",
            "✅ Sequence Accuracy: 90.50%\n",
            "\n",
            "🧪 Running comprehensive test for Attention Model...\n"
          ]
        },
        {
          "output_type": "stream",
          "name": "stderr",
          "text": [
            "Testing Attention Model: 100%|██████████| 108/108 [01:12<00:00,  1.48it/s]\n"
          ]
        },
        {
          "output_type": "stream",
          "name": "stdout",
          "text": [
            "\n",
            "📊 Final Comprehensive Test Results for Attention Model:\n",
            "Test Loss: 0.3549\n",
            "✅ Sequence Accuracy: 90.59%\n",
            "✅ Character Accuracy: 71.07%\n",
            "💾 Saved test predictions to 'predictions_attention/full_predictions_attn.csv'\n"
          ]
        },
        {
          "output_type": "stream",
          "name": "stderr",
          "text": [
            "<ipython-input-18-b84be5d8aeb5>:322: UserWarning: Glyph 108 (l) missing from font(s) Noto Sans Tamil.\n",
            "  plt.tight_layout()\n",
            "<ipython-input-18-b84be5d8aeb5>:322: UserWarning: Glyph 112 (p) missing from font(s) Noto Sans Tamil.\n",
            "  plt.tight_layout()\n",
            "<ipython-input-18-b84be5d8aeb5>:322: UserWarning: Glyph 128202 (\\N{BAR CHART}) missing from font(s) DejaVu Sans.\n",
            "  plt.tight_layout()\n",
            "<ipython-input-18-b84be5d8aeb5>:325: UserWarning: Glyph 108 (l) missing from font(s) Noto Sans Tamil.\n",
            "  plt.savefig('tamil_predictions_attn.png', bbox_inches='tight', dpi=300)\n",
            "<ipython-input-18-b84be5d8aeb5>:325: UserWarning: Glyph 112 (p) missing from font(s) Noto Sans Tamil.\n",
            "  plt.savefig('tamil_predictions_attn.png', bbox_inches='tight', dpi=300)\n",
            "<ipython-input-18-b84be5d8aeb5>:325: UserWarning: Glyph 128202 (\\N{BAR CHART}) missing from font(s) DejaVu Sans.\n",
            "  plt.savefig('tamil_predictions_attn.png', bbox_inches='tight', dpi=300)\n",
            "/usr/local/lib/python3.11/dist-packages/IPython/core/pylabtools.py:151: UserWarning: Glyph 108 (l) missing from font(s) Noto Sans Tamil.\n",
            "  fig.canvas.print_figure(bytes_io, **kw)\n",
            "/usr/local/lib/python3.11/dist-packages/IPython/core/pylabtools.py:151: UserWarning: Glyph 112 (p) missing from font(s) Noto Sans Tamil.\n",
            "  fig.canvas.print_figure(bytes_io, **kw)\n",
            "/usr/local/lib/python3.11/dist-packages/IPython/core/pylabtools.py:151: UserWarning: Glyph 128202 (\\N{BAR CHART}) missing from font(s) DejaVu Sans.\n",
            "  fig.canvas.print_figure(bytes_io, **kw)\n"
          ]
        },
        {
          "output_type": "display_data",
          "data": {
            "text/plain": [
              "<Figure size 1800x1000 with 12 Axes>"
            ],
            "image/png": "[encoded data removed]"
          },
          "metadata": {}
        },
        {
          "output_type": "stream",
          "name": "stdout",
          "text": [
            "\n",
            "📈 Summary for 12 sample predictions (Attention Model):\n",
            "Average Levenshtein distance: 3.83\n",
            "Perfect predictions: 0/12\n",
            "Good predictions (distance ≤ 2): 4/12\n"
          ]
        }
      ]
    },
    {
      "cell_type": "code",
      "source": [
        "# Function to get attention weights for a single sample\n",
        "def get_attention_weights(model, src_tensor, src_len, trg_tensor, max_len=20):\n",
        "    model.eval()\n",
        "    with torch.no_grad():\n",
        "        src_tensor = src_tensor.unsqueeze(0).to(device)  # Add batch dimension\n",
        "        src_len_tensor = torch.tensor([src_len], dtype=torch.long).to(device)\n",
        "        trg_tensor = trg_tensor.unsqueeze(0).to(device) # Add batch dimension\n",
        "\n",
        "        # Encode input\n",
        "        encoder_outputs, hidden = model.encoder(src_tensor, src_len_tensor)\n",
        "\n",
        "        # Initialize decoder hidden state\n",
        "        if model.decoder.cell_type == 'LSTM':\n",
        "            if isinstance(hidden, tuple):\n",
        "                decoder_hidden = (hidden[0][-model.decoder.rnn.num_layers:],\n",
        "                                 hidden[1][-model.decoder.rnn.num_layers:])\n",
        "            else:\n",
        "                decoder_hidden = (hidden[-model.decoder.rnn.num_layers:],\n",
        "                                 hidden[-model.decoder.rnn.num_layers:])\n",
        "        else:\n",
        "            if isinstance(hidden, tuple):\n",
        "                decoder_hidden = hidden[0][-model.decoder.rnn.num_layers:]\n",
        "            else:\n",
        "                decoder_hidden = hidden[-model.decoder.rnn.num_layers:]\n",
        "\n",
        "        # Start with SOS token\n",
        "        input = torch.full((1,), SOS_token, dtype=torch.long).to(device)\n",
        "\n",
        "        attention_weights_list = []\n",
        "        predicted_indices = []\n",
        "\n",
        "        # Assuming target_char_decoder exists and SOS_token is its index\n",
        "        target_char_decoder = {v: k for k, v in target_char_enc.items()}\n",
        "        output_vocab_size = len(target_char_enc)\n",
        "\n",
        "\n",
        "        # Decode step by step\n",
        "        for t in range(max_len):\n",
        "            # Extract appropriate hidden state for attention calculation\n",
        "            if isinstance(decoder_hidden, tuple): # If hidden is (h, c)\n",
        "                 h_attn = decoder_hidden[0][-1] # (batch, hidden_dim)\n",
        "            else: # If hidden is just h\n",
        "                 h_attn = decoder_hidden[-1] # (batch, hidden_dim)\n",
        "\n",
        "            # Calculate attention weights\n",
        "            attn_weights = model.decoder.attention(h_attn, encoder_outputs).squeeze(0) # (src_len)\n",
        "            attention_weights_list.append(attn_weights.cpu().numpy())\n",
        "\n",
        "            # Calculate context vector (not strictly needed for heatmap, but part of decoder)\n",
        "            context = torch.bmm(attn_weights.unsqueeze(0).unsqueeze(0), encoder_outputs).squeeze(1) # (1, hidden_dim)\n",
        "\n",
        "            # Decoder RNN input\n",
        "            embedded = model.decoder.embedding(input).unsqueeze(1) # (1, 1, embed_dim)\n",
        "            # Ensure context has correct shape (batch_size, seq_len, hidden_dim) for concatenation\n",
        "            # It should be (1, 1, hidden_dim) for this step\n",
        "            context = context.unsqueeze(1) # (1, 1, hidden_dim)\n",
        "            rnn_input = torch.cat((embedded, context), dim=2) # (1, 1, embed + hidden)\n",
        "\n",
        "\n",
        "            # Prepare hidden state for the decoder RNN\n",
        "            # The shape of decoder_hidden needs to be (num_layers, batch_size, hidden_dim) for RNN/GRU\n",
        "            # or ((num_layers, batch_size, hidden_dim), (num_layers, batch_size, hidden_dim)) for LSTM\n",
        "            # Ensure the decoder's RNN expects num_layers in the first dimension if batch_first=True\n",
        "            # based on the model definition, RNN expects (batch, seq_len, hidden_size) input\n",
        "            # and (num_layers * num_directions, batch, hidden_size) for hidden state\n",
        "            # Our current `decoder_hidden` has shape (num_layers, batch_size, hidden_dim) or tuple of that\n",
        "            # which matches the expected hidden state format when batch_first=True is used in RNN/GRU/LSTM.\n",
        "            # So, no change needed here unless the RNN definition changes.\n",
        "            hidden_rnn = decoder_hidden\n",
        "\n",
        "\n",
        "            # Decode one step\n",
        "            output, decoder_hidden = model.decoder.rnn(rnn_input, hidden_rnn)\n",
        "\n",
        "            # Predict output character\n",
        "            # Concatenate output and context before final linear layer\n",
        "            # output shape from RNN: (1, 1, hidden_dim)\n",
        "            # context shape: (1, 1, hidden_dim) - from above unsqueeze(1)\n",
        "            # Need to squeeze seq_len dimension before concatenation for fc_out\n",
        "            output = model.decoder.fc_out(torch.cat((output.squeeze(1), context.squeeze(1)), dim=1)) # (1, vocab_size)\n",
        "\n",
        "            top1 = output.argmax(1) # (1)\n",
        "\n",
        "            predicted_indices.append(top1.item())\n",
        "\n",
        "            # Stop if EOS token is predicted\n",
        "            if top1.item() == EOS_token:\n",
        "                 break\n",
        "\n",
        "            input = top1 # Use prediction as next input\n",
        "\n",
        "\n",
        "        # Convert list of weights to a numpy array (trg_len, src_len)\n",
        "        attention_weights = np.array(attention_weights_list)\n",
        "\n",
        "        # Get corresponding predicted tokens (excluding SOS)\n",
        "        # Ensure target_char_decoder is accessible\n",
        "        if 'target_char_enc' in globals():\n",
        "             target_char_decoder = {v: k for k, v in target_char_enc.items()}\n",
        "        else:\n",
        "             print(\"Warning: target_char_enc not found. Cannot decode predicted tokens.\")\n",
        "             target_char_decoder = {} # Use empty dict if not found\n",
        "\n",
        "\n",
        "        predicted_tokens = [target_char_decoder.get(idx, '?') for idx in predicted_indices]\n",
        "\n",
        "\n",
        "        return attention_weights, predicted_tokens\n",
        "\n",
        "# Select 10 random samples from the test set for visualization\n",
        "# Ensure test_loader is accessible\n",
        "if 'test_loader' in globals() and test_loader is not None and len(test_loader.dataset) > 0:\n",
        "    sample_indices = random.sample(range(len(test_loader.dataset)), min(10, len(test_loader.dataset))) # Ensure we don't sample more than available\n",
        "    samples_to_visualize = [test_loader.dataset[i] for i in sample_indices]\n",
        "    print(f\"\\n--- Generating Attention Heatmaps for {len(samples_to_visualize)} Samples ---\")\n",
        "else:\n",
        "    samples_to_visualize = []\n",
        "    print(\"\\nWarning: Test loader dataset is empty or not available. Cannot generate heatmaps.\")\n",
        "\n",
        "\n",
        "# Setup plot for 3x3 grid\n",
        "n_cols = 3\n",
        "n_rows = -(-len(samples_to_visualize) // n_cols) # Ceiling division\n",
        "\n",
        "fig, axes = plt.subplots(n_rows, n_cols, figsize=(5 * n_cols, 5 * n_rows))\n",
        "axes = axes.flatten() # Flatten to easily iterate\n",
        "\n",
        "\n",
        "# Loop through samples and plot\n",
        "for i, (src_tensor, trg_inp_tensor, trg_target_tensor) in enumerate(samples_to_visualize):\n",
        "    # Get attention weights and predicted tokens\n",
        "    # Ensure PAD_token is accessible\n",
        "    if 'PAD_token' in globals():\n",
        "        src_len = (src_tensor != PAD_token).sum().item()\n",
        "    else:\n",
        "        # Assume full length if PAD_token is not defined\n",
        "        src_len = src_tensor.size(0)\n",
        "        print(\"Warning: PAD_token not found. Assuming full source length for heatmap.\")\n",
        "\n",
        "\n",
        "    # Ensure model_attn and max_decoder_seq_length are accessible\n",
        "    if 'model_attn' in globals() and model_attn is not None and 'max_decoder_seq_length' in globals():\n",
        "        attention_weights, predicted_tokens = get_attention_weights(model_attn, src_tensor, src_len, trg_inp_tensor, max_len=max_decoder_seq_length)\n",
        "    else:\n",
        "        print(f\"Error: model_attn or max_decoder_seq_length not available for sample {i+1}. Skipping heatmap.\")\n",
        "        continue\n",
        "\n",
        "\n",
        "    # Decode input string\n",
        "    input_text_indices = src_tensor.tolist()[:src_len] # Only take up to the actual length\n",
        "    # Corrected: Use list indexing for input_char_dec\n",
        "    # Ensure input_char_dec is accessible\n",
        "    if 'input_char_dec' in globals():\n",
        "        input_tokens = [input_char_dec[idx] if 0 <= idx < len(input_char_dec) else '?' for idx in input_text_indices if 'PAD_token' in globals() and idx != PAD_token]\n",
        "    else:\n",
        "         print(\"Warning: input_char_dec not found. Cannot decode input tokens.\")\n",
        "         input_tokens = [str(idx) for idx in input_text_indices if 'PAD_token' in globals() and idx != PAD_token] # Use indices as strings\n",
        "\n",
        "\n",
        "    # Remove trailing blank tokens from predicted tokens for visualization\n",
        "    # Ensure PAD_token and EOS_token are accessible\n",
        "    ignore_for_viz = set()\n",
        "    if 'PAD_token' in globals() and 'target_char_decoder' in locals():\n",
        "        ignore_for_viz.add(target_char_decoder.get(PAD_token, '?'))\n",
        "    if 'EOS_token' in globals() and 'target_char_decoder' in locals():\n",
        "         ignore_for_viz.add(target_char_decoder.get(EOS_token, '?'))\n",
        "\n",
        "    while predicted_tokens and predicted_tokens[-1] in ignore_for_viz:\n",
        "        predicted_tokens.pop()\n",
        "\n",
        "    # Plot the heatmap\n",
        "    ax = axes[i]\n",
        "    # Ensure attention_weights is not empty before plotting\n",
        "    if attention_weights.shape[0] > 0 and attention_weights.shape[1] > 0:\n",
        "        cax = ax.imshow(attention_weights, cmap='viridis', aspect='auto')\n",
        "        fig.colorbar(cax, ax=ax)\n",
        "    else:\n",
        "        ax.text(0.5, 0.5, \"No Attention Data\", horizontalalignment='center', verticalalignment='center')\n",
        "        print(f\"Warning: Attention weights shape is {attention_weights.shape} for sample {i+1}. Cannot plot heatmap.\")\n",
        "        continue # Skip plotting for this sample\n",
        "\n",
        "    # Set labels\n",
        "    ax.set_xticks(np.arange(len(input_tokens)))\n",
        "    ax.set_yticks(np.arange(len(predicted_tokens)))\n",
        "    ax.set_xticklabels(input_tokens)\n",
        "    # Ensure tamil_font is accessible\n",
        "    try:\n",
        "        ax.set_yticklabels(predicted_tokens, fontproperties=tamil_font) # Use Tamil font for output labels\n",
        "    except:\n",
        "        print(\"Warning: Could not set yticklabels with tamil_font. Using default font.\")\n",
        "        ax.set_yticklabels(predicted_tokens)\n",
        "\n",
        "\n",
        "    # Rotate input labels for better readability\n",
        "    plt.setp(ax.get_xticklabels(), rotation=90, ha=\"right\")\n",
        "\n",
        "    ax.set_xlabel(\"Input (Latin)\")\n",
        "    ax.set_ylabel(\"Predicted Output (Tamil)\")\n",
        "    ax.set_title(f\"Sample {i+1}\")\n",
        "\n",
        "\n",
        "# Hide any unused subplots\n",
        "for j in range(len(samples_to_visualize), len(axes)):\n",
        "    axes[j].axis('off')\n",
        "\n",
        "\n",
        "plt.suptitle(\"Attention Heatmaps (Input -> Predicted Output)\", fontsize=18, y=1.02)\n",
        "plt.tight_layout()\n",
        "plt.show()"
      ],
      "metadata": {
        "colab": {
          "base_uri": "https://localhost:8080/",
          "height": 1000
        },
        "id": "Dxwc7uvNLd65",
        "outputId": "c478996c-6901-4d8e-e060-462c11c7c72d"
      },
      "execution_count": 20,
      "outputs": [
        {
          "output_type": "stream",
          "name": "stdout",
          "text": [
            "\n",
            "--- Generating Attention Heatmaps for 10 Samples ---\n"
          ]
        },
        {
          "output_type": "stream",
          "name": "stderr",
          "text": [
            "<ipython-input-20-997e8248134a>:208: UserWarning: Glyph 108 (l) missing from font(s) Noto Sans Tamil.\n",
            "  plt.tight_layout()\n",
            "<ipython-input-20-997e8248134a>:208: UserWarning: Glyph 112 (p) missing from font(s) Noto Sans Tamil.\n",
            "  plt.tight_layout()\n",
            "/usr/local/lib/python3.11/dist-packages/IPython/core/pylabtools.py:151: UserWarning: Glyph 108 (l) missing from font(s) Noto Sans Tamil.\n",
            "  fig.canvas.print_figure(bytes_io, **kw)\n",
            "/usr/local/lib/python3.11/dist-packages/IPython/core/pylabtools.py:151: UserWarning: Glyph 112 (p) missing from font(s) Noto Sans Tamil.\n",
            "  fig.canvas.print_figure(bytes_io, **kw)\n"
          ]
        },
        {
          "output_type": "display_data",
          "data": {
            "text/plain": [
              "<Figure size 1500x2000 with 22 Axes>"
            ],
            "image/png": "[encoded data removed]"
          },
          "metadata": {}
        }
      ]
    }
  ]
}